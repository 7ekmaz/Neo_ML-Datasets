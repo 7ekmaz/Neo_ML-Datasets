{
 "cells": [
  {
   "cell_type": "markdown",
   "id": "ab60186a-ce32-4e05-892a-a20fe22caf08",
   "metadata": {},
   "source": [
    "# <b> Kareem Wael (Project 4) </b>"
   ]
  },
  {
   "cell_type": "markdown",
   "id": "342b0fc7-9141-4634-b905-1ddb97dd8621",
   "metadata": {},
   "source": [
    "---"
   ]
  },
  {
   "cell_type": "markdown",
   "id": "d1692855-24d2-4544-8468-c12198a37921",
   "metadata": {},
   "source": [
    "---\n",
    "\n"
   ]
  },
  {
   "cell_type": "code",
   "execution_count": 4,
   "id": "288b0335-8003-4019-83a4-4313d92fc4f3",
   "metadata": {},
   "outputs": [],
   "source": [
    "import pandas as pd\n",
    "import numpy as np\n",
    "import matplotlib.pyplot as plt\n",
    "import seaborn as sns\n",
    "import re\n",
    "import warnings\n",
    "warnings.filterwarnings('ignore')\n",
    "%matplotlib inline"
   ]
  },
  {
   "cell_type": "markdown",
   "id": "ccb7337b-213b-49f5-8588-12cdc920e07c",
   "metadata": {},
   "source": [
    "## Reading the Data"
   ]
  },
  {
   "cell_type": "code",
   "execution_count": 6,
   "id": "374441df-d456-40f5-82f8-42f7ff2bdae5",
   "metadata": {},
   "outputs": [
    {
     "data": {
      "text/html": [
       "<div>\n",
       "<style scoped>\n",
       "    .dataframe tbody tr th:only-of-type {\n",
       "        vertical-align: middle;\n",
       "    }\n",
       "\n",
       "    .dataframe tbody tr th {\n",
       "        vertical-align: top;\n",
       "    }\n",
       "\n",
       "    .dataframe thead th {\n",
       "        text-align: right;\n",
       "    }\n",
       "</style>\n",
       "<table border=\"1\" class=\"dataframe\">\n",
       "  <thead>\n",
       "    <tr style=\"text-align: right;\">\n",
       "      <th></th>\n",
       "      <th>ID</th>\n",
       "      <th>Customer_ID</th>\n",
       "      <th>Month</th>\n",
       "      <th>Name</th>\n",
       "      <th>Age</th>\n",
       "      <th>SSN</th>\n",
       "      <th>Occupation</th>\n",
       "      <th>Annual_Income</th>\n",
       "      <th>Monthly_Inhand_Salary</th>\n",
       "      <th>Num_Bank_Accounts</th>\n",
       "      <th>...</th>\n",
       "      <th>Credit_Mix</th>\n",
       "      <th>Outstanding_Debt</th>\n",
       "      <th>Credit_Utilization_Ratio</th>\n",
       "      <th>Credit_History_Age</th>\n",
       "      <th>Payment_of_Min_Amount</th>\n",
       "      <th>Total_EMI_per_month</th>\n",
       "      <th>Amount_invested_monthly</th>\n",
       "      <th>Payment_Behaviour</th>\n",
       "      <th>Monthly_Balance</th>\n",
       "      <th>Credit_Score</th>\n",
       "    </tr>\n",
       "  </thead>\n",
       "  <tbody>\n",
       "    <tr>\n",
       "      <th>0</th>\n",
       "      <td>0x1602</td>\n",
       "      <td>CUS_0xd40</td>\n",
       "      <td>January</td>\n",
       "      <td>Aaron Maashoh</td>\n",
       "      <td>23</td>\n",
       "      <td>821-00-0265</td>\n",
       "      <td>Scientist</td>\n",
       "      <td>19114.12</td>\n",
       "      <td>1824.843333</td>\n",
       "      <td>3</td>\n",
       "      <td>...</td>\n",
       "      <td>_</td>\n",
       "      <td>809.98</td>\n",
       "      <td>26.822620</td>\n",
       "      <td>22 Years and 1 Months</td>\n",
       "      <td>No</td>\n",
       "      <td>49.574949</td>\n",
       "      <td>80.41529543900253</td>\n",
       "      <td>High_spent_Small_value_payments</td>\n",
       "      <td>312.49408867943663</td>\n",
       "      <td>Good</td>\n",
       "    </tr>\n",
       "    <tr>\n",
       "      <th>1</th>\n",
       "      <td>0x1603</td>\n",
       "      <td>CUS_0xd40</td>\n",
       "      <td>February</td>\n",
       "      <td>Aaron Maashoh</td>\n",
       "      <td>23</td>\n",
       "      <td>821-00-0265</td>\n",
       "      <td>Scientist</td>\n",
       "      <td>19114.12</td>\n",
       "      <td>NaN</td>\n",
       "      <td>3</td>\n",
       "      <td>...</td>\n",
       "      <td>Good</td>\n",
       "      <td>809.98</td>\n",
       "      <td>31.944960</td>\n",
       "      <td>NaN</td>\n",
       "      <td>No</td>\n",
       "      <td>49.574949</td>\n",
       "      <td>118.28022162236736</td>\n",
       "      <td>Low_spent_Large_value_payments</td>\n",
       "      <td>284.62916249607184</td>\n",
       "      <td>Good</td>\n",
       "    </tr>\n",
       "    <tr>\n",
       "      <th>2</th>\n",
       "      <td>0x1604</td>\n",
       "      <td>CUS_0xd40</td>\n",
       "      <td>March</td>\n",
       "      <td>Aaron Maashoh</td>\n",
       "      <td>-500</td>\n",
       "      <td>821-00-0265</td>\n",
       "      <td>Scientist</td>\n",
       "      <td>19114.12</td>\n",
       "      <td>NaN</td>\n",
       "      <td>3</td>\n",
       "      <td>...</td>\n",
       "      <td>Good</td>\n",
       "      <td>809.98</td>\n",
       "      <td>28.609352</td>\n",
       "      <td>22 Years and 3 Months</td>\n",
       "      <td>No</td>\n",
       "      <td>49.574949</td>\n",
       "      <td>81.699521264648</td>\n",
       "      <td>Low_spent_Medium_value_payments</td>\n",
       "      <td>331.2098628537912</td>\n",
       "      <td>Good</td>\n",
       "    </tr>\n",
       "    <tr>\n",
       "      <th>3</th>\n",
       "      <td>0x1605</td>\n",
       "      <td>CUS_0xd40</td>\n",
       "      <td>April</td>\n",
       "      <td>Aaron Maashoh</td>\n",
       "      <td>23</td>\n",
       "      <td>821-00-0265</td>\n",
       "      <td>Scientist</td>\n",
       "      <td>19114.12</td>\n",
       "      <td>NaN</td>\n",
       "      <td>3</td>\n",
       "      <td>...</td>\n",
       "      <td>Good</td>\n",
       "      <td>809.98</td>\n",
       "      <td>31.377862</td>\n",
       "      <td>22 Years and 4 Months</td>\n",
       "      <td>No</td>\n",
       "      <td>49.574949</td>\n",
       "      <td>199.4580743910713</td>\n",
       "      <td>Low_spent_Small_value_payments</td>\n",
       "      <td>223.45130972736786</td>\n",
       "      <td>Good</td>\n",
       "    </tr>\n",
       "    <tr>\n",
       "      <th>4</th>\n",
       "      <td>0x1606</td>\n",
       "      <td>CUS_0xd40</td>\n",
       "      <td>May</td>\n",
       "      <td>Aaron Maashoh</td>\n",
       "      <td>23</td>\n",
       "      <td>821-00-0265</td>\n",
       "      <td>Scientist</td>\n",
       "      <td>19114.12</td>\n",
       "      <td>1824.843333</td>\n",
       "      <td>3</td>\n",
       "      <td>...</td>\n",
       "      <td>Good</td>\n",
       "      <td>809.98</td>\n",
       "      <td>24.797347</td>\n",
       "      <td>22 Years and 5 Months</td>\n",
       "      <td>No</td>\n",
       "      <td>49.574949</td>\n",
       "      <td>41.420153086217326</td>\n",
       "      <td>High_spent_Medium_value_payments</td>\n",
       "      <td>341.48923103222177</td>\n",
       "      <td>Good</td>\n",
       "    </tr>\n",
       "  </tbody>\n",
       "</table>\n",
       "<p>5 rows × 28 columns</p>\n",
       "</div>"
      ],
      "text/plain": [
       "       ID Customer_ID     Month           Name   Age          SSN Occupation  \\\n",
       "0  0x1602   CUS_0xd40   January  Aaron Maashoh    23  821-00-0265  Scientist   \n",
       "1  0x1603   CUS_0xd40  February  Aaron Maashoh    23  821-00-0265  Scientist   \n",
       "2  0x1604   CUS_0xd40     March  Aaron Maashoh  -500  821-00-0265  Scientist   \n",
       "3  0x1605   CUS_0xd40     April  Aaron Maashoh    23  821-00-0265  Scientist   \n",
       "4  0x1606   CUS_0xd40       May  Aaron Maashoh    23  821-00-0265  Scientist   \n",
       "\n",
       "  Annual_Income  Monthly_Inhand_Salary  Num_Bank_Accounts  ...  Credit_Mix  \\\n",
       "0      19114.12            1824.843333                  3  ...           _   \n",
       "1      19114.12                    NaN                  3  ...        Good   \n",
       "2      19114.12                    NaN                  3  ...        Good   \n",
       "3      19114.12                    NaN                  3  ...        Good   \n",
       "4      19114.12            1824.843333                  3  ...        Good   \n",
       "\n",
       "   Outstanding_Debt Credit_Utilization_Ratio     Credit_History_Age  \\\n",
       "0            809.98                26.822620  22 Years and 1 Months   \n",
       "1            809.98                31.944960                    NaN   \n",
       "2            809.98                28.609352  22 Years and 3 Months   \n",
       "3            809.98                31.377862  22 Years and 4 Months   \n",
       "4            809.98                24.797347  22 Years and 5 Months   \n",
       "\n",
       "   Payment_of_Min_Amount Total_EMI_per_month Amount_invested_monthly  \\\n",
       "0                     No           49.574949       80.41529543900253   \n",
       "1                     No           49.574949      118.28022162236736   \n",
       "2                     No           49.574949         81.699521264648   \n",
       "3                     No           49.574949       199.4580743910713   \n",
       "4                     No           49.574949      41.420153086217326   \n",
       "\n",
       "                  Payment_Behaviour     Monthly_Balance Credit_Score  \n",
       "0   High_spent_Small_value_payments  312.49408867943663         Good  \n",
       "1    Low_spent_Large_value_payments  284.62916249607184         Good  \n",
       "2   Low_spent_Medium_value_payments   331.2098628537912         Good  \n",
       "3    Low_spent_Small_value_payments  223.45130972736786         Good  \n",
       "4  High_spent_Medium_value_payments  341.48923103222177         Good  \n",
       "\n",
       "[5 rows x 28 columns]"
      ]
     },
     "execution_count": 6,
     "metadata": {},
     "output_type": "execute_result"
    }
   ],
   "source": [
    "data=pd.read_csv(\"train.csv\")\n",
    "data.head()"
   ]
  },
  {
   "cell_type": "code",
   "execution_count": 7,
   "id": "f09d6acf-2125-4b27-81ec-f376d7884160",
   "metadata": {},
   "outputs": [
    {
     "data": {
      "text/plain": [
       "ID                              0\n",
       "Customer_ID                     0\n",
       "Month                           0\n",
       "Name                         9985\n",
       "Age                             0\n",
       "SSN                             0\n",
       "Occupation                      0\n",
       "Annual_Income                   0\n",
       "Monthly_Inhand_Salary       15002\n",
       "Num_Bank_Accounts               0\n",
       "Num_Credit_Card                 0\n",
       "Interest_Rate                   0\n",
       "Num_of_Loan                     0\n",
       "Type_of_Loan                11408\n",
       "Delay_from_due_date             0\n",
       "Num_of_Delayed_Payment       7002\n",
       "Changed_Credit_Limit            0\n",
       "Num_Credit_Inquiries         1965\n",
       "Credit_Mix                      0\n",
       "Outstanding_Debt                0\n",
       "Credit_Utilization_Ratio        0\n",
       "Credit_History_Age           9030\n",
       "Payment_of_Min_Amount           0\n",
       "Total_EMI_per_month             0\n",
       "Amount_invested_monthly      4479\n",
       "Payment_Behaviour               0\n",
       "Monthly_Balance              1200\n",
       "Credit_Score                    0\n",
       "dtype: int64"
      ]
     },
     "execution_count": 7,
     "metadata": {},
     "output_type": "execute_result"
    }
   ],
   "source": [
    "data.isna().sum()"
   ]
  },
  {
   "cell_type": "markdown",
   "id": "ccee7cc8-9931-4d07-b0db-e202b638ad31",
   "metadata": {},
   "source": [
    "---"
   ]
  },
  {
   "cell_type": "markdown",
   "id": "28e1b6dc-7f12-4169-84ac-098db0da4f6b",
   "metadata": {},
   "source": [
    "# Drop the unnecessary Data"
   ]
  },
  {
   "cell_type": "code",
   "execution_count": 10,
   "id": "45c13e08-7114-4cfb-b922-f7b8a3be202f",
   "metadata": {},
   "outputs": [
    {
     "data": {
      "text/plain": [
       "0"
      ]
     },
     "execution_count": 10,
     "metadata": {},
     "output_type": "execute_result"
    }
   ],
   "source": [
    "data.duplicated().sum()"
   ]
  },
  {
   "cell_type": "code",
   "execution_count": 11,
   "id": "8ac5f17a-90a1-4836-8ce6-455412fc1597",
   "metadata": {},
   "outputs": [
    {
     "data": {
      "text/html": [
       "<div>\n",
       "<style scoped>\n",
       "    .dataframe tbody tr th:only-of-type {\n",
       "        vertical-align: middle;\n",
       "    }\n",
       "\n",
       "    .dataframe tbody tr th {\n",
       "        vertical-align: top;\n",
       "    }\n",
       "\n",
       "    .dataframe thead th {\n",
       "        text-align: right;\n",
       "    }\n",
       "</style>\n",
       "<table border=\"1\" class=\"dataframe\">\n",
       "  <thead>\n",
       "    <tr style=\"text-align: right;\">\n",
       "      <th></th>\n",
       "      <th>Customer_ID</th>\n",
       "      <th>Age</th>\n",
       "      <th>Occupation</th>\n",
       "      <th>Annual_Income</th>\n",
       "      <th>Num_Bank_Accounts</th>\n",
       "      <th>Num_Credit_Card</th>\n",
       "      <th>Interest_Rate</th>\n",
       "      <th>Num_of_Loan</th>\n",
       "      <th>Type_of_Loan</th>\n",
       "      <th>Delay_from_due_date</th>\n",
       "      <th>...</th>\n",
       "      <th>Credit_Mix</th>\n",
       "      <th>Outstanding_Debt</th>\n",
       "      <th>Credit_Utilization_Ratio</th>\n",
       "      <th>Credit_History_Age</th>\n",
       "      <th>Payment_of_Min_Amount</th>\n",
       "      <th>Total_EMI_per_month</th>\n",
       "      <th>Amount_invested_monthly</th>\n",
       "      <th>Payment_Behaviour</th>\n",
       "      <th>Monthly_Balance</th>\n",
       "      <th>Credit_Score</th>\n",
       "    </tr>\n",
       "  </thead>\n",
       "  <tbody>\n",
       "    <tr>\n",
       "      <th>0</th>\n",
       "      <td>CUS_0xd40</td>\n",
       "      <td>23</td>\n",
       "      <td>Scientist</td>\n",
       "      <td>19114.12</td>\n",
       "      <td>3</td>\n",
       "      <td>4</td>\n",
       "      <td>3</td>\n",
       "      <td>4</td>\n",
       "      <td>Auto Loan, Credit-Builder Loan, Personal Loan,...</td>\n",
       "      <td>3</td>\n",
       "      <td>...</td>\n",
       "      <td>_</td>\n",
       "      <td>809.98</td>\n",
       "      <td>26.822620</td>\n",
       "      <td>22 Years and 1 Months</td>\n",
       "      <td>No</td>\n",
       "      <td>49.574949</td>\n",
       "      <td>80.41529543900253</td>\n",
       "      <td>High_spent_Small_value_payments</td>\n",
       "      <td>312.49408867943663</td>\n",
       "      <td>Good</td>\n",
       "    </tr>\n",
       "    <tr>\n",
       "      <th>1</th>\n",
       "      <td>CUS_0xd40</td>\n",
       "      <td>23</td>\n",
       "      <td>Scientist</td>\n",
       "      <td>19114.12</td>\n",
       "      <td>3</td>\n",
       "      <td>4</td>\n",
       "      <td>3</td>\n",
       "      <td>4</td>\n",
       "      <td>Auto Loan, Credit-Builder Loan, Personal Loan,...</td>\n",
       "      <td>-1</td>\n",
       "      <td>...</td>\n",
       "      <td>Good</td>\n",
       "      <td>809.98</td>\n",
       "      <td>31.944960</td>\n",
       "      <td>NaN</td>\n",
       "      <td>No</td>\n",
       "      <td>49.574949</td>\n",
       "      <td>118.28022162236736</td>\n",
       "      <td>Low_spent_Large_value_payments</td>\n",
       "      <td>284.62916249607184</td>\n",
       "      <td>Good</td>\n",
       "    </tr>\n",
       "    <tr>\n",
       "      <th>2</th>\n",
       "      <td>CUS_0xd40</td>\n",
       "      <td>-500</td>\n",
       "      <td>Scientist</td>\n",
       "      <td>19114.12</td>\n",
       "      <td>3</td>\n",
       "      <td>4</td>\n",
       "      <td>3</td>\n",
       "      <td>4</td>\n",
       "      <td>Auto Loan, Credit-Builder Loan, Personal Loan,...</td>\n",
       "      <td>3</td>\n",
       "      <td>...</td>\n",
       "      <td>Good</td>\n",
       "      <td>809.98</td>\n",
       "      <td>28.609352</td>\n",
       "      <td>22 Years and 3 Months</td>\n",
       "      <td>No</td>\n",
       "      <td>49.574949</td>\n",
       "      <td>81.699521264648</td>\n",
       "      <td>Low_spent_Medium_value_payments</td>\n",
       "      <td>331.2098628537912</td>\n",
       "      <td>Good</td>\n",
       "    </tr>\n",
       "    <tr>\n",
       "      <th>3</th>\n",
       "      <td>CUS_0xd40</td>\n",
       "      <td>23</td>\n",
       "      <td>Scientist</td>\n",
       "      <td>19114.12</td>\n",
       "      <td>3</td>\n",
       "      <td>4</td>\n",
       "      <td>3</td>\n",
       "      <td>4</td>\n",
       "      <td>Auto Loan, Credit-Builder Loan, Personal Loan,...</td>\n",
       "      <td>5</td>\n",
       "      <td>...</td>\n",
       "      <td>Good</td>\n",
       "      <td>809.98</td>\n",
       "      <td>31.377862</td>\n",
       "      <td>22 Years and 4 Months</td>\n",
       "      <td>No</td>\n",
       "      <td>49.574949</td>\n",
       "      <td>199.4580743910713</td>\n",
       "      <td>Low_spent_Small_value_payments</td>\n",
       "      <td>223.45130972736786</td>\n",
       "      <td>Good</td>\n",
       "    </tr>\n",
       "    <tr>\n",
       "      <th>4</th>\n",
       "      <td>CUS_0xd40</td>\n",
       "      <td>23</td>\n",
       "      <td>Scientist</td>\n",
       "      <td>19114.12</td>\n",
       "      <td>3</td>\n",
       "      <td>4</td>\n",
       "      <td>3</td>\n",
       "      <td>4</td>\n",
       "      <td>Auto Loan, Credit-Builder Loan, Personal Loan,...</td>\n",
       "      <td>6</td>\n",
       "      <td>...</td>\n",
       "      <td>Good</td>\n",
       "      <td>809.98</td>\n",
       "      <td>24.797347</td>\n",
       "      <td>22 Years and 5 Months</td>\n",
       "      <td>No</td>\n",
       "      <td>49.574949</td>\n",
       "      <td>41.420153086217326</td>\n",
       "      <td>High_spent_Medium_value_payments</td>\n",
       "      <td>341.48923103222177</td>\n",
       "      <td>Good</td>\n",
       "    </tr>\n",
       "  </tbody>\n",
       "</table>\n",
       "<p>5 rows × 23 columns</p>\n",
       "</div>"
      ],
      "text/plain": [
       "  Customer_ID   Age Occupation Annual_Income  Num_Bank_Accounts  \\\n",
       "0   CUS_0xd40    23  Scientist      19114.12                  3   \n",
       "1   CUS_0xd40    23  Scientist      19114.12                  3   \n",
       "2   CUS_0xd40  -500  Scientist      19114.12                  3   \n",
       "3   CUS_0xd40    23  Scientist      19114.12                  3   \n",
       "4   CUS_0xd40    23  Scientist      19114.12                  3   \n",
       "\n",
       "   Num_Credit_Card  Interest_Rate Num_of_Loan  \\\n",
       "0                4              3           4   \n",
       "1                4              3           4   \n",
       "2                4              3           4   \n",
       "3                4              3           4   \n",
       "4                4              3           4   \n",
       "\n",
       "                                        Type_of_Loan  Delay_from_due_date  \\\n",
       "0  Auto Loan, Credit-Builder Loan, Personal Loan,...                    3   \n",
       "1  Auto Loan, Credit-Builder Loan, Personal Loan,...                   -1   \n",
       "2  Auto Loan, Credit-Builder Loan, Personal Loan,...                    3   \n",
       "3  Auto Loan, Credit-Builder Loan, Personal Loan,...                    5   \n",
       "4  Auto Loan, Credit-Builder Loan, Personal Loan,...                    6   \n",
       "\n",
       "   ... Credit_Mix Outstanding_Debt  Credit_Utilization_Ratio  \\\n",
       "0  ...          _           809.98                 26.822620   \n",
       "1  ...       Good           809.98                 31.944960   \n",
       "2  ...       Good           809.98                 28.609352   \n",
       "3  ...       Good           809.98                 31.377862   \n",
       "4  ...       Good           809.98                 24.797347   \n",
       "\n",
       "      Credit_History_Age Payment_of_Min_Amount  Total_EMI_per_month  \\\n",
       "0  22 Years and 1 Months                    No            49.574949   \n",
       "1                    NaN                    No            49.574949   \n",
       "2  22 Years and 3 Months                    No            49.574949   \n",
       "3  22 Years and 4 Months                    No            49.574949   \n",
       "4  22 Years and 5 Months                    No            49.574949   \n",
       "\n",
       "  Amount_invested_monthly                 Payment_Behaviour  \\\n",
       "0       80.41529543900253   High_spent_Small_value_payments   \n",
       "1      118.28022162236736    Low_spent_Large_value_payments   \n",
       "2         81.699521264648   Low_spent_Medium_value_payments   \n",
       "3       199.4580743910713    Low_spent_Small_value_payments   \n",
       "4      41.420153086217326  High_spent_Medium_value_payments   \n",
       "\n",
       "      Monthly_Balance Credit_Score  \n",
       "0  312.49408867943663         Good  \n",
       "1  284.62916249607184         Good  \n",
       "2   331.2098628537912         Good  \n",
       "3  223.45130972736786         Good  \n",
       "4  341.48923103222177         Good  \n",
       "\n",
       "[5 rows x 23 columns]"
      ]
     },
     "execution_count": 11,
     "metadata": {},
     "output_type": "execute_result"
    }
   ],
   "source": [
    "data.drop(columns=['ID','Month','Name','SSN','Monthly_Inhand_Salary'],inplace=True)\n",
    "data.head()"
   ]
  },
  {
   "cell_type": "code",
   "execution_count": 12,
   "id": "0d06bba7-3960-466b-b783-c91fea831e82",
   "metadata": {},
   "outputs": [
    {
     "data": {
      "text/plain": [
       "Customer_ID                     0\n",
       "Age                             0\n",
       "Occupation                      0\n",
       "Annual_Income                   0\n",
       "Num_Bank_Accounts               0\n",
       "Num_Credit_Card                 0\n",
       "Interest_Rate                   0\n",
       "Num_of_Loan                     0\n",
       "Type_of_Loan                11408\n",
       "Delay_from_due_date             0\n",
       "Num_of_Delayed_Payment       7002\n",
       "Changed_Credit_Limit            0\n",
       "Num_Credit_Inquiries         1965\n",
       "Credit_Mix                      0\n",
       "Outstanding_Debt                0\n",
       "Credit_Utilization_Ratio        0\n",
       "Credit_History_Age           9030\n",
       "Payment_of_Min_Amount           0\n",
       "Total_EMI_per_month             0\n",
       "Amount_invested_monthly      4479\n",
       "Payment_Behaviour               0\n",
       "Monthly_Balance              1200\n",
       "Credit_Score                    0\n",
       "dtype: int64"
      ]
     },
     "execution_count": 12,
     "metadata": {},
     "output_type": "execute_result"
    }
   ],
   "source": [
    "data.isna().sum()"
   ]
  },
  {
   "cell_type": "markdown",
   "id": "2b604550-31bd-41c7-8b5f-016ed2c5df51",
   "metadata": {},
   "source": [
    "---"
   ]
  },
  {
   "cell_type": "markdown",
   "id": "60f98855-1a80-4bc9-a179-21643a5d3e61",
   "metadata": {},
   "source": [
    "# Categorical & Numerical Data"
   ]
  },
  {
   "cell_type": "code",
   "execution_count": 15,
   "id": "39268ce4-84d5-4c63-8b58-0bbdf4070926",
   "metadata": {},
   "outputs": [],
   "source": [
    "from sklearn.preprocessing import LabelEncoder\n",
    "le =LabelEncoder()\n",
    "\n",
    "data['Customer_ID']=le.fit_transform(data['Customer_ID'])\n",
    "\n",
    "# We need to convert the Customer_ID into Labels to use it in the phase of preprocessing the other data "
   ]
  },
  {
   "cell_type": "code",
   "execution_count": 16,
   "id": "dbc7fe8c-6a18-4958-a4a9-478b5263c663",
   "metadata": {},
   "outputs": [
    {
     "data": {
      "text/plain": [
       "Customer_ID                     0\n",
       "Age                             0\n",
       "Occupation                      0\n",
       "Annual_Income                   0\n",
       "Num_Bank_Accounts               0\n",
       "Num_Credit_Card                 0\n",
       "Interest_Rate                   0\n",
       "Num_of_Loan                     0\n",
       "Type_of_Loan                11408\n",
       "Delay_from_due_date             0\n",
       "Num_of_Delayed_Payment       7002\n",
       "Changed_Credit_Limit            0\n",
       "Num_Credit_Inquiries         1965\n",
       "Credit_Mix                      0\n",
       "Outstanding_Debt                0\n",
       "Credit_Utilization_Ratio        0\n",
       "Credit_History_Age           9030\n",
       "Payment_of_Min_Amount           0\n",
       "Total_EMI_per_month             0\n",
       "Amount_invested_monthly      4479\n",
       "Payment_Behaviour               0\n",
       "Monthly_Balance              1200\n",
       "Credit_Score                    0\n",
       "dtype: int64"
      ]
     },
     "execution_count": 16,
     "metadata": {},
     "output_type": "execute_result"
    }
   ],
   "source": [
    "data.isna().sum()"
   ]
  },
  {
   "cell_type": "code",
   "execution_count": 17,
   "id": "f2a748f9-6bd0-48a8-bdc5-0ba32d0a9ab4",
   "metadata": {},
   "outputs": [
    {
     "name": "stdout",
     "output_type": "stream",
     "text": [
      "(100000, 23)\n",
      "(100000, 15)\n",
      "(100000, 8)\n"
     ]
    }
   ],
   "source": [
    "# Split to do Preprocessing\n",
    "categorical_data =data.select_dtypes(include=['object'])\n",
    "numerical_data   =data.select_dtypes(include=['number'])\n",
    "\n",
    "print(data.shape)\n",
    "print(categorical_data.shape)\n",
    "print(numerical_data.shape)"
   ]
  },
  {
   "cell_type": "code",
   "execution_count": 18,
   "id": "0f29d54c-51bc-4d5c-ad73-82992a833c9c",
   "metadata": {},
   "outputs": [
    {
     "name": "stdout",
     "output_type": "stream",
     "text": [
      "<class 'pandas.core.frame.DataFrame'>\n",
      "RangeIndex: 100000 entries, 0 to 99999\n",
      "Data columns (total 23 columns):\n",
      " #   Column                    Non-Null Count   Dtype  \n",
      "---  ------                    --------------   -----  \n",
      " 0   Customer_ID               100000 non-null  int32  \n",
      " 1   Age                       100000 non-null  object \n",
      " 2   Occupation                100000 non-null  object \n",
      " 3   Annual_Income             100000 non-null  object \n",
      " 4   Num_Bank_Accounts         100000 non-null  int64  \n",
      " 5   Num_Credit_Card           100000 non-null  int64  \n",
      " 6   Interest_Rate             100000 non-null  int64  \n",
      " 7   Num_of_Loan               100000 non-null  object \n",
      " 8   Type_of_Loan              88592 non-null   object \n",
      " 9   Delay_from_due_date       100000 non-null  int64  \n",
      " 10  Num_of_Delayed_Payment    92998 non-null   object \n",
      " 11  Changed_Credit_Limit      100000 non-null  object \n",
      " 12  Num_Credit_Inquiries      98035 non-null   float64\n",
      " 13  Credit_Mix                100000 non-null  object \n",
      " 14  Outstanding_Debt          100000 non-null  object \n",
      " 15  Credit_Utilization_Ratio  100000 non-null  float64\n",
      " 16  Credit_History_Age        90970 non-null   object \n",
      " 17  Payment_of_Min_Amount     100000 non-null  object \n",
      " 18  Total_EMI_per_month       100000 non-null  float64\n",
      " 19  Amount_invested_monthly   95521 non-null   object \n",
      " 20  Payment_Behaviour         100000 non-null  object \n",
      " 21  Monthly_Balance           98800 non-null   object \n",
      " 22  Credit_Score              100000 non-null  object \n",
      "dtypes: float64(3), int32(1), int64(4), object(15)\n",
      "memory usage: 17.2+ MB\n"
     ]
    }
   ],
   "source": [
    "data.info()"
   ]
  },
  {
   "cell_type": "code",
   "execution_count": 19,
   "id": "d2ad81d2-b796-41f8-a848-c74f57336dfc",
   "metadata": {},
   "outputs": [
    {
     "name": "stdout",
     "output_type": "stream",
     "text": [
      "Age\n",
      "38      2833\n",
      "28      2829\n",
      "31      2806\n",
      "26      2792\n",
      "32      2749\n",
      "        ... \n",
      "471        1\n",
      "1520       1\n",
      "8663       1\n",
      "3363       1\n",
      "1342       1\n",
      "Name: count, Length: 1788, dtype: int64\n",
      "(1788,)\n",
      "\n",
      "\n",
      "\n",
      "\n",
      "\n",
      "\n",
      "\n",
      "\n",
      "\n",
      "\n",
      "Occupation\n",
      "_______          7062\n",
      "Lawyer           6575\n",
      "Architect        6355\n",
      "Engineer         6350\n",
      "Scientist        6299\n",
      "Mechanic         6291\n",
      "Accountant       6271\n",
      "Developer        6235\n",
      "Media_Manager    6232\n",
      "Teacher          6215\n",
      "Entrepreneur     6174\n",
      "Doctor           6087\n",
      "Journalist       6085\n",
      "Manager          5973\n",
      "Musician         5911\n",
      "Writer           5885\n",
      "Name: count, dtype: int64\n",
      "(16,)\n",
      "\n",
      "\n",
      "\n",
      "\n",
      "\n",
      "\n",
      "\n",
      "\n",
      "\n",
      "\n",
      "Annual_Income\n",
      "36585.12     16\n",
      "20867.67     16\n",
      "17273.83     16\n",
      "9141.63      15\n",
      "33029.66     15\n",
      "             ..\n",
      "20269.93_     1\n",
      "15157.25_     1\n",
      "44955.64_     1\n",
      "76650.12_     1\n",
      "4262933.0     1\n",
      "Name: count, Length: 18940, dtype: int64\n",
      "(18940,)\n",
      "\n",
      "\n",
      "\n",
      "\n",
      "\n",
      "\n",
      "\n",
      "\n",
      "\n",
      "\n",
      "Num_of_Loan\n",
      "3        14386\n",
      "2        14250\n",
      "4        14016\n",
      "0        10380\n",
      "1        10083\n",
      "         ...  \n",
      "1320_        1\n",
      "103          1\n",
      "1444         1\n",
      "392          1\n",
      "966          1\n",
      "Name: count, Length: 434, dtype: int64\n",
      "(434,)\n",
      "\n",
      "\n",
      "\n",
      "\n",
      "\n",
      "\n",
      "\n",
      "\n",
      "\n",
      "\n",
      "Type_of_Loan\n",
      "Not Specified                                                                                                                         1408\n",
      "Credit-Builder Loan                                                                                                                   1280\n",
      "Personal Loan                                                                                                                         1272\n",
      "Debt Consolidation Loan                                                                                                               1264\n",
      "Student Loan                                                                                                                          1240\n",
      "                                                                                                                                      ... \n",
      "Not Specified, Mortgage Loan, Auto Loan, and Payday Loan                                                                                 8\n",
      "Payday Loan, Mortgage Loan, Debt Consolidation Loan, and Student Loan                                                                    8\n",
      "Debt Consolidation Loan, Auto Loan, Personal Loan, Debt Consolidation Loan, Student Loan, and Credit-Builder Loan                        8\n",
      "Student Loan, Auto Loan, Student Loan, Credit-Builder Loan, Home Equity Loan, Debt Consolidation Loan, and Debt Consolidation Loan       8\n",
      "Personal Loan, Auto Loan, Mortgage Loan, Student Loan, and Student Loan                                                                  8\n",
      "Name: count, Length: 6260, dtype: int64\n",
      "(6260,)\n",
      "\n",
      "\n",
      "\n",
      "\n",
      "\n",
      "\n",
      "\n",
      "\n",
      "\n",
      "\n",
      "Num_of_Delayed_Payment\n",
      "19      5327\n",
      "17      5261\n",
      "16      5173\n",
      "10      5153\n",
      "18      5083\n",
      "        ... \n",
      "848_       1\n",
      "4134       1\n",
      "1530       1\n",
      "1502       1\n",
      "2047       1\n",
      "Name: count, Length: 749, dtype: int64\n",
      "(749,)\n",
      "\n",
      "\n",
      "\n",
      "\n",
      "\n",
      "\n",
      "\n",
      "\n",
      "\n",
      "\n",
      "Changed_Credit_Limit\n",
      "_                     2091\n",
      "8.22                   133\n",
      "11.5                   127\n",
      "11.32                  126\n",
      "7.35                   121\n",
      "                      ... \n",
      "-1.84                    1\n",
      "0.8899999999999999       1\n",
      "28.06                    1\n",
      "1.5599999999999996       1\n",
      "21.17                    1\n",
      "Name: count, Length: 4384, dtype: int64\n",
      "(4384,)\n",
      "\n",
      "\n",
      "\n",
      "\n",
      "\n",
      "\n",
      "\n",
      "\n",
      "\n",
      "\n",
      "Credit_Mix\n",
      "Standard    36479\n",
      "Good        24337\n",
      "_           20195\n",
      "Bad         18989\n",
      "Name: count, dtype: int64\n",
      "(4,)\n",
      "\n",
      "\n",
      "\n",
      "\n",
      "\n",
      "\n",
      "\n",
      "\n",
      "\n",
      "\n",
      "Outstanding_Debt\n",
      "1360.45     24\n",
      "460.46      23\n",
      "1151.7      23\n",
      "1109.03     23\n",
      "467.7       16\n",
      "            ..\n",
      "245.46_      1\n",
      "645.77_      1\n",
      "174.79_      1\n",
      "1181.13_     1\n",
      "1013.53_     1\n",
      "Name: count, Length: 13178, dtype: int64\n",
      "(13178,)\n",
      "\n",
      "\n",
      "\n",
      "\n",
      "\n",
      "\n",
      "\n",
      "\n",
      "\n",
      "\n",
      "Credit_History_Age\n",
      "15 Years and 11 Months    446\n",
      "19 Years and 4 Months     445\n",
      "19 Years and 5 Months     444\n",
      "17 Years and 11 Months    443\n",
      "19 Years and 3 Months     441\n",
      "                         ... \n",
      "0 Years and 3 Months       20\n",
      "0 Years and 2 Months       15\n",
      "33 Years and 7 Months      14\n",
      "33 Years and 8 Months      12\n",
      "0 Years and 1 Months        2\n",
      "Name: count, Length: 404, dtype: int64\n",
      "(404,)\n",
      "\n",
      "\n",
      "\n",
      "\n",
      "\n",
      "\n",
      "\n",
      "\n",
      "\n",
      "\n",
      "Payment_of_Min_Amount\n",
      "Yes    52326\n",
      "No     35667\n",
      "NM     12007\n",
      "Name: count, dtype: int64\n",
      "(3,)\n",
      "\n",
      "\n",
      "\n",
      "\n",
      "\n",
      "\n",
      "\n",
      "\n",
      "\n",
      "\n",
      "Amount_invested_monthly\n",
      "__10000__             4305\n",
      "0.0                    169\n",
      "80.41529543900253        1\n",
      "36.66235139442514        1\n",
      "89.7384893604547         1\n",
      "                      ... \n",
      "36.541908593249026       1\n",
      "93.45116318631192        1\n",
      "140.80972223052834       1\n",
      "38.73937670100975        1\n",
      "167.1638651610451        1\n",
      "Name: count, Length: 91049, dtype: int64\n",
      "(91049,)\n",
      "\n",
      "\n",
      "\n",
      "\n",
      "\n",
      "\n",
      "\n",
      "\n",
      "\n",
      "\n",
      "Payment_Behaviour\n",
      "Low_spent_Small_value_payments      25513\n",
      "High_spent_Medium_value_payments    17540\n",
      "Low_spent_Medium_value_payments     13861\n",
      "High_spent_Large_value_payments     13721\n",
      "High_spent_Small_value_payments     11340\n",
      "Low_spent_Large_value_payments      10425\n",
      "!@9#%8                               7600\n",
      "Name: count, dtype: int64\n",
      "(7,)\n",
      "\n",
      "\n",
      "\n",
      "\n",
      "\n",
      "\n",
      "\n",
      "\n",
      "\n",
      "\n",
      "Monthly_Balance\n",
      "__-333333333333333333333333333__    9\n",
      "312.49408867943663                  1\n",
      "415.32532309844316                  1\n",
      "252.08489793906085                  1\n",
      "254.9709216273975                   1\n",
      "                                   ..\n",
      "366.2890379762706                   1\n",
      "151.1882696261166                   1\n",
      "306.75027851710234                  1\n",
      "278.8720257394474                   1\n",
      "393.6736955618808                   1\n",
      "Name: count, Length: 98792, dtype: int64\n",
      "(98792,)\n",
      "\n",
      "\n",
      "\n",
      "\n",
      "\n",
      "\n",
      "\n",
      "\n",
      "\n",
      "\n",
      "Credit_Score\n",
      "Standard    53174\n",
      "Poor        28998\n",
      "Good        17828\n",
      "Name: count, dtype: int64\n",
      "(3,)\n",
      "\n",
      "\n",
      "\n",
      "\n",
      "\n",
      "\n",
      "\n",
      "\n",
      "\n",
      "\n"
     ]
    }
   ],
   "source": [
    "pd.set_option('display.max_row',30)\n",
    "\n",
    "categorical_columns=categorical_data.columns\n",
    "for col in categorical_columns:\n",
    "    print(categorical_data.loc[:,col].value_counts())\n",
    "    print((categorical_data.loc[:,col].value_counts()).shape)\n",
    "    print(\"\\n\\n\\n\\n\\n\\n\\n\\n\\n\")\n",
    "\n",
    "\n",
    "# we need to convert the type of ( Age, Annual_income, num_of_loan, Num_of_Delayed_Payment, Changed_Credit_Limit, Outstanding_Debt,Amount_invested_monthly, Monthly_Balance, Credit_History_Age\n"
   ]
  },
  {
   "cell_type": "markdown",
   "id": "e6dde59e-45cd-4ecb-bcdf-632fa0163c66",
   "metadata": {},
   "source": [
    "> ### we need to convert the type of ( Age, Annual_income, num_of_loan, Num_of_Delayed_Payment, Changed_Credit_Limit, Outstanding_Debt, \n",
    "> ### Amount_invested_monthly, Monthly_Balance, Credit_History_Age)\n"
   ]
  },
  {
   "cell_type": "markdown",
   "id": "492fea89-7b4b-40fe-ac30-a604d7513f1f",
   "metadata": {},
   "source": [
    "# *Detect Outliers*"
   ]
  },
  {
   "cell_type": "markdown",
   "id": "d26ad886-f6c3-4449-a84e-745045d2daaa",
   "metadata": {},
   "source": [
    "### Function to detect and handle the Outliers"
   ]
  },
  {
   "cell_type": "code",
   "execution_count": 23,
   "id": "98180307-f5b0-48dd-b7f1-81aa59da32cc",
   "metadata": {},
   "outputs": [],
   "source": [
    "def detect_outliers(data,column):\n",
    "    q1=data[column].quantile(0.25)\n",
    "    q3=data[column].quantile(0.75)\n",
    "    IQR=q3-q1\n",
    "    lower_bound=q1-IQR*1.5\n",
    "    upper_bound=q3+IQR*1.5\n",
    "    outliers=[]\n",
    "    for value in data[column]:\n",
    "        if( value> upper_bound) or (value<lower_bound):\n",
    "            outliers.append(value)\n",
    "    print(' column : ', column)    \n",
    "    print('upper_bound is ',upper_bound,' lower_bound is ',  lower_bound)\n",
    "    print('outliers : ',outliers)"
   ]
  },
  {
   "cell_type": "code",
   "execution_count": 24,
   "id": "b908c0dc-ceb9-4e2b-afca-5f5ccb9aeee4",
   "metadata": {},
   "outputs": [],
   "source": [
    "def handle_outliers(data,column):\n",
    "    q1=data[column].quantile(0.25)\n",
    "    q3=data[column].quantile(0.75)\n",
    "    IQR=q3-q1\n",
    "    lower_bound=q1-IQR*1.5\n",
    "    upper_bound=q3+IQR*1.5\n",
    "    for i in data.index:\n",
    "        value=data.loc[i,column]\n",
    "        if(value>upper_bound):\n",
    "            data.loc[i,column]=upper_bound\n",
    "        elif(value<lower_bound):\n",
    "            data.loc[i,column]=lower_bound\n",
    "    print('Done-->')\n",
    " "
   ]
  },
  {
   "cell_type": "markdown",
   "id": "4cfef51d-b94c-445a-b733-a518c7dc885c",
   "metadata": {},
   "source": [
    "# <b> Numerical Data </b>"
   ]
  },
  {
   "cell_type": "markdown",
   "id": "cc133309-875d-483c-9b63-a7f7f003084a",
   "metadata": {},
   "source": [
    "\n",
    "## Age"
   ]
  },
  {
   "cell_type": "code",
   "execution_count": 27,
   "id": "2caa299d-e1bf-465b-93f6-e46e85390d6c",
   "metadata": {},
   "outputs": [],
   "source": [
    "data['Age']=data['Age'].str.replace('_', '', regex=False)\n",
    "data['Age']=data['Age'].str.replace('-', '', regex=False)"
   ]
  },
  {
   "cell_type": "code",
   "execution_count": 28,
   "id": "e619962b-71d1-48ad-8f34-fd27eebeac22",
   "metadata": {},
   "outputs": [
    {
     "name": "stdout",
     "output_type": "stream",
     "text": [
      "<class 'pandas.core.frame.DataFrame'>\n",
      "RangeIndex: 100000 entries, 0 to 99999\n",
      "Data columns (total 23 columns):\n",
      " #   Column                    Non-Null Count   Dtype  \n",
      "---  ------                    --------------   -----  \n",
      " 0   Customer_ID               100000 non-null  int32  \n",
      " 1   Age                       100000 non-null  int64  \n",
      " 2   Occupation                100000 non-null  object \n",
      " 3   Annual_Income             100000 non-null  object \n",
      " 4   Num_Bank_Accounts         100000 non-null  int64  \n",
      " 5   Num_Credit_Card           100000 non-null  int64  \n",
      " 6   Interest_Rate             100000 non-null  int64  \n",
      " 7   Num_of_Loan               100000 non-null  object \n",
      " 8   Type_of_Loan              88592 non-null   object \n",
      " 9   Delay_from_due_date       100000 non-null  int64  \n",
      " 10  Num_of_Delayed_Payment    92998 non-null   object \n",
      " 11  Changed_Credit_Limit      100000 non-null  object \n",
      " 12  Num_Credit_Inquiries      98035 non-null   float64\n",
      " 13  Credit_Mix                100000 non-null  object \n",
      " 14  Outstanding_Debt          100000 non-null  object \n",
      " 15  Credit_Utilization_Ratio  100000 non-null  float64\n",
      " 16  Credit_History_Age        90970 non-null   object \n",
      " 17  Payment_of_Min_Amount     100000 non-null  object \n",
      " 18  Total_EMI_per_month       100000 non-null  float64\n",
      " 19  Amount_invested_monthly   95521 non-null   object \n",
      " 20  Payment_Behaviour         100000 non-null  object \n",
      " 21  Monthly_Balance           98800 non-null   object \n",
      " 22  Credit_Score              100000 non-null  object \n",
      "dtypes: float64(3), int32(1), int64(5), object(14)\n",
      "memory usage: 17.2+ MB\n"
     ]
    }
   ],
   "source": [
    "data['Age']=pd.to_numeric(data['Age'])\n",
    "data.info()"
   ]
  },
  {
   "cell_type": "code",
   "execution_count": 29,
   "id": "bec0bbf1-c5c7-4460-87f0-6d0fb1e61369",
   "metadata": {},
   "outputs": [
    {
     "data": {
      "text/plain": [
       "0         23\n",
       "1         23\n",
       "2        500\n",
       "3         23\n",
       "4         23\n",
       "        ... \n",
       "99995     25\n",
       "99996     25\n",
       "99997     25\n",
       "99998     25\n",
       "99999     25\n",
       "Name: Age, Length: 100000, dtype: int64"
      ]
     },
     "execution_count": 29,
     "metadata": {},
     "output_type": "execute_result"
    }
   ],
   "source": [
    "data['Age']"
   ]
  },
  {
   "cell_type": "code",
   "execution_count": 30,
   "id": "85560557-cc7f-4bd7-93b6-30894142f6b6",
   "metadata": {},
   "outputs": [
    {
     "name": "stdout",
     "output_type": "stream",
     "text": [
      "8698\n",
      "14\n"
     ]
    }
   ],
   "source": [
    "print(data['Age'].max())\n",
    "print(data['Age'].min())\n"
   ]
  },
  {
   "cell_type": "code",
   "execution_count": 31,
   "id": "4da832e1-3507-436e-829f-aea1ffec051e",
   "metadata": {},
   "outputs": [
    {
     "data": {
      "text/plain": [
       "Age\n",
       "38      2994\n",
       "28      2968\n",
       "31      2955\n",
       "26      2945\n",
       "32      2884\n",
       "        ... \n",
       "1908       1\n",
       "4583       1\n",
       "7549       1\n",
       "3119       1\n",
       "1342       1\n",
       "Name: count, Length: 1728, dtype: int64"
      ]
     },
     "execution_count": 31,
     "metadata": {},
     "output_type": "execute_result"
    }
   ],
   "source": [
    "data[\"Age\"].value_counts()"
   ]
  },
  {
   "cell_type": "code",
   "execution_count": 32,
   "id": "0a2dd83f-1b84-4ae0-9e1d-6a9e0a4e2616",
   "metadata": {},
   "outputs": [
    {
     "name": "stdout",
     "output_type": "stream",
     "text": [
      "0\n"
     ]
    }
   ],
   "source": [
    "print(data['Age'].isna().sum())"
   ]
  },
  {
   "cell_type": "markdown",
   "id": "afd16421-a4d9-4f9b-8dd7-ce041647ff62",
   "metadata": {},
   "source": [
    "## **This function handling outliers and invalid values based on the mean or mode of the same Customer (knowing its ID)**"
   ]
  },
  {
   "cell_type": "code",
   "execution_count": 34,
   "id": "c92741ab-2b73-4578-9d70-bcd6339b450b",
   "metadata": {},
   "outputs": [
    {
     "name": "stdout",
     "output_type": "stream",
     "text": [
      " column :  Age\n",
      "upper_bound is  69.0  lower_bound is  -3.0\n",
      "outliers :  []\n"
     ]
    }
   ],
   "source": [
    "# Step 1: Compute the mode for each Customer_ID\n",
    "Customer_age = data.groupby('Customer_ID')['Age'].apply(\n",
    "lambda x: x.mode().iloc[0] if not x.mode().empty else x.iloc[0])\n",
    "\n",
    "\n",
    "# Step 2: Replace values with the mean for the corresponding Customer_ID\n",
    "def replace_age(row, modes):\n",
    "    if (row['Age'] >= 90) or (row['Age'] <= 16):\n",
    "        return modes[row['Customer_ID']]\n",
    "    else:\n",
    "        return row['Age']\n",
    "\n",
    "data['Age'] = data.apply(replace_age, axis=1, modes=Customer_age)\n",
    "detect_outliers(data,'Age')\n"
   ]
  },
  {
   "cell_type": "markdown",
   "id": "607d8ea2-1ccc-48e1-8748-6a0afa344df1",
   "metadata": {},
   "source": [
    "---"
   ]
  },
  {
   "cell_type": "markdown",
   "id": "e5261b51-1338-499f-96dc-9c2328cc0fef",
   "metadata": {},
   "source": [
    "## Annual_Income"
   ]
  },
  {
   "cell_type": "code",
   "execution_count": 38,
   "id": "d03c468e-7d07-47fd-b4ce-26c7f376b32b",
   "metadata": {},
   "outputs": [],
   "source": [
    "data['Annual_Income']=data['Annual_Income'].str.replace('_', '', regex=False)\n",
    "data['Annual_Income']=pd.to_numeric(data['Annual_Income'])\n"
   ]
  },
  {
   "cell_type": "code",
   "execution_count": 39,
   "id": "41b58671-ea07-40ba-92b7-2847dd35604f",
   "metadata": {},
   "outputs": [
    {
     "name": "stdout",
     "output_type": "stream",
     "text": [
      "24198062.0\n",
      "7005.93\n"
     ]
    }
   ],
   "source": [
    "print(data['Annual_Income'].max())\n",
    "print(data['Annual_Income'].min())\n",
    " "
   ]
  },
  {
   "cell_type": "code",
   "execution_count": 40,
   "id": "33e17105-c5cb-4110-898c-d54a967b925d",
   "metadata": {},
   "outputs": [
    {
     "data": {
      "text/plain": [
       "Annual_Income\n",
       "17816.75       16\n",
       "22434.16       16\n",
       "40341.16       16\n",
       "17273.83       16\n",
       "109945.32      16\n",
       "               ..\n",
       "17079092.00     1\n",
       "1910572.00      1\n",
       "20179076.00     1\n",
       "7980216.00      1\n",
       "8299495.00      1\n",
       "Name: count, Length: 13487, dtype: int64"
      ]
     },
     "execution_count": 40,
     "metadata": {},
     "output_type": "execute_result"
    }
   ],
   "source": [
    "data[\"Annual_Income\"].value_counts()"
   ]
  },
  {
   "cell_type": "code",
   "execution_count": 41,
   "id": "951a5fef-6762-42e1-88f8-3de85caa5714",
   "metadata": {},
   "outputs": [
    {
     "data": {
      "text/plain": [
       "array([ 19114.12,  34847.84, 143162.64, ...,  37188.1 ,  20002.88,\n",
       "        39628.99])"
      ]
     },
     "execution_count": 41,
     "metadata": {},
     "output_type": "execute_result"
    }
   ],
   "source": [
    "data[\"Annual_Income\"].unique()"
   ]
  },
  {
   "cell_type": "code",
   "execution_count": 42,
   "id": "270dff14-2426-4bad-8681-aa63baf9d6ae",
   "metadata": {},
   "outputs": [
    {
     "name": "stdout",
     "output_type": "stream",
     "text": [
      "0\n"
     ]
    }
   ],
   "source": [
    "print(data['Annual_Income'].isna().sum())"
   ]
  },
  {
   "cell_type": "markdown",
   "id": "bc7c2af3-e097-4c03-85f4-f0a33f18c296",
   "metadata": {},
   "source": [
    "---"
   ]
  },
  {
   "cell_type": "markdown",
   "id": "fcb0fe1e-c627-4a79-88e8-a1f0ac811078",
   "metadata": {},
   "source": [
    "## Num_of_Loan"
   ]
  },
  {
   "cell_type": "code",
   "execution_count": 45,
   "id": "b5fe14d7-0320-4f7a-970e-03efab12f63b",
   "metadata": {},
   "outputs": [],
   "source": [
    "data['Num_of_Loan']=data['Num_of_Loan'].str.replace('_', '', regex=False)\n",
    "data['Num_of_Loan']=data['Num_of_Loan'].str.replace('-', '', regex=False)"
   ]
  },
  {
   "cell_type": "code",
   "execution_count": 46,
   "id": "10c0cb76-5403-44dd-9954-1f47d2f03789",
   "metadata": {},
   "outputs": [
    {
     "name": "stdout",
     "output_type": "stream",
     "text": [
      "1496\n",
      "0\n"
     ]
    }
   ],
   "source": [
    "data['Num_of_Loan']=pd.to_numeric(data['Num_of_Loan'])\n",
    "print(data['Num_of_Loan'].max())\n",
    "print(data['Num_of_Loan'].min())\n",
    " "
   ]
  },
  {
   "cell_type": "code",
   "execution_count": 47,
   "id": "c28c9d2b-fac8-4370-a44f-f247cdfcb1b7",
   "metadata": {},
   "outputs": [
    {
     "data": {
      "text/plain": [
       "Num_of_Loan\n",
       "3       15104\n",
       "2       15032\n",
       "4       14743\n",
       "0       10930\n",
       "1       10606\n",
       "        ...  \n",
       "321         1\n",
       "1439        1\n",
       "663         1\n",
       "613         1\n",
       "966         1\n",
       "Name: count, Length: 413, dtype: int64"
      ]
     },
     "execution_count": 47,
     "metadata": {},
     "output_type": "execute_result"
    }
   ],
   "source": [
    "data[\"Num_of_Loan\"].value_counts()"
   ]
  },
  {
   "cell_type": "code",
   "execution_count": 48,
   "id": "a29d2a9f-1e3a-4ec5-9ceb-b6d145ea337d",
   "metadata": {},
   "outputs": [
    {
     "data": {
      "text/plain": [
       "array([   4,    1,    3,  967,  100,    0,    2,    7,    5,    6,    8,\n",
       "          9, 1464,  622,  352,  472, 1017,  945,  146,  563,  341,  444,\n",
       "        720, 1485,   49,  737, 1106,  466,  728,  313,  843,  597,  617,\n",
       "        119,  663,  640,   92, 1019,  501, 1302,   39,  716,  848,  931,\n",
       "       1214,  186,  424, 1001, 1110, 1152,  457, 1433, 1187,   52, 1480,\n",
       "       1047, 1035, 1347,   33,  193,  699,  329, 1451,  484,  132,  649,\n",
       "        995,  545,  684, 1135, 1094, 1204,  654,   58,  348,  614, 1363,\n",
       "        323, 1406, 1348,  430,  153, 1461,  905, 1312, 1424, 1154,   95,\n",
       "       1353, 1228,  819, 1006,  795,  359, 1209,  590,  696, 1185, 1465,\n",
       "        911, 1181,   70,  816, 1369,  143, 1416,  455,   55, 1096, 1474,\n",
       "        420, 1131,  904,   89, 1259,  527, 1241,  449,  983,  418,  319,\n",
       "         23,  238,  638,  138,  235,  280, 1070, 1484,  274,  494, 1459,\n",
       "        404, 1354, 1495, 1391,  601, 1313, 1319,  898,  231,  752,  174,\n",
       "        961, 1046,  834,  284,  438,  288, 1463, 1151,  719,  198, 1015,\n",
       "        855,  841,  392, 1444,  103, 1320,  745,  172,  252,  630,  241,\n",
       "         31,  405, 1217, 1030, 1257,  137,  157,  164, 1088, 1236,  777,\n",
       "       1048,  613,  330, 1439,  321,  661,  952,  939,  562, 1202,  302,\n",
       "        943,  394,  955, 1318,  936,  781, 1329, 1365,  860,  217,  191,\n",
       "         32,  282,  351, 1387,  757,  416,  833,  292, 1225, 1227,  639,\n",
       "        859,  243,  267,  510,  332,  996,  311,  492,  820,  336,  123,\n",
       "        540,  131, 1311, 1441,  895,  891,   50,  940,  935,  596,   29,\n",
       "       1182, 1129, 1014,  251,  365,  291, 1447,  742, 1085,  148,  462,\n",
       "        832,  881, 1412,  785, 1127,  910,  538,  999,  733,  101,  237,\n",
       "         87,  659,  633,  387,  447,  629,  831, 1384,  773,  621, 1419,\n",
       "        289,  285, 1393,   27, 1359, 1482, 1189, 1294,  201,  579,  814,\n",
       "        141,  581, 1171,  295,  290,  433,  679, 1040, 1054, 1430, 1023,\n",
       "       1077, 1457, 1150,  701, 1382,  889,  437,  372, 1222,  126, 1159,\n",
       "        868,   19, 1297,  227,  190,  809, 1216, 1074,  571,  520, 1274,\n",
       "       1340,  991,  316,  697,  926,  873, 1002,  378,   65,  875,  867,\n",
       "        548,  652, 1372,  606, 1036, 1300,   17, 1178,  802, 1219, 1271,\n",
       "       1137, 1496,  439,  196,  636,  192,  228, 1053,  229,  753, 1296,\n",
       "       1371,  254,  863,  464,  515,  838, 1160, 1289, 1298,  799,  182,\n",
       "        574,  242,  415,  869,  958,   54, 1265,  656,  275,  778,  208,\n",
       "        147,  350,  507,  463,  497,  927,  653,  662,  529,  635, 1027,\n",
       "        897, 1039, 1345,  924, 1279,  546, 1112, 1210,  526,  300, 1103,\n",
       "        504,  136, 1400,   78,  686, 1091,  344,  215,   84,  628, 1470,\n",
       "        968, 1478,   83, 1196, 1307, 1132, 1008,  917,  657,   56,   18,\n",
       "         41,  801,  978,  216,  349,  966], dtype=int64)"
      ]
     },
     "execution_count": 48,
     "metadata": {},
     "output_type": "execute_result"
    }
   ],
   "source": [
    "data[\"Num_of_Loan\"].unique()"
   ]
  },
  {
   "cell_type": "code",
   "execution_count": 49,
   "id": "d2b65112-928d-466c-b402-d485548a6e80",
   "metadata": {},
   "outputs": [
    {
     "name": "stdout",
     "output_type": "stream",
     "text": [
      "0\n"
     ]
    }
   ],
   "source": [
    "print(data['Num_of_Loan'].isna().sum())"
   ]
  },
  {
   "cell_type": "code",
   "execution_count": 50,
   "id": "6101a726-c651-4910-b1b5-6b1d917b9819",
   "metadata": {},
   "outputs": [
    {
     "name": "stdout",
     "output_type": "stream",
     "text": [
      " column :  Num_of_Loan\n",
      "upper_bound is  9.5  lower_bound is  -2.5\n",
      "outliers :  []\n"
     ]
    }
   ],
   "source": [
    "# Step 1: Compute the mode for each Customer_ID\n",
    "Customer_num_loan = data.groupby('Customer_ID')['Num_of_Loan'].apply(\n",
    "lambda x: x.mode().iloc[0] if not x.mode().empty else x.iloc[0])\n",
    "\n",
    "#Customer_age = data.groupby('Customer_ID')['Num_of_Loan'].mean()\n",
    "\n",
    "\n",
    "# Step 2: Replace values with the mean for the corresponding Customer_ID\n",
    "def replace_Customer_num_loan(row, modes_replace_Customer_num_loan):\n",
    "    if (row['Num_of_Loan'] >= 15) or (row['Num_of_Loan'] <= 0):\n",
    "        return modes_replace_Customer_num_loan[row['Customer_ID']]\n",
    "    else:\n",
    "        return row['Num_of_Loan']\n",
    "\n",
    "data['Num_of_Loan'] = data.apply(replace_Customer_num_loan, axis=1, modes_replace_Customer_num_loan=Customer_num_loan)\n",
    "detect_outliers(data,'Num_of_Loan')\n"
   ]
  },
  {
   "cell_type": "markdown",
   "id": "babcd08c-9bbe-434b-90f2-9739fae95eaf",
   "metadata": {},
   "source": [
    "---"
   ]
  },
  {
   "cell_type": "markdown",
   "id": "e3142397-4527-4391-87d6-a3450146ee16",
   "metadata": {},
   "source": [
    "## Num_of_Delayed_Payment"
   ]
  },
  {
   "cell_type": "code",
   "execution_count": 53,
   "id": "22549f57-e705-4f59-932a-fe72ab00fbb2",
   "metadata": {},
   "outputs": [],
   "source": [
    "data['Num_of_Delayed_Payment']=data['Num_of_Delayed_Payment'].str.replace('_', '', regex=False)\n",
    "data['Num_of_Delayed_Payment']=data['Num_of_Delayed_Payment'].str.replace('-', '', regex=False)\n",
    "#data['Num_of_Delayed_Payment'].fillna(8888 ,inplace=True)\n",
    "\n"
   ]
  },
  {
   "cell_type": "code",
   "execution_count": 54,
   "id": "cdf35811-fbf7-4876-ad9f-08a24a3746f2",
   "metadata": {},
   "outputs": [
    {
     "data": {
      "text/plain": [
       "7002"
      ]
     },
     "execution_count": 54,
     "metadata": {},
     "output_type": "execute_result"
    }
   ],
   "source": [
    "data['Num_of_Delayed_Payment'].isna().sum()"
   ]
  },
  {
   "cell_type": "code",
   "execution_count": 55,
   "id": "5b57345d-5909-4879-883a-1e29663adfc6",
   "metadata": {},
   "outputs": [
    {
     "name": "stdout",
     "output_type": "stream",
     "text": [
      "4397.0\n",
      "0.0\n"
     ]
    }
   ],
   "source": [
    "data['Num_of_Delayed_Payment']=pd.to_numeric(data['Num_of_Delayed_Payment'])\n",
    "\n",
    "print(data['Num_of_Delayed_Payment'].max())\n",
    "print(data['Num_of_Delayed_Payment'].min())\n",
    " "
   ]
  },
  {
   "cell_type": "code",
   "execution_count": 56,
   "id": "13167e19-d862-45da-a421-74d2791de832",
   "metadata": {},
   "outputs": [
    {
     "name": "stdout",
     "output_type": "stream",
     "text": [
      "Num_of_Delayed_Payment\n",
      "19.0      5481\n",
      "17.0      5412\n",
      "16.0      5312\n",
      "10.0      5309\n",
      "15.0      5237\n",
      "          ... \n",
      "848.0        1\n",
      "4134.0       1\n",
      "1530.0       1\n",
      "1502.0       1\n",
      "2047.0       1\n",
      "Name: count, Length: 708, dtype: int64\n"
     ]
    }
   ],
   "source": [
    "pd.set_option('display.max_row',30)\n",
    "print(data[\"Num_of_Delayed_Payment\"].value_counts())\n",
    "\n"
   ]
  },
  {
   "cell_type": "code",
   "execution_count": null,
   "id": "4f0e9209-1b6a-4357-ac14-1b78212ba7d6",
   "metadata": {},
   "outputs": [],
   "source": []
  },
  {
   "cell_type": "code",
   "execution_count": 57,
   "id": "4a0440a4-b124-49bd-9aaf-63efffafcfea",
   "metadata": {},
   "outputs": [
    {
     "name": "stdout",
     "output_type": "stream",
     "text": [
      " column :  Num_of_Delayed_Payment\n",
      "upper_bound is  31.5  lower_bound is  -4.5\n",
      "outliers :  []\n"
     ]
    }
   ],
   "source": [
    "# Step 1: Compute the mode for each Customer_ID\n",
    "Customer_Delayed = data.groupby('Customer_ID')['Num_of_Delayed_Payment'].apply(\n",
    "    lambda x: x.mode().iloc[0] if not x.mode().empty else x.iloc[0]\n",
    ")\n",
    "\n",
    "\n",
    "# Step 2: Replace values with the mean for the corresponding Customer_ID\n",
    "def replace_Customer_Delayed(row, customer_loan_modes):\n",
    "    if  pd.isnull(row['Num_of_Delayed_Payment']) or row['Num_of_Delayed_Payment'] > 30 or row['Num_of_Delayed_Payment'] <= 0  :\n",
    "        return customer_loan_modes[row['Customer_ID']]\n",
    "    else:\n",
    "        return row['Num_of_Delayed_Payment']\n",
    "\n",
    "data['Num_of_Delayed_Payment'] = data.apply(replace_Customer_Delayed, axis=1, customer_loan_modes=Customer_Delayed)\n",
    "detect_outliers(data,'Num_of_Delayed_Payment')\n"
   ]
  },
  {
   "cell_type": "code",
   "execution_count": 58,
   "id": "04bf359a-5abb-4a45-bfb4-ce224041e643",
   "metadata": {},
   "outputs": [
    {
     "name": "stdout",
     "output_type": "stream",
     "text": [
      "Done-->\n"
     ]
    }
   ],
   "source": [
    "handle_outliers(data,'Num_of_Delayed_Payment')"
   ]
  },
  {
   "cell_type": "code",
   "execution_count": 59,
   "id": "62e6a1b6-409a-48d5-b978-e4893dd52bdb",
   "metadata": {},
   "outputs": [
    {
     "data": {
      "text/plain": [
       "array([ 7.,  4.,  8.,  6.,  1.,  3.,  5.,  9., 15., 12., 17., 10.,  2.,\n",
       "       11., 14.,  0., 20., 22., 13., 16., 19., 18., 21., 23., 24., 26.,\n",
       "       25., 27., 28.])"
      ]
     },
     "execution_count": 59,
     "metadata": {},
     "output_type": "execute_result"
    }
   ],
   "source": [
    "data[\"Num_of_Delayed_Payment\"].unique()"
   ]
  },
  {
   "cell_type": "markdown",
   "id": "55c02aac-f654-4afb-ad12-7661e7f9f72d",
   "metadata": {},
   "source": [
    "---"
   ]
  },
  {
   "cell_type": "markdown",
   "id": "b3f2ae95-f3f6-4ed8-a7a8-5c7b5360be71",
   "metadata": {},
   "source": [
    "## Changed_Credit_Limit"
   ]
  },
  {
   "cell_type": "code",
   "execution_count": 62,
   "id": "142ce8f8-2439-4650-b5bd-3dfbe1e49e94",
   "metadata": {},
   "outputs": [],
   "source": [
    "data['Changed_Credit_Limit']=data['Changed_Credit_Limit'].str.replace('_', '', regex=False)\n",
    "\n",
    "data['Changed_Credit_Limit']=pd.to_numeric(data['Changed_Credit_Limit'])"
   ]
  },
  {
   "cell_type": "code",
   "execution_count": 63,
   "id": "762e8533-b5cc-4756-a30d-63e595e51d4c",
   "metadata": {},
   "outputs": [
    {
     "name": "stdout",
     "output_type": "stream",
     "text": [
      "36.97\n",
      "-6.49\n"
     ]
    }
   ],
   "source": [
    "print(data['Changed_Credit_Limit'].max())\n",
    "print(data['Changed_Credit_Limit'].min())\n",
    " "
   ]
  },
  {
   "cell_type": "code",
   "execution_count": 64,
   "id": "227df3f4-2b03-459e-911f-e7e9046e279f",
   "metadata": {},
   "outputs": [
    {
     "data": {
      "text/plain": [
       "Changed_Credit_Limit\n",
       " 8.22     133\n",
       " 11.50    127\n",
       " 11.32    126\n",
       " 10.06    121\n",
       " 7.35     121\n",
       "         ... \n",
       " 31.56      1\n",
       " 32.56      1\n",
       " 20.66      1\n",
       "-0.72       1\n",
       " 21.17      1\n",
       "Name: count, Length: 4375, dtype: int64"
      ]
     },
     "execution_count": 64,
     "metadata": {},
     "output_type": "execute_result"
    }
   ],
   "source": [
    "data['Changed_Credit_Limit'].value_counts()"
   ]
  },
  {
   "cell_type": "code",
   "execution_count": 65,
   "id": "0114f7fb-2a6c-4640-9c4c-d5a93f519be7",
   "metadata": {},
   "outputs": [
    {
     "data": {
      "text/plain": [
       "array([11.27,   nan,  6.27, ..., 17.51, 25.16, 21.17])"
      ]
     },
     "execution_count": 65,
     "metadata": {},
     "output_type": "execute_result"
    }
   ],
   "source": [
    "data[\"Changed_Credit_Limit\"].unique()"
   ]
  },
  {
   "cell_type": "code",
   "execution_count": 66,
   "id": "fd4efe80-b050-4123-abc5-564d97303d03",
   "metadata": {},
   "outputs": [
    {
     "name": "stdout",
     "output_type": "stream",
     "text": [
      "2091\n"
     ]
    }
   ],
   "source": [
    "print(data['Changed_Credit_Limit'].isna().sum())"
   ]
  },
  {
   "cell_type": "code",
   "execution_count": 67,
   "id": "425c3b1e-7d23-4328-9512-b8e45d3c685c",
   "metadata": {},
   "outputs": [],
   "source": [
    "# Step 1: Compute the mean for each Customer_ID\n",
    "\n",
    "Customer_changed = data.groupby('Customer_ID')['Changed_Credit_Limit'].mean()\n",
    "\n",
    "# Step 2: Replace values \n",
    "def replace_Customer_changed(row, customer_change):\n",
    "    if pd.isnull(row['Changed_Credit_Limit'])  or row['Changed_Credit_Limit'] < 0 :        \n",
    "        return customer_change[row['Customer_ID']]\n",
    "    else:\n",
    "        return row['Changed_Credit_Limit']\n",
    "\n",
    "data['Changed_Credit_Limit'] = data.apply(replace_Customer_changed, axis=1, customer_change=Customer_changed)\n",
    "#detect_outliers(data,'Changed_Credit_Limit')\n",
    "\n",
    "\n"
   ]
  },
  {
   "cell_type": "markdown",
   "id": "da721ac0-0729-4d7d-a482-53bb77ae7ea6",
   "metadata": {},
   "source": [
    "---"
   ]
  },
  {
   "cell_type": "markdown",
   "id": "674b992d-364d-410e-810e-a5da08772a92",
   "metadata": {},
   "source": [
    "## Outstanding_Debt"
   ]
  },
  {
   "cell_type": "code",
   "execution_count": 70,
   "id": "41cbeda2-1e9b-4210-91fc-aa70f91ad402",
   "metadata": {},
   "outputs": [],
   "source": [
    "data['Outstanding_Debt']=data['Outstanding_Debt'].str.replace('_', '', regex=False)\n",
    "\n",
    "data['Outstanding_Debt']=pd.to_numeric(data['Outstanding_Debt'])"
   ]
  },
  {
   "cell_type": "code",
   "execution_count": 71,
   "id": "6a955b93-b800-4e1a-9495-e36a56130221",
   "metadata": {},
   "outputs": [
    {
     "name": "stdout",
     "output_type": "stream",
     "text": [
      "4998.07\n",
      "0.23\n"
     ]
    }
   ],
   "source": [
    "print(data['Outstanding_Debt'].max())\n",
    "print(data['Outstanding_Debt'].min())\n",
    " "
   ]
  },
  {
   "cell_type": "code",
   "execution_count": 72,
   "id": "768e4c76-76f4-45c3-8e34-778fcb417de0",
   "metadata": {},
   "outputs": [
    {
     "data": {
      "text/plain": [
       "Outstanding_Debt\n",
       "1109.03    24\n",
       "1151.70    24\n",
       "1360.45    24\n",
       "460.46     24\n",
       "1058.13    16\n",
       "           ..\n",
       "4230.04     8\n",
       "641.99      8\n",
       "98.61       8\n",
       "2614.48     8\n",
       "502.38      8\n",
       "Name: count, Length: 12203, dtype: int64"
      ]
     },
     "execution_count": 72,
     "metadata": {},
     "output_type": "execute_result"
    }
   ],
   "source": [
    "data['Outstanding_Debt'].value_counts()"
   ]
  },
  {
   "cell_type": "code",
   "execution_count": 73,
   "id": "49c89e89-e37d-443b-8c3b-02d292ee023d",
   "metadata": {},
   "outputs": [
    {
     "data": {
      "text/plain": [
       "array([ 809.98,  605.03, 1303.01, ...,  620.64, 3571.7 ,  502.38])"
      ]
     },
     "execution_count": 73,
     "metadata": {},
     "output_type": "execute_result"
    }
   ],
   "source": [
    "data[\"Outstanding_Debt\"].unique()"
   ]
  },
  {
   "cell_type": "code",
   "execution_count": 74,
   "id": "f34df81a-961d-446c-a41c-7518684a1f9e",
   "metadata": {},
   "outputs": [
    {
     "name": "stdout",
     "output_type": "stream",
     "text": [
      "0\n"
     ]
    }
   ],
   "source": [
    "print(data['Outstanding_Debt'].isna().sum())"
   ]
  },
  {
   "cell_type": "code",
   "execution_count": 75,
   "id": "e8cf9eef-4cc1-4af1-89d8-4da8abff93fc",
   "metadata": {},
   "outputs": [],
   "source": [
    "# Step 1: Compute the mean for each Customer_ID\n",
    "\n",
    "Customer_Debt = data.groupby('Customer_ID')['Outstanding_Debt'].mean()\n",
    "\n",
    "# Step 2: Replace values \n",
    "def replace_Customer_Debt(row, customer_debt):\n",
    "    if pd.isnull(row['Outstanding_Debt'])  or row['Outstanding_Debt'] < 0 :        \n",
    "        return customer_debt[row['Customer_ID']]\n",
    "    else:\n",
    "        return row['Outstanding_Debt']\n",
    "\n",
    "data['Outstanding_Debt'] = data.apply(replace_Customer_Debt, axis=1, customer_debt=Customer_Debt)\n",
    "#detect_outliers(data,'Outstanding_Debt')\n"
   ]
  },
  {
   "cell_type": "markdown",
   "id": "43e3ca68-fb94-4e9b-a821-2782ad314cf9",
   "metadata": {},
   "source": [
    "---"
   ]
  },
  {
   "cell_type": "markdown",
   "id": "d008f411-b65a-4e0f-aef6-3f46b42983b6",
   "metadata": {},
   "source": [
    "## Amount_invested_monthly"
   ]
  },
  {
   "cell_type": "code",
   "execution_count": 78,
   "id": "dcabe1a4-7624-4025-a09c-ee536d8c26f7",
   "metadata": {},
   "outputs": [],
   "source": [
    "data['Amount_invested_monthly']=data['Amount_invested_monthly'].str.replace('_', '', regex=False)\n",
    "\n",
    "data['Amount_invested_monthly']=pd.to_numeric(data['Amount_invested_monthly'])"
   ]
  },
  {
   "cell_type": "code",
   "execution_count": 79,
   "id": "305bab4a-8ac6-42f5-ad64-241a729bca01",
   "metadata": {},
   "outputs": [
    {
     "name": "stdout",
     "output_type": "stream",
     "text": [
      "10000.0\n",
      "0.0\n"
     ]
    }
   ],
   "source": [
    "print(data['Amount_invested_monthly'].max())\n",
    "print(data['Amount_invested_monthly'].min())\n",
    " "
   ]
  },
  {
   "cell_type": "code",
   "execution_count": 80,
   "id": "7535d937-272a-4bd0-bb71-090b4b0a3fce",
   "metadata": {},
   "outputs": [
    {
     "data": {
      "text/plain": [
       "Amount_invested_monthly\n",
       "10000.000000    4305\n",
       "0.000000         169\n",
       "80.415295          1\n",
       "36.662351          1\n",
       "89.738489          1\n",
       "                ... \n",
       "36.541909          1\n",
       "93.451163          1\n",
       "140.809722         1\n",
       "38.739377          1\n",
       "167.163865         1\n",
       "Name: count, Length: 91049, dtype: int64"
      ]
     },
     "execution_count": 80,
     "metadata": {},
     "output_type": "execute_result"
    }
   ],
   "source": [
    "data['Amount_invested_monthly'].value_counts()"
   ]
  },
  {
   "cell_type": "code",
   "execution_count": 81,
   "id": "b843d01c-28f1-4bfa-a6ae-ab4e0c03d9bf",
   "metadata": {},
   "outputs": [
    {
     "data": {
      "text/plain": [
       "array([ 80.41529544, 118.28022162,  81.69952126, ...,  24.02847745,\n",
       "       251.6725822 , 167.16386516])"
      ]
     },
     "execution_count": 81,
     "metadata": {},
     "output_type": "execute_result"
    }
   ],
   "source": [
    "data[\"Amount_invested_monthly\"].unique()\n"
   ]
  },
  {
   "cell_type": "code",
   "execution_count": 82,
   "id": "185d4bf9-b03b-4590-b87c-8c8ae42aa1f3",
   "metadata": {},
   "outputs": [
    {
     "name": "stdout",
     "output_type": "stream",
     "text": [
      "4479\n"
     ]
    }
   ],
   "source": [
    "print(data['Amount_invested_monthly'].isna().sum())"
   ]
  },
  {
   "cell_type": "code",
   "execution_count": 83,
   "id": "fa1fde7d-e689-4bf2-95cb-b4262abde424",
   "metadata": {},
   "outputs": [],
   "source": [
    "# Step 1: Compute the mode for each Customer_ID\n",
    "Customer_Amount = data.groupby('Customer_ID')['Amount_invested_monthly'].apply(\n",
    "    lambda x: x.mode().iloc[0] if not x.mode().empty else x.iloc[0]\n",
    ")\n",
    "\n",
    "\n",
    "# Step 2: Replace values \n",
    "def replace_amount(row, customer_amount_modes):\n",
    "    if pd.isnull(row['Amount_invested_monthly'])  or row['Amount_invested_monthly'] < 0 :        \n",
    "        return customer_amount_modes[row['Customer_ID']]\n",
    "    else:\n",
    "        return row['Amount_invested_monthly']\n",
    "\n",
    "data['Amount_invested_monthly'] = data.apply(replace_amount, axis=1, customer_amount_modes=Customer_Amount)\n",
    "#detect_outliers(data,'Amount_invested_monthly')\n",
    "\n"
   ]
  },
  {
   "cell_type": "code",
   "execution_count": 84,
   "id": "dab38321-dd27-4c05-a546-3ac009457510",
   "metadata": {},
   "outputs": [
    {
     "name": "stdout",
     "output_type": "stream",
     "text": [
      "0\n"
     ]
    }
   ],
   "source": [
    "print(data['Amount_invested_monthly'].isna().sum())"
   ]
  },
  {
   "cell_type": "markdown",
   "id": "60da1157-413f-48ea-bb11-85d3ed6dde7f",
   "metadata": {},
   "source": [
    "---"
   ]
  },
  {
   "cell_type": "markdown",
   "id": "f179f87f-6ee4-4117-9a3c-23e84df1342e",
   "metadata": {},
   "source": [
    "## Monthly_Balance"
   ]
  },
  {
   "cell_type": "code",
   "execution_count": 87,
   "id": "94b1c585-f2ca-4c19-8d21-96f0ba1c773c",
   "metadata": {},
   "outputs": [],
   "source": [
    "data['Monthly_Balance']=data['Monthly_Balance'].str.replace('_', '', regex=False)\n",
    "data['Monthly_Balance'] = data['Monthly_Balance'].str[:8]\n",
    "data['Monthly_Balance']=pd.to_numeric(data['Monthly_Balance'])"
   ]
  },
  {
   "cell_type": "code",
   "execution_count": 88,
   "id": "3f95c29b-3565-4789-a637-3d85ed034afc",
   "metadata": {},
   "outputs": [
    {
     "name": "stdout",
     "output_type": "stream",
     "text": [
      "1602.04\n",
      "-3333333.0\n"
     ]
    }
   ],
   "source": [
    "print(data['Monthly_Balance'].max())\n",
    "print(data['Monthly_Balance'].min())\n",
    " "
   ]
  },
  {
   "cell_type": "code",
   "execution_count": 89,
   "id": "4b1850fb-d418-420e-bf2b-a686476ea781",
   "metadata": {},
   "outputs": [
    {
     "data": {
      "text/plain": [
       "Monthly_Balance\n",
       "-3.333333e+06    9\n",
       " 2.756835e+02    3\n",
       " 2.496578e+02    3\n",
       " 2.843030e+02    3\n",
       " 3.111156e+02    3\n",
       "                ..\n",
       " 4.380814e+02    1\n",
       " 4.618103e+02    1\n",
       " 4.730185e+02    1\n",
       " 4.454481e+02    1\n",
       " 2.146149e+02    1\n",
       "Name: count, Length: 96102, dtype: int64"
      ]
     },
     "execution_count": 89,
     "metadata": {},
     "output_type": "execute_result"
    }
   ],
   "source": [
    "data['Monthly_Balance'].value_counts()"
   ]
  },
  {
   "cell_type": "code",
   "execution_count": 90,
   "id": "363e3a1e-be2f-4c3e-8f62-19ca692cbea4",
   "metadata": {},
   "outputs": [
    {
     "data": {
      "text/plain": [
       "array([312.494 , 284.6291, 331.2098, ..., 448.4264, 343.7939, 214.6149])"
      ]
     },
     "execution_count": 90,
     "metadata": {},
     "output_type": "execute_result"
    }
   ],
   "source": [
    "data[\"Monthly_Balance\"].unique()"
   ]
  },
  {
   "cell_type": "code",
   "execution_count": 91,
   "id": "90340290-7da0-4a8a-915b-8b52057bf97b",
   "metadata": {},
   "outputs": [
    {
     "name": "stdout",
     "output_type": "stream",
     "text": [
      "2868\n"
     ]
    }
   ],
   "source": [
    "print(data['Monthly_Balance'].isna().sum())"
   ]
  },
  {
   "cell_type": "code",
   "execution_count": 92,
   "id": "97ed1b9a-d32b-4621-a571-92a650721282",
   "metadata": {},
   "outputs": [],
   "source": [
    "# Step 1: Compute the mode for each Customer_ID\n",
    "Customer_Monthly_Balance = data.groupby('Customer_ID')['Monthly_Balance'].mean()\n",
    "\n",
    "# Step 2: Replace values \n",
    "def replace_balance(row, customer_balance_modes):\n",
    "    if pd.isnull(row['Monthly_Balance'])  or row['Monthly_Balance'] < 0 :        \n",
    "        return customer_balance_modes[row['Customer_ID']]\n",
    "    else:\n",
    "        return row['Monthly_Balance']\n",
    "\n",
    "data['Monthly_Balance'] = data.apply(replace_balance, axis=1, customer_balance_modes=Customer_Monthly_Balance)\n",
    "#detect_outliers(data,'Monthly_Balance')\n",
    "\n"
   ]
  },
  {
   "cell_type": "code",
   "execution_count": 93,
   "id": "a3613ab9-7f46-4e47-8c15-55f50532d987",
   "metadata": {},
   "outputs": [
    {
     "name": "stdout",
     "output_type": "stream",
     "text": [
      "1696\n",
      "1696\n"
     ]
    }
   ],
   "source": [
    "print(data['Monthly_Balance'].isna().sum())\n",
    "#detect_outliers(data,'Monthly_Balance')\n",
    "\n",
    "data['Monthly_Balance'].dropna()\n",
    "print(data['Monthly_Balance'].isna().sum())"
   ]
  },
  {
   "cell_type": "code",
   "execution_count": 94,
   "id": "ca94b384-9f04-47f4-8098-869fde9fd302",
   "metadata": {},
   "outputs": [
    {
     "name": "stdout",
     "output_type": "stream",
     "text": [
      "0\n"
     ]
    },
    {
     "data": {
      "text/plain": [
       "(98304, 23)"
      ]
     },
     "execution_count": 94,
     "metadata": {},
     "output_type": "execute_result"
    }
   ],
   "source": [
    "data_invalid_indicies=data[(data['Monthly_Balance'].isna()) ].index.to_list()\n",
    "data = data.drop(data_invalid_indicies).reset_index(drop=True)\n",
    "print(data['Monthly_Balance'].isna().sum())\n",
    "data.shape"
   ]
  },
  {
   "cell_type": "markdown",
   "id": "451f495e-b1ac-4b07-bae4-70f9a4df3b01",
   "metadata": {},
   "source": [
    "---"
   ]
  },
  {
   "cell_type": "markdown",
   "id": "8d8405dd-ae38-4eb3-9e7a-a9015eb00a6d",
   "metadata": {},
   "source": [
    "## Credit_History_Age"
   ]
  },
  {
   "cell_type": "code",
   "execution_count": 97,
   "id": "d10b27e4-7e84-48c2-94e3-03c942de0395",
   "metadata": {},
   "outputs": [
    {
     "data": {
      "text/plain": [
       "0        22 Years and 1 Months\n",
       "1                          NaN\n",
       "2        22 Years and 3 Months\n",
       "3        22 Years and 4 Months\n",
       "4        22 Years and 5 Months\n",
       "                 ...          \n",
       "98299    25 Years and 2 Months\n",
       "98300    25 Years and 3 Months\n",
       "98301                      NaN\n",
       "98302    25 Years and 5 Months\n",
       "98303    25 Years and 6 Months\n",
       "Name: Credit_History_Age, Length: 98304, dtype: object"
      ]
     },
     "execution_count": 97,
     "metadata": {},
     "output_type": "execute_result"
    }
   ],
   "source": [
    "data['Credit_History_Age']"
   ]
  },
  {
   "cell_type": "code",
   "execution_count": 98,
   "id": "826f916c-1ba8-41db-930d-8dee9cae14da",
   "metadata": {},
   "outputs": [],
   "source": [
    "import re\n",
    "\n",
    "# Function to extract years and months\n",
    "def extract_years_months(age_str):\n",
    "    if pd.isna(age_str):\n",
    "        return np.nan, np.nan\n",
    "    match = re.match(r'(\\d+) Years and (\\d+) Months', age_str)\n",
    "    if match:\n",
    "        years, months = map(int, match.groups())\n",
    "        return years, months\n",
    "    return np.nan, np.nan\n",
    "\n",
    "# Apply the function to the 'age' column\n",
    "data[['Years', 'Months']] = data['Credit_History_Age'].apply(lambda x: pd.Series(extract_years_months(x)))\n",
    "\n",
    "\n"
   ]
  },
  {
   "cell_type": "code",
   "execution_count": 99,
   "id": "59c3f678-00f1-4fea-ba6a-f3d2f6081244",
   "metadata": {},
   "outputs": [],
   "source": [
    "# Function to convert years and months to total months\n",
    "def to_total_months(years, months):\n",
    "    return years * 12 + months\n",
    "\n",
    "# Apply the conversion to create a 'TotalMonths' column\n",
    "data['Credit_History_Age_Months'] = data.apply(lambda row: to_total_months(row['Years'], row['Months']), axis=1)\n"
   ]
  },
  {
   "cell_type": "code",
   "execution_count": 100,
   "id": "e035937f-2faa-40e3-930d-6029842b9bb3",
   "metadata": {},
   "outputs": [],
   "source": [
    "data.drop(columns=['Years', 'Months','Credit_History_Age'],inplace=True)"
   ]
  },
  {
   "cell_type": "code",
   "execution_count": 101,
   "id": "818f4472-83af-4b6d-b791-5bfb0ff1c25f",
   "metadata": {},
   "outputs": [],
   "source": [
    "data['Credit_History_Age_Months']=pd.to_numeric(data['Credit_History_Age_Months'])"
   ]
  },
  {
   "cell_type": "code",
   "execution_count": 102,
   "id": "e220a344-b419-4203-b1cd-b094459c9eca",
   "metadata": {},
   "outputs": [
    {
     "name": "stdout",
     "output_type": "stream",
     "text": [
      "404.0\n",
      "1.0\n"
     ]
    }
   ],
   "source": [
    "print(data['Credit_History_Age_Months'].max())\n",
    "print(data['Credit_History_Age_Months'].min())\n",
    " "
   ]
  },
  {
   "cell_type": "code",
   "execution_count": 103,
   "id": "413fd5cc-9433-46c0-bcaf-f7de7a25a3eb",
   "metadata": {},
   "outputs": [
    {
     "data": {
      "text/plain": [
       "Credit_History_Age_Months\n",
       "233.0    437\n",
       "215.0    437\n",
       "232.0    437\n",
       "191.0    436\n",
       "231.0    435\n",
       "        ... \n",
       "3.0       18\n",
       "403.0     14\n",
       "2.0       14\n",
       "404.0     12\n",
       "1.0        2\n",
       "Name: count, Length: 404, dtype: int64"
      ]
     },
     "execution_count": 103,
     "metadata": {},
     "output_type": "execute_result"
    }
   ],
   "source": [
    "data['Credit_History_Age_Months'].value_counts()"
   ]
  },
  {
   "cell_type": "code",
   "execution_count": 104,
   "id": "872daea5-7148-4143-9c78-54c195970ca3",
   "metadata": {},
   "outputs": [
    {
     "data": {
      "text/plain": [
       "array([265.,  nan, 267., 268., 269., 270., 271., 319., 320., 321., 322.,\n",
       "       323., 324., 325., 326., 213., 214., 215., 217., 218., 219., 220.,\n",
       "       207., 208., 209., 210., 211., 212., 368., 369., 370., 371., 372.,\n",
       "       373., 374., 375., 384., 386., 387., 389., 390., 367., 176., 177.,\n",
       "       178., 179., 180., 181., 182., 256., 257., 258., 259., 260., 261.,\n",
       "       262., 263., 318., 230., 231., 232., 233., 234., 235., 236., 305.,\n",
       "       306., 307., 308., 309., 310., 311., 312., 327., 328., 329., 107.,\n",
       "       108., 109., 110., 111., 112., 114., 221., 222., 224., 225., 202.,\n",
       "       203., 204., 205., 206., 350., 351., 352., 354., 356., 357.,  77.,\n",
       "        78.,  79.,  80.,  81.,  82.,  83.,  84., 330., 331., 332., 333.,\n",
       "       223., 237., 238., 121., 122., 123., 124., 125., 126., 127., 128.,\n",
       "       393., 394., 395., 396., 397., 400., 147., 148., 149., 150., 151.,\n",
       "       152., 154., 153., 164., 167., 168., 169., 170., 171., 363., 364.,\n",
       "       365., 366., 105., 106., 226., 227., 228., 229., 104., 157., 158.,\n",
       "       159., 161., 162., 163., 264., 313., 314., 160., 165., 335., 336.,\n",
       "       337., 338., 339., 340., 341., 342.,  94.,  95.,  96.,  97.,  98.,\n",
       "        99., 100., 101., 291., 292., 293., 294., 295., 296., 297.,  14.,\n",
       "        15.,  16.,  17.,  18.,  19.,  20., 131., 132., 133., 134., 135.,\n",
       "       136., 137., 138., 239., 240., 241., 129., 130., 172., 173., 174.,\n",
       "       248., 249., 250., 251., 252., 253., 254., 255.,   4.,   5.,   6.,\n",
       "         8.,   9.,  10., 379., 380., 381., 382., 383., 385., 155., 156.,\n",
       "       334., 139., 140., 141., 142., 298., 299., 300., 301., 302., 303.,\n",
       "       216., 376., 377., 378.,  62.,  63.,  64.,  65.,  66.,  67.,  68.,\n",
       "        69.,  35.,  36.,  37.,  38.,  39.,  40.,  41.,  42., 196., 197.,\n",
       "       198., 199., 200., 201., 275., 276., 278., 279., 280., 281., 282.,\n",
       "       102., 103.,  53.,  54.,  55.,  56.,  57.,  58.,  59.,  60., 392.,\n",
       "       398., 399., 146., 388., 359., 360., 362., 315., 316., 317.,  90.,\n",
       "        91.,  92.,  93., 343., 344., 345., 346., 353., 355., 242., 243.,\n",
       "       244., 245., 246., 247., 347., 348., 166.,  21.,  22.,  23., 401.,\n",
       "       402., 403., 404., 349.,  61.,  70.,  71.,  72.,  73.,  74.,  75.,\n",
       "       273., 274., 277., 266., 184., 185., 186., 187., 188., 189., 190.,\n",
       "       191.,  27.,  28.,  29.,  30.,  31.,  32.,  33.,  34.,  24., 194.,\n",
       "       195., 272., 113., 115., 116., 117., 143., 144., 145., 290., 192.,\n",
       "       193., 175., 304., 183.,  85.,  86.,  87.,  88.,  89., 283., 284.,\n",
       "       285., 361., 358., 118., 119., 120.,  26., 286., 287., 288., 289.,\n",
       "        76.,   1.,   2.,   3.,   7.,  44., 391.,  43.,  45.,  46.,  11.,\n",
       "        12.,  13.,  52.,  47.,  48.,  49.,  50.,  51.,  25.])"
      ]
     },
     "execution_count": 104,
     "metadata": {},
     "output_type": "execute_result"
    }
   ],
   "source": [
    "data[\"Credit_History_Age_Months\"].unique()\n"
   ]
  },
  {
   "cell_type": "code",
   "execution_count": 105,
   "id": "b6ea7803-2ce3-4552-b69c-329d7c5561d1",
   "metadata": {},
   "outputs": [
    {
     "name": "stdout",
     "output_type": "stream",
     "text": [
      "8860\n"
     ]
    }
   ],
   "source": [
    "print(data['Credit_History_Age_Months'].isna().sum())"
   ]
  },
  {
   "cell_type": "code",
   "execution_count": 106,
   "id": "6ce0d566-6005-439e-93d2-7cac0854779c",
   "metadata": {},
   "outputs": [
    {
     "name": "stdout",
     "output_type": "stream",
     "text": [
      " column :  Credit_History_Age_Months\n",
      "upper_bound is  537.5  lower_bound is  -90.5\n",
      "outliers :  []\n"
     ]
    }
   ],
   "source": [
    "# Step 1: Compute the mean for each Customer_ID\n",
    "Customer_history = data.groupby('Customer_ID')['Credit_History_Age_Months'].mean()\n",
    "\n",
    "# Step 2: Replace values \n",
    "def replace_history(row, customer_history):\n",
    "    if pd.isnull(row['Credit_History_Age_Months'])  or row['Credit_History_Age_Months'] < 0 :        \n",
    "        return customer_history[row['Customer_ID']]\n",
    "    else:\n",
    "        return row['Credit_History_Age_Months']\n",
    "\n",
    "data['Credit_History_Age_Months'] = data.apply(replace_history, axis=1, customer_history=Customer_history)\n",
    "detect_outliers(data,'Credit_History_Age_Months')\n",
    "\n",
    "\n"
   ]
  },
  {
   "cell_type": "code",
   "execution_count": 107,
   "id": "58939dfc-de2b-4f51-a791-a814fc8eb59c",
   "metadata": {},
   "outputs": [
    {
     "name": "stdout",
     "output_type": "stream",
     "text": [
      "0\n"
     ]
    }
   ],
   "source": [
    "print(data['Monthly_Balance'].isna().sum())\n",
    "#detect_outliers(data,'Monthly_Balance')"
   ]
  },
  {
   "cell_type": "markdown",
   "id": "76551988-faeb-4e18-ad24-3c04c4efd1aa",
   "metadata": {},
   "source": [
    "---"
   ]
  },
  {
   "cell_type": "markdown",
   "id": "72827f22-c0a6-4cbc-a0f3-4f34983647e8",
   "metadata": {},
   "source": [
    "## Num_Bank_Accounts"
   ]
  },
  {
   "cell_type": "code",
   "execution_count": 110,
   "id": "f4cdd53d-4361-48a0-892a-6b08cafbbe79",
   "metadata": {},
   "outputs": [
    {
     "data": {
      "text/plain": [
       "0           3\n",
       "1           3\n",
       "2           3\n",
       "3           3\n",
       "4           3\n",
       "         ... \n",
       "98299       0\n",
       "98300    1194\n",
       "98301       0\n",
       "98302       0\n",
       "98303       0\n",
       "Name: Num_Bank_Accounts, Length: 98304, dtype: int64"
      ]
     },
     "execution_count": 110,
     "metadata": {},
     "output_type": "execute_result"
    }
   ],
   "source": [
    "pd.set_option('display.max_row',30)\n",
    "data['Num_Bank_Accounts']"
   ]
  },
  {
   "cell_type": "code",
   "execution_count": 111,
   "id": "e75c441a-bbc1-42ae-b3bb-39d6bb0b3812",
   "metadata": {},
   "outputs": [
    {
     "data": {
      "text/plain": [
       "0"
      ]
     },
     "execution_count": 111,
     "metadata": {},
     "output_type": "execute_result"
    }
   ],
   "source": [
    "data['Num_Bank_Accounts'].isna().sum()"
   ]
  },
  {
   "cell_type": "code",
   "execution_count": 112,
   "id": "09828412-20aa-49d1-86b7-8ec9c7e4cc75",
   "metadata": {},
   "outputs": [
    {
     "data": {
      "text/plain": [
       "array([   3,    2,    1,    7,    4,    0,    8,    5,    6,    9,   10,\n",
       "       1414, 1231,   67,  572, 1488,   91,  528, 1647, 1696, 1338,  649,\n",
       "        889, 1668,  685,  857,  975, 1496, 1534, 1620,   37, 1388, 1429,\n",
       "       1332, 1588,  120, 1777, 1096,  803,  494,  744, 1139,  831, 1613,\n",
       "        741,  121,  665, 1748, 1644,  823, 1356, 1651,   87,  711,  450,\n",
       "        210, 1671, 1722,  648,  672, 1662, 1495,  510,  666,  429, 1131,\n",
       "       1434,  980, 1026,  526,  718, 1300, 1312, 1315,  501, 1566,  480,\n",
       "       1042,  322,  628, 1016,  333, 1265,  791,  427,  563,  905, 1190,\n",
       "       1036, 1611,   38,  619,  555, 1769,  280,  752, 1201,  812, 1487,\n",
       "        222,  212, 1019, 1222,  610, 1714, 1308,  525, 1158, 1115, 1616,\n",
       "        754, 1601,  797, 1577,  521,  703,  933,  959,  809, 1089, 1656,\n",
       "       1113, 1715,  964, 1533, 1789,  871,  434, 1295,  565, 1724,  603,\n",
       "        677,  541,  698, 1101,  464, 1539, 1462, 1011, 1257, 1727,   45,\n",
       "        244, 1266,  897,  535,  484,  331,  675,  826,  946, 1675,  105,\n",
       "       1327,  845,  549,  473,  710,  527,  908,   68, 1628,  371,  445,\n",
       "       1168,  868,  687,  455, 1003,   26, 1526,  618,  598,  351, 1342,\n",
       "       1783,  683, 1557, 1335,  416, 1747,  137, 1475,  373,  338,  942,\n",
       "        170,  973, 1605, 1478,  386, 1448, 1033, 1225,  596, 1731, 1214,\n",
       "       1481, 1105,  580,  347,  108,  148, 1001, 1467, 1114, 1000,  632,\n",
       "        246, 1032, 1394,  689,  482, 1303,  720,  574,  588, 1358,  650,\n",
       "        708,  179,  844, 1140,  335,   60,  732, 1494, 1436,  820,   28,\n",
       "       1576,  818,  794,  731,  534,  556,  691, 1197, 1155, 1255, 1763,\n",
       "        769, 1124,  819,  318, 1418,  882,   61,  264,  194, 1798,  611,\n",
       "        840,  505, 1110,  719, 1065,  195,  584,  550, 1014, 1022,  903,\n",
       "        976,   31,  417, 1423, 1148,  616,  786, 1424,   55, 1061, 1293,\n",
       "        342,   43, 1540,  488, 1122, 1274, 1075,  722, 1268,   41,  814,\n",
       "       1564, 1390, 1141,  497,  224, 1135,  441,  374,   74,  314, 1408,\n",
       "        475, 1015,  681, 1236,   59, 1425, 1637, 1240,  299, 1657, 1123,\n",
       "       1091, 1264, 1561, 1632, 1562,  305, 1318, 1217, 1699, 1070,  864,\n",
       "       1391,  112,  860,  595,  229, 1624, 1051,  821, 1794, 1565,  397,\n",
       "       1368, 1353,  508, 1725, 1413, 1239,  847, 1317,  570,   -1,  302,\n",
       "        456,  198,  122,  832,  167, 1547, 1666, 1241,  275,  566, 1779,\n",
       "        201,  334, 1169,  834, 1174, 1040,  530, 1676, 1468, 1093,  706,\n",
       "        489, 1592,  688,  830, 1784, 1543, 1600, 1178,  228,  483, 1501,\n",
       "        950,  548,  870, 1211,  604,  804,  129,  540, 1702, 1636, 1680,\n",
       "       1443, 1252,  499,  180,  702,  885, 1652,  795,  938,  833, 1654,\n",
       "       1793,  303, 1621, 1516, 1138,   32,  160, 1491,   83,  423,  928,\n",
       "        339,  931,  243, 1756,  583, 1695,  274,  955,  430, 1247,  490,\n",
       "        726,  987,   42, 1626, 1470, 1739,  887,  211,  385, 1221,  753,\n",
       "        324,  406, 1677, 1567,  785,  182, 1079,  184, 1771, 1048, 1069,\n",
       "        561,  589, 1634,   70, 1371,  647, 1153,  239,  801, 1279, 1287,\n",
       "        425, 1589,  929, 1511, 1765, 1047, 1005, 1337,  981, 1766,  805,\n",
       "       1574, 1638,  186,   99,  288, 1650,  974,  996, 1595, 1594,  865,\n",
       "        203, 1440,  448,  285,   94,  875,  916, 1733,  240,  330,   79,\n",
       "         82,  135, 1043,  142, 1235, 1569, 1741, 1461,  560, 1551,  409,\n",
       "        418, 1017,  892,  354,  124,  935,  313, 1363,  232, 1200, 1184,\n",
       "       1432, 1479, 1407, 1080, 1719, 1024,  970,  761,  158,  312, 1060,\n",
       "        684,  696, 1520, 1352, 1502,  936,  485,  350, 1560, 1166, 1013,\n",
       "         34, 1691,  715, 1570, 1751, 1503, 1194, 1558,  411,  298,  260,\n",
       "        308,  796, 1442,  912, 1256,  746,  435,  620, 1774, 1181, 1323,\n",
       "        837,  307, 1430,   53, 1447,  259,  921,  328, 1034,  353,  822,\n",
       "        654,  829,  609,  166,  136,  172, 1306, 1028,  808,  270, 1072,\n",
       "        514,  156, 1331, 1630,  462, 1310, 1210,  265,   50, 1355,  394,\n",
       "       1393,  226,  991,  368, 1018, 1037,  627, 1744,  523,  894,  944,\n",
       "       1730, 1076, 1094, 1617,  449,  678, 1164,   30,  817, 1568,  607,\n",
       "        709, 1230,  606, 1480,   29, 1522, 1670,   49,  626, 1641, 1712,\n",
       "       1370, 1782,  119, 1137, 1277,   35,  947,  851, 1041, 1583, 1536,\n",
       "        575,  196,  143,   33,  383,   57,  621,  230,  162,  352, 1504,\n",
       "       1250,   39,  511, 1364,  918, 1665,  734, 1320,  316,  771,  705,\n",
       "       1435,  304,  116, 1553,  424,  493, 1530, 1195, 1604,  624, 1599,\n",
       "        782, 1606, 1622, 1285,  657, 1275, 1291, 1402,  420,  932,  468,\n",
       "        442, 1145,   93, 1218,  283,  292,  927, 1711, 1422,  364, 1398,\n",
       "        594,  789, 1350,  676,  216, 1012, 1426,  717, 1095, 1786,  850,\n",
       "        777,  375,  356,  701, 1325,  290, 1775,  467, 1365, 1549,  848,\n",
       "       1453,   84, 1458,  888,  770, 1591,  582,   40, 1261, 1764, 1067,\n",
       "        145,  471,  476, 1128,  967,  622,  641,  539,  858,  295, 1395,\n",
       "       1517, 1297, 1126,  926,  157, 1377,  993,  125,  340,  271, 1669,\n",
       "        272,  979,  707,  564,  997,  447, 1578, 1465,  415,  714, 1276,\n",
       "         18, 1316,  587,  245,  446,  978, 1002, 1631,  341, 1307,  524,\n",
       "       1267,  103,  242, 1378, 1328, 1294, 1309,  724,  197,  999,  547,\n",
       "       1100, 1456,   77, 1506, 1472,  460,   11, 1420,  218, 1253,  392,\n",
       "        670, 1321,  100, 1205,  443,   92,  811,  774,  159, 1770,  972,\n",
       "       1157, 1102,  217,  358, 1473,  440,  140, 1361,  481,  512, 1117,\n",
       "        300, 1263, 1581,  901, 1298,  310,  637,  758, 1734, 1288,  326,\n",
       "       1678, 1444, 1344, 1379,  828,  982,  104,  317, 1529, 1627,  115,\n",
       "        645, 1404,  940, 1305, 1049, 1645, 1466,  175, 1165, 1419, 1031,\n",
       "        581, 1580,  854,  725, 1655, 1134,  569, 1387, 1381, 1760,  360,\n",
       "       1735, 1146, 1411,  969, 1281,  591,  327,  466,  667,  147,  109,\n",
       "        784, 1396, 1349,  839, 1284,  802,   97,  281, 1382, 1039, 1483,\n",
       "        376, 1249, 1207, 1213, 1219, 1345, 1523,  949, 1063,  983,  886,\n",
       "       1151,  992, 1107, 1314,  151,   69, 1489,  695,  738,  444, 1525,\n",
       "        825,  506,  518, 1077, 1354,  713,  690,  861, 1389,  968,  421,\n",
       "        907,  205,  856,   72,  651,  161,  867,  971, 1078,   64, 1701,\n",
       "        546, 1216,   27, 1709,  193, 1528,  957,  577,  346, 1416,  396,\n",
       "       1182,  652, 1083, 1778,  680, 1754, 1544], dtype=int64)"
      ]
     },
     "execution_count": 112,
     "metadata": {},
     "output_type": "execute_result"
    }
   ],
   "source": [
    "data['Num_Bank_Accounts'].unique()"
   ]
  },
  {
   "cell_type": "code",
   "execution_count": 113,
   "id": "db749049-0056-434b-9833-dd9595f3a935",
   "metadata": {},
   "outputs": [
    {
     "name": "stdout",
     "output_type": "stream",
     "text": [
      " column :  Num_Bank_Accounts\n",
      "upper_bound is  13.0  lower_bound is  -3.0\n",
      "outliers :  [37, 38, 45, 26, 28, 31, 37, 43, 41, 32, 42, 34, 50, 28, 30, 29, 49, 35, 33, 39, 34, 43, 39, 43, 40, 28, 18, 37, 34, 39, 42, 43, 33, 27, 34]\n"
     ]
    }
   ],
   "source": [
    "#tep 1: Compute the mode for each Customer_ID\n",
    "Customer_bank = data.groupby('Customer_ID')['Num_Bank_Accounts'].apply(\n",
    "    lambda x: x.mode().iloc[0] if not x.mode().empty else x.iloc[0]\n",
    ")\n",
    "\n",
    "#Customer_bank = data.groupby('Customer_ID')['Num_Bank_Accounts'].mean()\n",
    "\n",
    "# Step 2: Replace values \n",
    "def replace_bank_account(row, customer_bank):\n",
    "    if pd.isnull(row['Num_Bank_Accounts'])  or row['Num_Bank_Accounts'] > 50 :        \n",
    "        return customer_bank[row['Customer_ID']]\n",
    "    else:\n",
    "        return row['Num_Bank_Accounts']\n",
    "\n",
    "data['Num_Bank_Accounts'] = data.apply(replace_bank_account, axis=1, customer_bank=Customer_bank)\n",
    "detect_outliers(data,'Num_Bank_Accounts')\n"
   ]
  },
  {
   "cell_type": "code",
   "execution_count": 114,
   "id": "5d9611c0-2ef1-4fc3-b9a7-c2d83d823d2c",
   "metadata": {},
   "outputs": [
    {
     "name": "stdout",
     "output_type": "stream",
     "text": [
      "0\n"
     ]
    }
   ],
   "source": [
    "print(data['Num_Bank_Accounts'].isna().sum())"
   ]
  },
  {
   "cell_type": "markdown",
   "id": "2e13fd5f-6401-4696-b250-a2bc06544040",
   "metadata": {},
   "source": [
    "---"
   ]
  },
  {
   "cell_type": "markdown",
   "id": "29fafb05-f372-465d-b0ea-b90d214fa2e1",
   "metadata": {},
   "source": [
    "## Num_Credit_Card"
   ]
  },
  {
   "cell_type": "code",
   "execution_count": 117,
   "id": "019b1b43-c61c-4443-9c28-842e01185e95",
   "metadata": {},
   "outputs": [
    {
     "data": {
      "text/plain": [
       "0        4\n",
       "1        4\n",
       "2        4\n",
       "3        4\n",
       "4        4\n",
       "        ..\n",
       "98299    4\n",
       "98300    4\n",
       "98301    4\n",
       "98302    4\n",
       "98303    4\n",
       "Name: Num_Credit_Card, Length: 98304, dtype: int64"
      ]
     },
     "execution_count": 117,
     "metadata": {},
     "output_type": "execute_result"
    }
   ],
   "source": [
    "data['Num_Credit_Card']"
   ]
  },
  {
   "cell_type": "code",
   "execution_count": 118,
   "id": "49fadeb8-a322-40ae-b073-c774982ec8ee",
   "metadata": {},
   "outputs": [
    {
     "data": {
      "text/plain": [
       "0"
      ]
     },
     "execution_count": 118,
     "metadata": {},
     "output_type": "execute_result"
    }
   ],
   "source": [
    "data['Num_Credit_Card'].isna().sum()"
   ]
  },
  {
   "cell_type": "code",
   "execution_count": 119,
   "id": "73ec3018-003c-4c9f-9b75-3597c5134c9d",
   "metadata": {},
   "outputs": [
    {
     "data": {
      "text/plain": [
       "array([   4, 1385,    5, ...,  326,  389,  699], dtype=int64)"
      ]
     },
     "execution_count": 119,
     "metadata": {},
     "output_type": "execute_result"
    }
   ],
   "source": [
    "data['Num_Credit_Card'].unique()"
   ]
  },
  {
   "cell_type": "code",
   "execution_count": 120,
   "id": "39bd2233-4d1a-4f4a-b720-6f551a9b681f",
   "metadata": {},
   "outputs": [
    {
     "name": "stdout",
     "output_type": "stream",
     "text": [
      " column :  Num_Credit_Card\n",
      "upper_bound is  11.5  lower_bound is  -0.5\n",
      "outliers :  [25, 17, 25, 28, 25, 25, 29, 22, 15, 15, 27, 26, 27, 18, 16, 25, 24, 16, 20, 28, 21, 22, 28, 15, 28, 29]\n"
     ]
    },
    {
     "data": {
      "text/plain": [
       "(98304, 23)"
      ]
     },
     "execution_count": 120,
     "metadata": {},
     "output_type": "execute_result"
    }
   ],
   "source": [
    "# Step 1: Compute the mode for each Customer_ID\n",
    "Customer_credit = data.groupby('Customer_ID')['Num_Credit_Card'].apply(\n",
    "    lambda x: x.mode().iloc[0] if not x.mode().empty else x.iloc[0]\n",
    ")\n",
    "\n",
    "\n",
    "# Step 2: Replace values \n",
    "def replace_credit(row, customer_credit_modes):\n",
    "    if pd.isnull(row['Num_Credit_Card'])  or row['Num_Credit_Card'] > 30 or row['Num_Credit_Card'] <= 0:        \n",
    "        return customer_credit_modes[row['Customer_ID']]\n",
    "    else:\n",
    "        return row['Num_Credit_Card']\n",
    "\n",
    "data['Num_Credit_Card'] = data.apply(replace_credit, axis=1, customer_credit_modes=Customer_credit)\n",
    "detect_outliers(data,'Num_Credit_Card')\n",
    "\n",
    "\n",
    "data.shape"
   ]
  },
  {
   "cell_type": "code",
   "execution_count": 121,
   "id": "9ad43ae9-369e-47fd-9077-82830c118f78",
   "metadata": {},
   "outputs": [
    {
     "name": "stdout",
     "output_type": "stream",
     "text": [
      "0\n",
      " column :  Num_Credit_Card\n",
      "upper_bound is  11.5  lower_bound is  -0.5\n",
      "outliers :  [25, 17, 25, 28, 25, 25, 29, 22, 15, 15, 27, 26, 27, 18, 16, 25, 24, 16, 20, 28, 21, 22, 28, 15, 28, 29]\n"
     ]
    }
   ],
   "source": [
    "print(data['Num_Credit_Card'].isna().sum())\n",
    "detect_outliers(data,'Num_Credit_Card')"
   ]
  },
  {
   "cell_type": "markdown",
   "id": "87a9cbed-6ed1-490e-8d2e-cf88df7a6a87",
   "metadata": {},
   "source": [
    "---"
   ]
  },
  {
   "cell_type": "markdown",
   "id": "a36eb906-b423-40e8-a25a-434866a48a0c",
   "metadata": {},
   "source": [
    "## Interest_Rate\n"
   ]
  },
  {
   "cell_type": "code",
   "execution_count": 124,
   "id": "fab13ce2-8189-4968-a9e1-819cc6496748",
   "metadata": {},
   "outputs": [
    {
     "data": {
      "text/plain": [
       "0        3\n",
       "1        3\n",
       "2        3\n",
       "3        3\n",
       "4        3\n",
       "        ..\n",
       "98299    4\n",
       "98300    4\n",
       "98301    4\n",
       "98302    4\n",
       "98303    4\n",
       "Name: Interest_Rate, Length: 98304, dtype: int64"
      ]
     },
     "execution_count": 124,
     "metadata": {},
     "output_type": "execute_result"
    }
   ],
   "source": [
    "data['Interest_Rate']"
   ]
  },
  {
   "cell_type": "code",
   "execution_count": 125,
   "id": "c1885cd8-8b42-4054-b9a3-7da7c7ddafda",
   "metadata": {},
   "outputs": [
    {
     "data": {
      "text/plain": [
       "0"
      ]
     },
     "execution_count": 125,
     "metadata": {},
     "output_type": "execute_result"
    }
   ],
   "source": [
    "data['Interest_Rate'].isna().sum()"
   ]
  },
  {
   "cell_type": "code",
   "execution_count": 126,
   "id": "c3662064-6898-46c8-bd87-6a34c21ea0de",
   "metadata": {},
   "outputs": [
    {
     "name": "stdout",
     "output_type": "stream",
     "text": [
      "5797\n",
      "1\n"
     ]
    }
   ],
   "source": [
    "print(data['Interest_Rate'].max())\n",
    "print(data['Interest_Rate'].min())"
   ]
  },
  {
   "cell_type": "code",
   "execution_count": 127,
   "id": "54aec49c-9080-474a-9014-95c9fcbfd123",
   "metadata": {},
   "outputs": [
    {
     "data": {
      "text/plain": [
       "array([   3,    6,    8, ..., 1079, 2337, 1426], dtype=int64)"
      ]
     },
     "execution_count": 127,
     "metadata": {},
     "output_type": "execute_result"
    }
   ],
   "source": [
    "data['Interest_Rate'].unique()"
   ]
  },
  {
   "cell_type": "code",
   "execution_count": 128,
   "id": "1d0b7da0-295b-4685-a0e8-a1ca638bab09",
   "metadata": {},
   "outputs": [
    {
     "name": "stdout",
     "output_type": "stream",
     "text": [
      " column :  Interest_Rate\n",
      "upper_bound is  39.5  lower_bound is  -12.5\n",
      "outliers :  []\n"
     ]
    },
    {
     "data": {
      "text/plain": [
       "(98304, 23)"
      ]
     },
     "execution_count": 128,
     "metadata": {},
     "output_type": "execute_result"
    }
   ],
   "source": [
    "# Step 1: Compute the mode for each Customer_ID\n",
    "Customer_rate = data.groupby('Customer_ID')['Interest_Rate'].apply(\n",
    "    lambda x: x.mode().iloc[0] if not x.mode().empty else x.iloc[0]\n",
    ")\n",
    "\n",
    "\n",
    "# Step 2: Replace values \n",
    "def replace_rate(row, customer_rate_modes):\n",
    "    if pd.isnull(row['Interest_Rate'])  or row['Interest_Rate'] > 34 :        \n",
    "        return customer_rate_modes[row['Customer_ID']]\n",
    "    else:\n",
    "        return row['Interest_Rate']\n",
    "\n",
    "data['Interest_Rate'] = data.apply(replace_rate, axis=1, customer_rate_modes=Customer_rate)\n",
    "detect_outliers(data,'Interest_Rate')\n",
    "\n",
    "\n",
    "data.shape"
   ]
  },
  {
   "cell_type": "markdown",
   "id": "575851bd-387e-4553-8a1b-d77aa3ed8ab9",
   "metadata": {},
   "source": [
    "---"
   ]
  },
  {
   "cell_type": "markdown",
   "id": "985fb7c1-d659-4a57-a583-25e0509191fb",
   "metadata": {},
   "source": [
    "## Delay_from_due_date"
   ]
  },
  {
   "cell_type": "code",
   "execution_count": 131,
   "id": "31df824b-a1d7-4158-82c1-acbcfbce6266",
   "metadata": {},
   "outputs": [
    {
     "data": {
      "text/plain": [
       "0        3\n",
       "1       -1\n",
       "2        3\n",
       "3        5\n",
       "4        6\n",
       "        ..\n",
       "98299    9\n",
       "98300    9\n",
       "98301    9\n",
       "98302    9\n",
       "98303    9\n",
       "Name: Delay_from_due_date, Length: 98304, dtype: int64"
      ]
     },
     "execution_count": 131,
     "metadata": {},
     "output_type": "execute_result"
    }
   ],
   "source": [
    "data['Delay_from_due_date']"
   ]
  },
  {
   "cell_type": "code",
   "execution_count": 132,
   "id": "6173dca5-7c75-4185-a6a2-7ad6b698de81",
   "metadata": {},
   "outputs": [
    {
     "data": {
      "text/plain": [
       "0"
      ]
     },
     "execution_count": 132,
     "metadata": {},
     "output_type": "execute_result"
    }
   ],
   "source": [
    "data['Delay_from_due_date'].isna().sum()"
   ]
  },
  {
   "cell_type": "code",
   "execution_count": 133,
   "id": "b87918d5-f1fb-488a-8378-b35bb206c12a",
   "metadata": {},
   "outputs": [
    {
     "name": "stdout",
     "output_type": "stream",
     "text": [
      "67\n",
      "-5\n"
     ]
    }
   ],
   "source": [
    "print(data['Delay_from_due_date'].max())\n",
    "print(data['Delay_from_due_date'].min())"
   ]
  },
  {
   "cell_type": "code",
   "execution_count": 134,
   "id": "7d816350-47cf-45b3-9bbc-9c7e211fdca4",
   "metadata": {},
   "outputs": [
    {
     "data": {
      "text/plain": [
       "array([ 3, -1,  5,  6,  8,  7, 13, 10,  0,  4,  9,  1, 12, 11, 30, 31, 34,\n",
       "       27, 14,  2, -2, 16, 17, 15, 23, 22, 21, 18, 19, 52, 51, 48, 53, 26,\n",
       "       43, 28, 25, 20, 47, 46, 49, 24, 61, 29, 50, 58, 45, 59, 55, 56, 57,\n",
       "       54, 62, 65, 64, 67, 36, 41, 33, 32, 39, 44, 42, 60, 35, 38, -3, 63,\n",
       "       40, 37, -5, -4, 66], dtype=int64)"
      ]
     },
     "execution_count": 134,
     "metadata": {},
     "output_type": "execute_result"
    }
   ],
   "source": [
    "data['Delay_from_due_date'].unique()"
   ]
  },
  {
   "cell_type": "code",
   "execution_count": 135,
   "id": "8c389f0c-10b5-4ba4-851f-a22ace5ccef1",
   "metadata": {},
   "outputs": [
    {
     "data": {
      "text/plain": [
       "(98304, 23)"
      ]
     },
     "execution_count": 135,
     "metadata": {},
     "output_type": "execute_result"
    }
   ],
   "source": [
    "# Step 1: Compute the mode for each Customer_ID\n",
    "Customer_date = data.groupby('Customer_ID')['Delay_from_due_date'].apply(\n",
    "    lambda x: x.mode().iloc[0] if not x.mode().empty else x.iloc[0]\n",
    ")\n",
    "\n",
    "\n",
    "# Step 2: Replace values \n",
    "def replace_date(row, customer_date_delay_modes):\n",
    "    if pd.isnull(row['Delay_from_due_date'])  or row['Delay_from_due_date'] < 0 :        \n",
    "        return customer_date_delay_modes[row['Customer_ID']]\n",
    "    else:\n",
    "        return row['Delay_from_due_date']\n",
    "\n",
    "data['Delay_from_due_date'] = data.apply(replace_date, axis=1, customer_date_delay_modes=Customer_date)\n",
    "#detect_outliers(data,'Delay_from_due_date')\n",
    "\n",
    "\n",
    "data.shape"
   ]
  },
  {
   "cell_type": "code",
   "execution_count": 136,
   "id": "417fd5d7-5445-45fe-b32e-f1570faa0433",
   "metadata": {},
   "outputs": [
    {
     "data": {
      "text/plain": [
       "(98283, 23)"
      ]
     },
     "execution_count": 136,
     "metadata": {},
     "output_type": "execute_result"
    }
   ],
   "source": [
    "data_invalid_indicies=data[(data['Delay_from_due_date']<0) ].index.to_list()\n",
    "data = data.drop(data_invalid_indicies).reset_index(drop=True)\n",
    "data.shape"
   ]
  },
  {
   "cell_type": "markdown",
   "id": "0bc1feb4-9b2e-4d7c-a917-f0a57f3985ff",
   "metadata": {},
   "source": [
    "---"
   ]
  },
  {
   "cell_type": "markdown",
   "id": "182cf8f7-357c-4f56-abb3-fa23faa0bc3a",
   "metadata": {},
   "source": [
    "## Num_Credit_Inquiries"
   ]
  },
  {
   "cell_type": "code",
   "execution_count": 139,
   "id": "49e80903-6eb5-42d0-aed5-4ac43f709854",
   "metadata": {},
   "outputs": [
    {
     "data": {
      "text/plain": [
       "Num_Credit_Inquiries\n",
       "4.0       11071\n",
       "3.0        8749\n",
       "6.0        7946\n",
       "7.0        7909\n",
       "2.0        7810\n",
       "          ...  \n",
       "699.0         1\n",
       "449.0         1\n",
       "530.0         1\n",
       "1793.0        1\n",
       "2274.0        1\n",
       "Name: count, Length: 1210, dtype: int64"
      ]
     },
     "execution_count": 139,
     "metadata": {},
     "output_type": "execute_result"
    }
   ],
   "source": [
    "pd.set_option('display.max_row',30)\n",
    "\n",
    "data['Num_Credit_Inquiries'].value_counts()"
   ]
  },
  {
   "cell_type": "code",
   "execution_count": 140,
   "id": "ac32be80-cd9c-4f78-a909-3c75071c1b24",
   "metadata": {},
   "outputs": [
    {
     "data": {
      "text/plain": [
       "1927"
      ]
     },
     "execution_count": 140,
     "metadata": {},
     "output_type": "execute_result"
    }
   ],
   "source": [
    "data['Num_Credit_Inquiries'].isna().sum()"
   ]
  },
  {
   "cell_type": "code",
   "execution_count": 141,
   "id": "7341e4f0-5021-4120-bb71-ae521b9f1c3b",
   "metadata": {},
   "outputs": [
    {
     "data": {
      "text/plain": [
       "array([4.000e+00, 2.000e+00, 3.000e+00, ..., 7.580e+02, 1.388e+03,\n",
       "       2.274e+03])"
      ]
     },
     "execution_count": 141,
     "metadata": {},
     "output_type": "execute_result"
    }
   ],
   "source": [
    "data['Num_Credit_Inquiries'].unique()"
   ]
  },
  {
   "cell_type": "code",
   "execution_count": 142,
   "id": "9d32c4f2-9eea-42dd-9b4b-465d7dc61896",
   "metadata": {},
   "outputs": [
    {
     "name": "stdout",
     "output_type": "stream",
     "text": [
      "2597.0\n",
      "0.0\n"
     ]
    }
   ],
   "source": [
    "print(data['Num_Credit_Inquiries'].max())\n",
    "print(data['Num_Credit_Inquiries'].min())"
   ]
  },
  {
   "cell_type": "code",
   "execution_count": 143,
   "id": "da6af7d5-e862-4650-b578-d0bd341f07be",
   "metadata": {},
   "outputs": [
    {
     "data": {
      "text/plain": [
       "(98283, 23)"
      ]
     },
     "execution_count": 143,
     "metadata": {},
     "output_type": "execute_result"
    }
   ],
   "source": [
    "# Step 1: Compute the mode for each Customer_ID\n",
    "Customer_inq = data.groupby('Customer_ID')['Num_Credit_Card'].mean()\n",
    "\n",
    "\n",
    "# Step 2: Replace values \n",
    "def replace_inq(row, customer_inq_modes):\n",
    "    if pd.isnull(row['Num_Credit_Inquiries'])  or (row['Num_Credit_Inquiries'] < 0) or (row['Num_Credit_Inquiries'] > 55) :        \n",
    "        return customer_inq_modes[row['Customer_ID']]\n",
    "    else:\n",
    "        return row['Num_Credit_Inquiries']\n",
    "\n",
    "data['Num_Credit_Inquiries'] = data.apply(replace_inq, axis=1, customer_inq_modes=Customer_inq)\n",
    "#detect_outliers(data,'Num_Credit_Inquiries')\n",
    "\n",
    "data.shape"
   ]
  },
  {
   "cell_type": "code",
   "execution_count": 144,
   "id": "ce9ba44e-676e-4144-b74a-728e8dae8e14",
   "metadata": {},
   "outputs": [
    {
     "data": {
      "text/plain": [
       "0"
      ]
     },
     "execution_count": 144,
     "metadata": {},
     "output_type": "execute_result"
    }
   ],
   "source": [
    "data['Num_Credit_Inquiries'].isna().sum()"
   ]
  },
  {
   "cell_type": "markdown",
   "id": "35ae10b7-c19f-4a94-818f-3af412b5c030",
   "metadata": {},
   "source": [
    "---"
   ]
  },
  {
   "cell_type": "markdown",
   "id": "b5ba83a5-de45-4537-adb0-12e2eabb7f82",
   "metadata": {},
   "source": [
    "## Credit_Utilization_Ratio"
   ]
  },
  {
   "cell_type": "code",
   "execution_count": 147,
   "id": "09bf479a-ab91-4cb2-9c4f-fec991fd688e",
   "metadata": {},
   "outputs": [
    {
     "data": {
      "text/plain": [
       "0        26.822620\n",
       "1        31.944960\n",
       "2        28.609352\n",
       "3        31.377862\n",
       "4        24.797347\n",
       "           ...    \n",
       "98278    31.936092\n",
       "98279    26.268474\n",
       "98280    28.754729\n",
       "98281    38.514974\n",
       "98282    31.356267\n",
       "Name: Credit_Utilization_Ratio, Length: 98283, dtype: float64"
      ]
     },
     "execution_count": 147,
     "metadata": {},
     "output_type": "execute_result"
    }
   ],
   "source": [
    "data['Credit_Utilization_Ratio']"
   ]
  },
  {
   "cell_type": "code",
   "execution_count": 148,
   "id": "cf1d4330-7688-4633-9513-138dd9c958f7",
   "metadata": {},
   "outputs": [
    {
     "name": "stdout",
     "output_type": "stream",
     "text": [
      "50.00000000000001\n",
      "20.0\n"
     ]
    }
   ],
   "source": [
    "\n",
    "print(data['Credit_Utilization_Ratio'].max())\n",
    "print(data['Credit_Utilization_Ratio'].min())"
   ]
  },
  {
   "cell_type": "code",
   "execution_count": 149,
   "id": "66c94964-ebf6-4e40-9a96-5ac9bdc50449",
   "metadata": {},
   "outputs": [
    {
     "data": {
      "text/plain": [
       "0"
      ]
     },
     "execution_count": 149,
     "metadata": {},
     "output_type": "execute_result"
    }
   ],
   "source": [
    "data['Credit_Utilization_Ratio'].isna().sum()"
   ]
  },
  {
   "cell_type": "code",
   "execution_count": 150,
   "id": "5e85b678-9406-4640-a42a-8ced2d9e5647",
   "metadata": {},
   "outputs": [
    {
     "data": {
      "text/plain": [
       "array([26.82261962, 31.94496006, 28.60935202, ..., 28.75472883,\n",
       "       38.51497415, 31.35626656])"
      ]
     },
     "execution_count": 150,
     "metadata": {},
     "output_type": "execute_result"
    }
   ],
   "source": [
    "data['Credit_Utilization_Ratio'].unique()"
   ]
  },
  {
   "cell_type": "code",
   "execution_count": 151,
   "id": "5fcb1cec-8d93-44aa-b1e2-8e6b2577c6d1",
   "metadata": {},
   "outputs": [
    {
     "name": "stdout",
     "output_type": "stream",
     "text": [
      " column :  Credit_Utilization_Ratio\n",
      "upper_bound is  49.15421757103067  lower_bound is  15.39382213191254\n",
      "outliers :  [50.00000000000001, 49.52232429787243, 49.25498297529708, 49.56451934738699]\n"
     ]
    }
   ],
   "source": [
    "detect_outliers(data,'Credit_Utilization_Ratio')"
   ]
  },
  {
   "cell_type": "markdown",
   "id": "478bb370-4053-4159-8e5d-d424705b2eca",
   "metadata": {},
   "source": [
    "---"
   ]
  },
  {
   "cell_type": "markdown",
   "id": "abe662db-bd65-4881-9aa9-e6bda39fdd43",
   "metadata": {},
   "source": [
    "## Total_EMI_per_month"
   ]
  },
  {
   "cell_type": "code",
   "execution_count": 154,
   "id": "5fc1acd3-2675-4bfd-be73-5892b5326bda",
   "metadata": {},
   "outputs": [
    {
     "data": {
      "text/plain": [
       "0          49.574949\n",
       "1          49.574949\n",
       "2          49.574949\n",
       "3          49.574949\n",
       "4          49.574949\n",
       "            ...     \n",
       "98278      25.671257\n",
       "98279      25.671257\n",
       "98280      25.671257\n",
       "98281    3466.000000\n",
       "98282      25.671257\n",
       "Name: Total_EMI_per_month, Length: 98283, dtype: float64"
      ]
     },
     "execution_count": 154,
     "metadata": {},
     "output_type": "execute_result"
    }
   ],
   "source": [
    "data['Total_EMI_per_month']"
   ]
  },
  {
   "cell_type": "code",
   "execution_count": 155,
   "id": "4c76415d-b6d5-4c69-b482-c36eca0d483a",
   "metadata": {},
   "outputs": [
    {
     "data": {
      "text/plain": [
       "0"
      ]
     },
     "execution_count": 155,
     "metadata": {},
     "output_type": "execute_result"
    }
   ],
   "source": [
    "data['Total_EMI_per_month'].isna().sum()"
   ]
  },
  {
   "cell_type": "code",
   "execution_count": 156,
   "id": "166b15c2-8b2f-4640-8e7b-a8a3014b424f",
   "metadata": {},
   "outputs": [
    {
     "data": {
      "text/plain": [
       "array([  49.57494921,   18.81621457,  246.99231945, ...,   82.23521975,\n",
       "         25.67125702, 3466.        ])"
      ]
     },
     "execution_count": 156,
     "metadata": {},
     "output_type": "execute_result"
    }
   ],
   "source": [
    "data['Total_EMI_per_month'].unique()"
   ]
  },
  {
   "cell_type": "code",
   "execution_count": 157,
   "id": "cc0773f7-4043-4629-b269-b76b6eab7dd6",
   "metadata": {},
   "outputs": [
    {
     "name": "stdout",
     "output_type": "stream",
     "text": [
      "82331.0\n",
      "0.0\n"
     ]
    }
   ],
   "source": [
    "print(data['Total_EMI_per_month'].max())\n",
    "print(data['Total_EMI_per_month'].min())\n",
    "\n",
    "#detect_outliers(data,'Total_EMI_per_month')"
   ]
  },
  {
   "cell_type": "markdown",
   "id": "7e2454fb-8385-49b4-9db7-0771551f0c7e",
   "metadata": {},
   "source": [
    "---"
   ]
  },
  {
   "cell_type": "markdown",
   "id": "9e11954d-de21-41d2-bb07-5d49fcd1cf2b",
   "metadata": {},
   "source": [
    "---"
   ]
  },
  {
   "cell_type": "markdown",
   "id": "37c5a43c-b79d-46b9-a379-1ac9b6fc134d",
   "metadata": {},
   "source": [
    "---"
   ]
  },
  {
   "cell_type": "code",
   "execution_count": 161,
   "id": "d992d46e-27da-4ac4-a58d-d638cc6255cb",
   "metadata": {},
   "outputs": [
    {
     "name": "stdout",
     "output_type": "stream",
     "text": [
      "(98283, 23)\n",
      "Index(['Occupation', 'Type_of_Loan', 'Credit_Mix', 'Payment_of_Min_Amount',\n",
      "       'Payment_Behaviour', 'Credit_Score'],\n",
      "      dtype='object')\n",
      "(98283, 6)\n",
      "\n",
      "\n",
      "\n",
      "\n",
      "\n",
      "\n",
      "Index(['Customer_ID', 'Age', 'Annual_Income', 'Num_Bank_Accounts',\n",
      "       'Num_Credit_Card', 'Interest_Rate', 'Num_of_Loan',\n",
      "       'Delay_from_due_date', 'Num_of_Delayed_Payment', 'Changed_Credit_Limit',\n",
      "       'Num_Credit_Inquiries', 'Outstanding_Debt', 'Credit_Utilization_Ratio',\n",
      "       'Total_EMI_per_month', 'Amount_invested_monthly', 'Monthly_Balance',\n",
      "       'Credit_History_Age_Months'],\n",
      "      dtype='object')\n",
      "(98283, 17)\n"
     ]
    }
   ],
   "source": [
    "#pd.set_option('display.max_row',30)\n",
    "\n",
    "categorical_data =data.select_dtypes(include=['object'])\n",
    "numerical_data   =data.select_dtypes(include=['number'])\n",
    "\n",
    "print(data.shape)\n",
    "print(categorical_data.columns)\n",
    "print(categorical_data.shape)\n",
    "print(\"\\n\\n\\n\\n\\n\")\n",
    "print(numerical_data.columns)\n",
    "print(numerical_data.shape)\n",
    "\n",
    " ### we need to convert the type of ( Age, Annual_income, num_of_loan, Num_of_Delayed_Payment, Changed_Credit_Limit, Outstanding_Debt, \n",
    " ### Amount_invested_monthly, Monthly_Balance, Credit_History_Age\n",
    "###Num_Bank_Accounts, Num_Credit_Card, Interest_Rate, Delay_from_due_date, Num_Credit_Inquiries, Credit_Utilization_Ratio, Total_EMI_per_month\n"
   ]
  },
  {
   "cell_type": "code",
   "execution_count": 162,
   "id": "e9273938-0ebd-4698-b537-79335d899199",
   "metadata": {},
   "outputs": [
    {
     "data": {
      "text/html": [
       "<div>\n",
       "<style scoped>\n",
       "    .dataframe tbody tr th:only-of-type {\n",
       "        vertical-align: middle;\n",
       "    }\n",
       "\n",
       "    .dataframe tbody tr th {\n",
       "        vertical-align: top;\n",
       "    }\n",
       "\n",
       "    .dataframe thead th {\n",
       "        text-align: right;\n",
       "    }\n",
       "</style>\n",
       "<table border=\"1\" class=\"dataframe\">\n",
       "  <thead>\n",
       "    <tr style=\"text-align: right;\">\n",
       "      <th></th>\n",
       "      <th>Customer_ID</th>\n",
       "      <th>Age</th>\n",
       "      <th>Occupation</th>\n",
       "      <th>Annual_Income</th>\n",
       "      <th>Num_Bank_Accounts</th>\n",
       "      <th>Num_Credit_Card</th>\n",
       "      <th>Interest_Rate</th>\n",
       "      <th>Num_of_Loan</th>\n",
       "      <th>Type_of_Loan</th>\n",
       "      <th>Delay_from_due_date</th>\n",
       "      <th>...</th>\n",
       "      <th>Credit_Mix</th>\n",
       "      <th>Outstanding_Debt</th>\n",
       "      <th>Credit_Utilization_Ratio</th>\n",
       "      <th>Payment_of_Min_Amount</th>\n",
       "      <th>Total_EMI_per_month</th>\n",
       "      <th>Amount_invested_monthly</th>\n",
       "      <th>Payment_Behaviour</th>\n",
       "      <th>Monthly_Balance</th>\n",
       "      <th>Credit_Score</th>\n",
       "      <th>Credit_History_Age_Months</th>\n",
       "    </tr>\n",
       "  </thead>\n",
       "  <tbody>\n",
       "    <tr>\n",
       "      <th>0</th>\n",
       "      <td>12320</td>\n",
       "      <td>23</td>\n",
       "      <td>Scientist</td>\n",
       "      <td>19114.12</td>\n",
       "      <td>3</td>\n",
       "      <td>4</td>\n",
       "      <td>3</td>\n",
       "      <td>4</td>\n",
       "      <td>Auto Loan, Credit-Builder Loan, Personal Loan,...</td>\n",
       "      <td>3</td>\n",
       "      <td>...</td>\n",
       "      <td>_</td>\n",
       "      <td>809.98</td>\n",
       "      <td>26.822620</td>\n",
       "      <td>No</td>\n",
       "      <td>49.574949</td>\n",
       "      <td>80.415295</td>\n",
       "      <td>High_spent_Small_value_payments</td>\n",
       "      <td>312.4940</td>\n",
       "      <td>Good</td>\n",
       "      <td>265.000000</td>\n",
       "    </tr>\n",
       "    <tr>\n",
       "      <th>1</th>\n",
       "      <td>12320</td>\n",
       "      <td>23</td>\n",
       "      <td>Scientist</td>\n",
       "      <td>19114.12</td>\n",
       "      <td>3</td>\n",
       "      <td>4</td>\n",
       "      <td>3</td>\n",
       "      <td>4</td>\n",
       "      <td>Auto Loan, Credit-Builder Loan, Personal Loan,...</td>\n",
       "      <td>3</td>\n",
       "      <td>...</td>\n",
       "      <td>Good</td>\n",
       "      <td>809.98</td>\n",
       "      <td>31.944960</td>\n",
       "      <td>No</td>\n",
       "      <td>49.574949</td>\n",
       "      <td>118.280222</td>\n",
       "      <td>Low_spent_Large_value_payments</td>\n",
       "      <td>284.6291</td>\n",
       "      <td>Good</td>\n",
       "      <td>268.333333</td>\n",
       "    </tr>\n",
       "    <tr>\n",
       "      <th>2</th>\n",
       "      <td>12320</td>\n",
       "      <td>23</td>\n",
       "      <td>Scientist</td>\n",
       "      <td>19114.12</td>\n",
       "      <td>3</td>\n",
       "      <td>4</td>\n",
       "      <td>3</td>\n",
       "      <td>4</td>\n",
       "      <td>Auto Loan, Credit-Builder Loan, Personal Loan,...</td>\n",
       "      <td>3</td>\n",
       "      <td>...</td>\n",
       "      <td>Good</td>\n",
       "      <td>809.98</td>\n",
       "      <td>28.609352</td>\n",
       "      <td>No</td>\n",
       "      <td>49.574949</td>\n",
       "      <td>81.699521</td>\n",
       "      <td>Low_spent_Medium_value_payments</td>\n",
       "      <td>331.2098</td>\n",
       "      <td>Good</td>\n",
       "      <td>267.000000</td>\n",
       "    </tr>\n",
       "    <tr>\n",
       "      <th>3</th>\n",
       "      <td>12320</td>\n",
       "      <td>23</td>\n",
       "      <td>Scientist</td>\n",
       "      <td>19114.12</td>\n",
       "      <td>3</td>\n",
       "      <td>4</td>\n",
       "      <td>3</td>\n",
       "      <td>4</td>\n",
       "      <td>Auto Loan, Credit-Builder Loan, Personal Loan,...</td>\n",
       "      <td>5</td>\n",
       "      <td>...</td>\n",
       "      <td>Good</td>\n",
       "      <td>809.98</td>\n",
       "      <td>31.377862</td>\n",
       "      <td>No</td>\n",
       "      <td>49.574949</td>\n",
       "      <td>199.458074</td>\n",
       "      <td>Low_spent_Small_value_payments</td>\n",
       "      <td>223.4513</td>\n",
       "      <td>Good</td>\n",
       "      <td>268.000000</td>\n",
       "    </tr>\n",
       "    <tr>\n",
       "      <th>4</th>\n",
       "      <td>12320</td>\n",
       "      <td>23</td>\n",
       "      <td>Scientist</td>\n",
       "      <td>19114.12</td>\n",
       "      <td>3</td>\n",
       "      <td>4</td>\n",
       "      <td>3</td>\n",
       "      <td>4</td>\n",
       "      <td>Auto Loan, Credit-Builder Loan, Personal Loan,...</td>\n",
       "      <td>6</td>\n",
       "      <td>...</td>\n",
       "      <td>Good</td>\n",
       "      <td>809.98</td>\n",
       "      <td>24.797347</td>\n",
       "      <td>No</td>\n",
       "      <td>49.574949</td>\n",
       "      <td>41.420153</td>\n",
       "      <td>High_spent_Medium_value_payments</td>\n",
       "      <td>341.4892</td>\n",
       "      <td>Good</td>\n",
       "      <td>269.000000</td>\n",
       "    </tr>\n",
       "  </tbody>\n",
       "</table>\n",
       "<p>5 rows × 23 columns</p>\n",
       "</div>"
      ],
      "text/plain": [
       "   Customer_ID  Age Occupation  Annual_Income  Num_Bank_Accounts  \\\n",
       "0        12320   23  Scientist       19114.12                  3   \n",
       "1        12320   23  Scientist       19114.12                  3   \n",
       "2        12320   23  Scientist       19114.12                  3   \n",
       "3        12320   23  Scientist       19114.12                  3   \n",
       "4        12320   23  Scientist       19114.12                  3   \n",
       "\n",
       "   Num_Credit_Card  Interest_Rate  Num_of_Loan  \\\n",
       "0                4              3            4   \n",
       "1                4              3            4   \n",
       "2                4              3            4   \n",
       "3                4              3            4   \n",
       "4                4              3            4   \n",
       "\n",
       "                                        Type_of_Loan  Delay_from_due_date  \\\n",
       "0  Auto Loan, Credit-Builder Loan, Personal Loan,...                    3   \n",
       "1  Auto Loan, Credit-Builder Loan, Personal Loan,...                    3   \n",
       "2  Auto Loan, Credit-Builder Loan, Personal Loan,...                    3   \n",
       "3  Auto Loan, Credit-Builder Loan, Personal Loan,...                    5   \n",
       "4  Auto Loan, Credit-Builder Loan, Personal Loan,...                    6   \n",
       "\n",
       "   ...  Credit_Mix  Outstanding_Debt  Credit_Utilization_Ratio  \\\n",
       "0  ...           _            809.98                 26.822620   \n",
       "1  ...        Good            809.98                 31.944960   \n",
       "2  ...        Good            809.98                 28.609352   \n",
       "3  ...        Good            809.98                 31.377862   \n",
       "4  ...        Good            809.98                 24.797347   \n",
       "\n",
       "  Payment_of_Min_Amount  Total_EMI_per_month  Amount_invested_monthly  \\\n",
       "0                    No            49.574949                80.415295   \n",
       "1                    No            49.574949               118.280222   \n",
       "2                    No            49.574949                81.699521   \n",
       "3                    No            49.574949               199.458074   \n",
       "4                    No            49.574949                41.420153   \n",
       "\n",
       "                  Payment_Behaviour  Monthly_Balance  Credit_Score  \\\n",
       "0   High_spent_Small_value_payments         312.4940          Good   \n",
       "1    Low_spent_Large_value_payments         284.6291          Good   \n",
       "2   Low_spent_Medium_value_payments         331.2098          Good   \n",
       "3    Low_spent_Small_value_payments         223.4513          Good   \n",
       "4  High_spent_Medium_value_payments         341.4892          Good   \n",
       "\n",
       "  Credit_History_Age_Months  \n",
       "0                265.000000  \n",
       "1                268.333333  \n",
       "2                267.000000  \n",
       "3                268.000000  \n",
       "4                269.000000  \n",
       "\n",
       "[5 rows x 23 columns]"
      ]
     },
     "execution_count": 162,
     "metadata": {},
     "output_type": "execute_result"
    }
   ],
   "source": [
    "data.head()"
   ]
  },
  {
   "cell_type": "markdown",
   "id": "57806927-6018-490f-be03-2680850af40b",
   "metadata": {},
   "source": [
    "# **Categorical Data**"
   ]
  },
  {
   "cell_type": "code",
   "execution_count": 164,
   "id": "e28966ac-b922-4056-b948-33136f3b5349",
   "metadata": {},
   "outputs": [
    {
     "data": {
      "text/html": [
       "<div>\n",
       "<style scoped>\n",
       "    .dataframe tbody tr th:only-of-type {\n",
       "        vertical-align: middle;\n",
       "    }\n",
       "\n",
       "    .dataframe tbody tr th {\n",
       "        vertical-align: top;\n",
       "    }\n",
       "\n",
       "    .dataframe thead th {\n",
       "        text-align: right;\n",
       "    }\n",
       "</style>\n",
       "<table border=\"1\" class=\"dataframe\">\n",
       "  <thead>\n",
       "    <tr style=\"text-align: right;\">\n",
       "      <th></th>\n",
       "      <th>Occupation</th>\n",
       "      <th>Type_of_Loan</th>\n",
       "      <th>Credit_Mix</th>\n",
       "      <th>Payment_of_Min_Amount</th>\n",
       "      <th>Payment_Behaviour</th>\n",
       "      <th>Credit_Score</th>\n",
       "    </tr>\n",
       "  </thead>\n",
       "  <tbody>\n",
       "    <tr>\n",
       "      <th>0</th>\n",
       "      <td>Scientist</td>\n",
       "      <td>Auto Loan, Credit-Builder Loan, Personal Loan,...</td>\n",
       "      <td>_</td>\n",
       "      <td>No</td>\n",
       "      <td>High_spent_Small_value_payments</td>\n",
       "      <td>Good</td>\n",
       "    </tr>\n",
       "    <tr>\n",
       "      <th>1</th>\n",
       "      <td>Scientist</td>\n",
       "      <td>Auto Loan, Credit-Builder Loan, Personal Loan,...</td>\n",
       "      <td>Good</td>\n",
       "      <td>No</td>\n",
       "      <td>Low_spent_Large_value_payments</td>\n",
       "      <td>Good</td>\n",
       "    </tr>\n",
       "    <tr>\n",
       "      <th>2</th>\n",
       "      <td>Scientist</td>\n",
       "      <td>Auto Loan, Credit-Builder Loan, Personal Loan,...</td>\n",
       "      <td>Good</td>\n",
       "      <td>No</td>\n",
       "      <td>Low_spent_Medium_value_payments</td>\n",
       "      <td>Good</td>\n",
       "    </tr>\n",
       "    <tr>\n",
       "      <th>3</th>\n",
       "      <td>Scientist</td>\n",
       "      <td>Auto Loan, Credit-Builder Loan, Personal Loan,...</td>\n",
       "      <td>Good</td>\n",
       "      <td>No</td>\n",
       "      <td>Low_spent_Small_value_payments</td>\n",
       "      <td>Good</td>\n",
       "    </tr>\n",
       "    <tr>\n",
       "      <th>4</th>\n",
       "      <td>Scientist</td>\n",
       "      <td>Auto Loan, Credit-Builder Loan, Personal Loan,...</td>\n",
       "      <td>Good</td>\n",
       "      <td>No</td>\n",
       "      <td>High_spent_Medium_value_payments</td>\n",
       "      <td>Good</td>\n",
       "    </tr>\n",
       "    <tr>\n",
       "      <th>...</th>\n",
       "      <td>...</td>\n",
       "      <td>...</td>\n",
       "      <td>...</td>\n",
       "      <td>...</td>\n",
       "      <td>...</td>\n",
       "      <td>...</td>\n",
       "    </tr>\n",
       "    <tr>\n",
       "      <th>98278</th>\n",
       "      <td>Lawyer</td>\n",
       "      <td>Payday Loan</td>\n",
       "      <td>Good</td>\n",
       "      <td>NM</td>\n",
       "      <td>Low_spent_Small_value_payments</td>\n",
       "      <td>Standard</td>\n",
       "    </tr>\n",
       "    <tr>\n",
       "      <th>98279</th>\n",
       "      <td>Lawyer</td>\n",
       "      <td>Payday Loan</td>\n",
       "      <td>Good</td>\n",
       "      <td>No</td>\n",
       "      <td>High_spent_Large_value_payments</td>\n",
       "      <td>Standard</td>\n",
       "    </tr>\n",
       "    <tr>\n",
       "      <th>98280</th>\n",
       "      <td>Lawyer</td>\n",
       "      <td>Payday Loan</td>\n",
       "      <td>Good</td>\n",
       "      <td>No</td>\n",
       "      <td>High_spent_Medium_value_payments</td>\n",
       "      <td>Standard</td>\n",
       "    </tr>\n",
       "    <tr>\n",
       "      <th>98281</th>\n",
       "      <td>Lawyer</td>\n",
       "      <td>Payday Loan</td>\n",
       "      <td>Good</td>\n",
       "      <td>No</td>\n",
       "      <td>High_spent_Small_value_payments</td>\n",
       "      <td>Standard</td>\n",
       "    </tr>\n",
       "    <tr>\n",
       "      <th>98282</th>\n",
       "      <td>Lawyer</td>\n",
       "      <td>Payday Loan</td>\n",
       "      <td>Good</td>\n",
       "      <td>No</td>\n",
       "      <td>Low_spent_Small_value_payments</td>\n",
       "      <td>Standard</td>\n",
       "    </tr>\n",
       "  </tbody>\n",
       "</table>\n",
       "<p>98283 rows × 6 columns</p>\n",
       "</div>"
      ],
      "text/plain": [
       "      Occupation                                       Type_of_Loan  \\\n",
       "0      Scientist  Auto Loan, Credit-Builder Loan, Personal Loan,...   \n",
       "1      Scientist  Auto Loan, Credit-Builder Loan, Personal Loan,...   \n",
       "2      Scientist  Auto Loan, Credit-Builder Loan, Personal Loan,...   \n",
       "3      Scientist  Auto Loan, Credit-Builder Loan, Personal Loan,...   \n",
       "4      Scientist  Auto Loan, Credit-Builder Loan, Personal Loan,...   \n",
       "...          ...                                                ...   \n",
       "98278     Lawyer                                        Payday Loan   \n",
       "98279     Lawyer                                        Payday Loan   \n",
       "98280     Lawyer                                        Payday Loan   \n",
       "98281     Lawyer                                        Payday Loan   \n",
       "98282     Lawyer                                        Payday Loan   \n",
       "\n",
       "      Credit_Mix Payment_of_Min_Amount                 Payment_Behaviour  \\\n",
       "0              _                    No   High_spent_Small_value_payments   \n",
       "1           Good                    No    Low_spent_Large_value_payments   \n",
       "2           Good                    No   Low_spent_Medium_value_payments   \n",
       "3           Good                    No    Low_spent_Small_value_payments   \n",
       "4           Good                    No  High_spent_Medium_value_payments   \n",
       "...          ...                   ...                               ...   \n",
       "98278       Good                    NM    Low_spent_Small_value_payments   \n",
       "98279       Good                    No   High_spent_Large_value_payments   \n",
       "98280       Good                    No  High_spent_Medium_value_payments   \n",
       "98281       Good                    No   High_spent_Small_value_payments   \n",
       "98282       Good                    No    Low_spent_Small_value_payments   \n",
       "\n",
       "      Credit_Score  \n",
       "0             Good  \n",
       "1             Good  \n",
       "2             Good  \n",
       "3             Good  \n",
       "4             Good  \n",
       "...            ...  \n",
       "98278     Standard  \n",
       "98279     Standard  \n",
       "98280     Standard  \n",
       "98281     Standard  \n",
       "98282     Standard  \n",
       "\n",
       "[98283 rows x 6 columns]"
      ]
     },
     "execution_count": 164,
     "metadata": {},
     "output_type": "execute_result"
    }
   ],
   "source": [
    "categorical_data"
   ]
  },
  {
   "cell_type": "code",
   "execution_count": 165,
   "id": "a219d482-d32f-45e4-931d-ba2c862530c2",
   "metadata": {},
   "outputs": [
    {
     "data": {
      "text/plain": [
       "Index(['Occupation', 'Type_of_Loan', 'Credit_Mix', 'Payment_of_Min_Amount',\n",
       "       'Payment_Behaviour', 'Credit_Score'],\n",
       "      dtype='object')"
      ]
     },
     "execution_count": 165,
     "metadata": {},
     "output_type": "execute_result"
    }
   ],
   "source": [
    "categorical_data.columns"
   ]
  },
  {
   "cell_type": "markdown",
   "id": "b642df7c-a06d-44ff-b982-a9d7b4f0b057",
   "metadata": {},
   "source": [
    "## _**Encoding**_"
   ]
  },
  {
   "cell_type": "code",
   "execution_count": 167,
   "id": "b4830384-75a6-4eb2-abdf-bb10ec54f57a",
   "metadata": {},
   "outputs": [],
   "source": [
    "from sklearn.preprocessing import LabelEncoder\n",
    "le =LabelEncoder()"
   ]
  },
  {
   "cell_type": "code",
   "execution_count": 168,
   "id": "ceb3d701-f484-409c-ba5a-0b122846c8f8",
   "metadata": {},
   "outputs": [],
   "source": [
    "import category_encoders as ce\n",
    "all_encoder=ce.OneHotEncoder(cols=['Occupation', 'Type_of_Loan', 'Credit_Mix', 'Payment_of_Min_Amount',\n",
    "       'Payment_Behaviour', 'Credit_Score'])\n",
    "Occupation_encoder=ce.OneHotEncoder(cols=['Occupation'],drop_invariant=True)\n"
   ]
  },
  {
   "cell_type": "markdown",
   "id": "1ee95547-9722-402e-a8c1-d137ac2f7f74",
   "metadata": {},
   "source": [
    "## Occupation\n"
   ]
  },
  {
   "cell_type": "code",
   "execution_count": 170,
   "id": "4d03a44f-8647-4592-a50d-611f231bddfc",
   "metadata": {},
   "outputs": [
    {
     "data": {
      "text/plain": [
       "array(['Scientist', '_______', 'Teacher', 'Engineer', 'Entrepreneur',\n",
       "       'Developer', 'Lawyer', 'Media_Manager', 'Doctor', 'Journalist',\n",
       "       'Manager', 'Accountant', 'Musician', 'Mechanic', 'Writer',\n",
       "       'Architect'], dtype=object)"
      ]
     },
     "execution_count": 170,
     "metadata": {},
     "output_type": "execute_result"
    }
   ],
   "source": [
    "data['Occupation'].unique()"
   ]
  },
  {
   "cell_type": "code",
   "execution_count": 171,
   "id": "fe5b26a2-4746-4a26-a8bc-f4ab6af740c0",
   "metadata": {},
   "outputs": [
    {
     "data": {
      "text/plain": [
       "0"
      ]
     },
     "execution_count": 171,
     "metadata": {},
     "output_type": "execute_result"
    }
   ],
   "source": [
    "data['Occupation'].isna().sum()"
   ]
  },
  {
   "cell_type": "code",
   "execution_count": 172,
   "id": "0beb265f-af78-4632-a97f-14f57b3b6730",
   "metadata": {},
   "outputs": [],
   "source": [
    "data['Occupation']=data['Occupation'].replace(\"_______\",'Other')"
   ]
  },
  {
   "cell_type": "code",
   "execution_count": 173,
   "id": "3532ac49-5b2e-4c4e-a27f-c754bb7ac7c4",
   "metadata": {},
   "outputs": [
    {
     "data": {
      "text/plain": [
       "array(['Scientist', 'Other', 'Teacher', 'Engineer', 'Entrepreneur',\n",
       "       'Developer', 'Lawyer', 'Media_Manager', 'Doctor', 'Journalist',\n",
       "       'Manager', 'Accountant', 'Musician', 'Mechanic', 'Writer',\n",
       "       'Architect'], dtype=object)"
      ]
     },
     "execution_count": 173,
     "metadata": {},
     "output_type": "execute_result"
    }
   ],
   "source": [
    "data['Occupation'].unique()\n"
   ]
  },
  {
   "cell_type": "code",
   "execution_count": 174,
   "id": "570362cb-3429-4b76-82e0-1a1cdf4433a6",
   "metadata": {},
   "outputs": [
    {
     "data": {
      "text/html": [
       "<div>\n",
       "<style scoped>\n",
       "    .dataframe tbody tr th:only-of-type {\n",
       "        vertical-align: middle;\n",
       "    }\n",
       "\n",
       "    .dataframe tbody tr th {\n",
       "        vertical-align: top;\n",
       "    }\n",
       "\n",
       "    .dataframe thead th {\n",
       "        text-align: right;\n",
       "    }\n",
       "</style>\n",
       "<table border=\"1\" class=\"dataframe\">\n",
       "  <thead>\n",
       "    <tr style=\"text-align: right;\">\n",
       "      <th></th>\n",
       "      <th>Customer_ID</th>\n",
       "      <th>Age</th>\n",
       "      <th>Occupation_1</th>\n",
       "      <th>Occupation_2</th>\n",
       "      <th>Occupation_3</th>\n",
       "      <th>Occupation_4</th>\n",
       "      <th>Occupation_5</th>\n",
       "      <th>Occupation_6</th>\n",
       "      <th>Occupation_7</th>\n",
       "      <th>Occupation_8</th>\n",
       "      <th>...</th>\n",
       "      <th>Credit_Mix</th>\n",
       "      <th>Outstanding_Debt</th>\n",
       "      <th>Credit_Utilization_Ratio</th>\n",
       "      <th>Payment_of_Min_Amount</th>\n",
       "      <th>Total_EMI_per_month</th>\n",
       "      <th>Amount_invested_monthly</th>\n",
       "      <th>Payment_Behaviour</th>\n",
       "      <th>Monthly_Balance</th>\n",
       "      <th>Credit_Score</th>\n",
       "      <th>Credit_History_Age_Months</th>\n",
       "    </tr>\n",
       "  </thead>\n",
       "  <tbody>\n",
       "    <tr>\n",
       "      <th>0</th>\n",
       "      <td>12320</td>\n",
       "      <td>23</td>\n",
       "      <td>1</td>\n",
       "      <td>0</td>\n",
       "      <td>0</td>\n",
       "      <td>0</td>\n",
       "      <td>0</td>\n",
       "      <td>0</td>\n",
       "      <td>0</td>\n",
       "      <td>0</td>\n",
       "      <td>...</td>\n",
       "      <td>_</td>\n",
       "      <td>809.98</td>\n",
       "      <td>26.822620</td>\n",
       "      <td>No</td>\n",
       "      <td>49.574949</td>\n",
       "      <td>80.415295</td>\n",
       "      <td>High_spent_Small_value_payments</td>\n",
       "      <td>312.4940</td>\n",
       "      <td>Good</td>\n",
       "      <td>265.000000</td>\n",
       "    </tr>\n",
       "    <tr>\n",
       "      <th>1</th>\n",
       "      <td>12320</td>\n",
       "      <td>23</td>\n",
       "      <td>1</td>\n",
       "      <td>0</td>\n",
       "      <td>0</td>\n",
       "      <td>0</td>\n",
       "      <td>0</td>\n",
       "      <td>0</td>\n",
       "      <td>0</td>\n",
       "      <td>0</td>\n",
       "      <td>...</td>\n",
       "      <td>Good</td>\n",
       "      <td>809.98</td>\n",
       "      <td>31.944960</td>\n",
       "      <td>No</td>\n",
       "      <td>49.574949</td>\n",
       "      <td>118.280222</td>\n",
       "      <td>Low_spent_Large_value_payments</td>\n",
       "      <td>284.6291</td>\n",
       "      <td>Good</td>\n",
       "      <td>268.333333</td>\n",
       "    </tr>\n",
       "    <tr>\n",
       "      <th>2</th>\n",
       "      <td>12320</td>\n",
       "      <td>23</td>\n",
       "      <td>1</td>\n",
       "      <td>0</td>\n",
       "      <td>0</td>\n",
       "      <td>0</td>\n",
       "      <td>0</td>\n",
       "      <td>0</td>\n",
       "      <td>0</td>\n",
       "      <td>0</td>\n",
       "      <td>...</td>\n",
       "      <td>Good</td>\n",
       "      <td>809.98</td>\n",
       "      <td>28.609352</td>\n",
       "      <td>No</td>\n",
       "      <td>49.574949</td>\n",
       "      <td>81.699521</td>\n",
       "      <td>Low_spent_Medium_value_payments</td>\n",
       "      <td>331.2098</td>\n",
       "      <td>Good</td>\n",
       "      <td>267.000000</td>\n",
       "    </tr>\n",
       "    <tr>\n",
       "      <th>3</th>\n",
       "      <td>12320</td>\n",
       "      <td>23</td>\n",
       "      <td>1</td>\n",
       "      <td>0</td>\n",
       "      <td>0</td>\n",
       "      <td>0</td>\n",
       "      <td>0</td>\n",
       "      <td>0</td>\n",
       "      <td>0</td>\n",
       "      <td>0</td>\n",
       "      <td>...</td>\n",
       "      <td>Good</td>\n",
       "      <td>809.98</td>\n",
       "      <td>31.377862</td>\n",
       "      <td>No</td>\n",
       "      <td>49.574949</td>\n",
       "      <td>199.458074</td>\n",
       "      <td>Low_spent_Small_value_payments</td>\n",
       "      <td>223.4513</td>\n",
       "      <td>Good</td>\n",
       "      <td>268.000000</td>\n",
       "    </tr>\n",
       "    <tr>\n",
       "      <th>4</th>\n",
       "      <td>12320</td>\n",
       "      <td>23</td>\n",
       "      <td>1</td>\n",
       "      <td>0</td>\n",
       "      <td>0</td>\n",
       "      <td>0</td>\n",
       "      <td>0</td>\n",
       "      <td>0</td>\n",
       "      <td>0</td>\n",
       "      <td>0</td>\n",
       "      <td>...</td>\n",
       "      <td>Good</td>\n",
       "      <td>809.98</td>\n",
       "      <td>24.797347</td>\n",
       "      <td>No</td>\n",
       "      <td>49.574949</td>\n",
       "      <td>41.420153</td>\n",
       "      <td>High_spent_Medium_value_payments</td>\n",
       "      <td>341.4892</td>\n",
       "      <td>Good</td>\n",
       "      <td>269.000000</td>\n",
       "    </tr>\n",
       "  </tbody>\n",
       "</table>\n",
       "<p>5 rows × 38 columns</p>\n",
       "</div>"
      ],
      "text/plain": [
       "   Customer_ID  Age  Occupation_1  Occupation_2  Occupation_3  Occupation_4  \\\n",
       "0        12320   23             1             0             0             0   \n",
       "1        12320   23             1             0             0             0   \n",
       "2        12320   23             1             0             0             0   \n",
       "3        12320   23             1             0             0             0   \n",
       "4        12320   23             1             0             0             0   \n",
       "\n",
       "   Occupation_5  Occupation_6  Occupation_7  Occupation_8  ...  Credit_Mix  \\\n",
       "0             0             0             0             0  ...           _   \n",
       "1             0             0             0             0  ...        Good   \n",
       "2             0             0             0             0  ...        Good   \n",
       "3             0             0             0             0  ...        Good   \n",
       "4             0             0             0             0  ...        Good   \n",
       "\n",
       "   Outstanding_Debt  Credit_Utilization_Ratio  Payment_of_Min_Amount  \\\n",
       "0            809.98                 26.822620                     No   \n",
       "1            809.98                 31.944960                     No   \n",
       "2            809.98                 28.609352                     No   \n",
       "3            809.98                 31.377862                     No   \n",
       "4            809.98                 24.797347                     No   \n",
       "\n",
       "   Total_EMI_per_month  Amount_invested_monthly  \\\n",
       "0            49.574949                80.415295   \n",
       "1            49.574949               118.280222   \n",
       "2            49.574949                81.699521   \n",
       "3            49.574949               199.458074   \n",
       "4            49.574949                41.420153   \n",
       "\n",
       "                  Payment_Behaviour  Monthly_Balance  Credit_Score  \\\n",
       "0   High_spent_Small_value_payments         312.4940          Good   \n",
       "1    Low_spent_Large_value_payments         284.6291          Good   \n",
       "2   Low_spent_Medium_value_payments         331.2098          Good   \n",
       "3    Low_spent_Small_value_payments         223.4513          Good   \n",
       "4  High_spent_Medium_value_payments         341.4892          Good   \n",
       "\n",
       "   Credit_History_Age_Months  \n",
       "0                 265.000000  \n",
       "1                 268.333333  \n",
       "2                 267.000000  \n",
       "3                 268.000000  \n",
       "4                 269.000000  \n",
       "\n",
       "[5 rows x 38 columns]"
      ]
     },
     "execution_count": 174,
     "metadata": {},
     "output_type": "execute_result"
    }
   ],
   "source": [
    "data=Occupation_encoder.fit_transform(data)\n",
    "data.head()"
   ]
  },
  {
   "cell_type": "code",
   "execution_count": 175,
   "id": "7fb9d541-062c-478f-b882-af617fd59d06",
   "metadata": {},
   "outputs": [
    {
     "data": {
      "text/html": [
       "<div>\n",
       "<style scoped>\n",
       "    .dataframe tbody tr th:only-of-type {\n",
       "        vertical-align: middle;\n",
       "    }\n",
       "\n",
       "    .dataframe tbody tr th {\n",
       "        vertical-align: top;\n",
       "    }\n",
       "\n",
       "    .dataframe thead th {\n",
       "        text-align: right;\n",
       "    }\n",
       "</style>\n",
       "<table border=\"1\" class=\"dataframe\">\n",
       "  <thead>\n",
       "    <tr style=\"text-align: right;\">\n",
       "      <th></th>\n",
       "      <th>Customer_ID</th>\n",
       "      <th>Age</th>\n",
       "      <th>Occupation_1</th>\n",
       "      <th>Occupation_2</th>\n",
       "      <th>Occupation_3</th>\n",
       "      <th>Occupation_4</th>\n",
       "      <th>Occupation_5</th>\n",
       "      <th>Occupation_6</th>\n",
       "      <th>Occupation_7</th>\n",
       "      <th>Occupation_8</th>\n",
       "      <th>...</th>\n",
       "      <th>Credit_Mix</th>\n",
       "      <th>Outstanding_Debt</th>\n",
       "      <th>Credit_Utilization_Ratio</th>\n",
       "      <th>Payment_of_Min_Amount</th>\n",
       "      <th>Total_EMI_per_month</th>\n",
       "      <th>Amount_invested_monthly</th>\n",
       "      <th>Payment_Behaviour</th>\n",
       "      <th>Monthly_Balance</th>\n",
       "      <th>Credit_Score</th>\n",
       "      <th>Credit_History_Age_Months</th>\n",
       "    </tr>\n",
       "  </thead>\n",
       "  <tbody>\n",
       "    <tr>\n",
       "      <th>0</th>\n",
       "      <td>12320</td>\n",
       "      <td>23</td>\n",
       "      <td>1</td>\n",
       "      <td>0</td>\n",
       "      <td>0</td>\n",
       "      <td>0</td>\n",
       "      <td>0</td>\n",
       "      <td>0</td>\n",
       "      <td>0</td>\n",
       "      <td>0</td>\n",
       "      <td>...</td>\n",
       "      <td>_</td>\n",
       "      <td>809.98</td>\n",
       "      <td>26.822620</td>\n",
       "      <td>No</td>\n",
       "      <td>49.574949</td>\n",
       "      <td>80.415295</td>\n",
       "      <td>High_spent_Small_value_payments</td>\n",
       "      <td>312.4940</td>\n",
       "      <td>Good</td>\n",
       "      <td>265.000000</td>\n",
       "    </tr>\n",
       "    <tr>\n",
       "      <th>1</th>\n",
       "      <td>12320</td>\n",
       "      <td>23</td>\n",
       "      <td>1</td>\n",
       "      <td>0</td>\n",
       "      <td>0</td>\n",
       "      <td>0</td>\n",
       "      <td>0</td>\n",
       "      <td>0</td>\n",
       "      <td>0</td>\n",
       "      <td>0</td>\n",
       "      <td>...</td>\n",
       "      <td>Good</td>\n",
       "      <td>809.98</td>\n",
       "      <td>31.944960</td>\n",
       "      <td>No</td>\n",
       "      <td>49.574949</td>\n",
       "      <td>118.280222</td>\n",
       "      <td>Low_spent_Large_value_payments</td>\n",
       "      <td>284.6291</td>\n",
       "      <td>Good</td>\n",
       "      <td>268.333333</td>\n",
       "    </tr>\n",
       "    <tr>\n",
       "      <th>2</th>\n",
       "      <td>12320</td>\n",
       "      <td>23</td>\n",
       "      <td>1</td>\n",
       "      <td>0</td>\n",
       "      <td>0</td>\n",
       "      <td>0</td>\n",
       "      <td>0</td>\n",
       "      <td>0</td>\n",
       "      <td>0</td>\n",
       "      <td>0</td>\n",
       "      <td>...</td>\n",
       "      <td>Good</td>\n",
       "      <td>809.98</td>\n",
       "      <td>28.609352</td>\n",
       "      <td>No</td>\n",
       "      <td>49.574949</td>\n",
       "      <td>81.699521</td>\n",
       "      <td>Low_spent_Medium_value_payments</td>\n",
       "      <td>331.2098</td>\n",
       "      <td>Good</td>\n",
       "      <td>267.000000</td>\n",
       "    </tr>\n",
       "    <tr>\n",
       "      <th>3</th>\n",
       "      <td>12320</td>\n",
       "      <td>23</td>\n",
       "      <td>1</td>\n",
       "      <td>0</td>\n",
       "      <td>0</td>\n",
       "      <td>0</td>\n",
       "      <td>0</td>\n",
       "      <td>0</td>\n",
       "      <td>0</td>\n",
       "      <td>0</td>\n",
       "      <td>...</td>\n",
       "      <td>Good</td>\n",
       "      <td>809.98</td>\n",
       "      <td>31.377862</td>\n",
       "      <td>No</td>\n",
       "      <td>49.574949</td>\n",
       "      <td>199.458074</td>\n",
       "      <td>Low_spent_Small_value_payments</td>\n",
       "      <td>223.4513</td>\n",
       "      <td>Good</td>\n",
       "      <td>268.000000</td>\n",
       "    </tr>\n",
       "    <tr>\n",
       "      <th>4</th>\n",
       "      <td>12320</td>\n",
       "      <td>23</td>\n",
       "      <td>1</td>\n",
       "      <td>0</td>\n",
       "      <td>0</td>\n",
       "      <td>0</td>\n",
       "      <td>0</td>\n",
       "      <td>0</td>\n",
       "      <td>0</td>\n",
       "      <td>0</td>\n",
       "      <td>...</td>\n",
       "      <td>Good</td>\n",
       "      <td>809.98</td>\n",
       "      <td>24.797347</td>\n",
       "      <td>No</td>\n",
       "      <td>49.574949</td>\n",
       "      <td>41.420153</td>\n",
       "      <td>High_spent_Medium_value_payments</td>\n",
       "      <td>341.4892</td>\n",
       "      <td>Good</td>\n",
       "      <td>269.000000</td>\n",
       "    </tr>\n",
       "  </tbody>\n",
       "</table>\n",
       "<p>5 rows × 38 columns</p>\n",
       "</div>"
      ],
      "text/plain": [
       "   Customer_ID  Age  Occupation_1  Occupation_2  Occupation_3  Occupation_4  \\\n",
       "0        12320   23             1             0             0             0   \n",
       "1        12320   23             1             0             0             0   \n",
       "2        12320   23             1             0             0             0   \n",
       "3        12320   23             1             0             0             0   \n",
       "4        12320   23             1             0             0             0   \n",
       "\n",
       "   Occupation_5  Occupation_6  Occupation_7  Occupation_8  ...  Credit_Mix  \\\n",
       "0             0             0             0             0  ...           _   \n",
       "1             0             0             0             0  ...        Good   \n",
       "2             0             0             0             0  ...        Good   \n",
       "3             0             0             0             0  ...        Good   \n",
       "4             0             0             0             0  ...        Good   \n",
       "\n",
       "   Outstanding_Debt  Credit_Utilization_Ratio  Payment_of_Min_Amount  \\\n",
       "0            809.98                 26.822620                     No   \n",
       "1            809.98                 31.944960                     No   \n",
       "2            809.98                 28.609352                     No   \n",
       "3            809.98                 31.377862                     No   \n",
       "4            809.98                 24.797347                     No   \n",
       "\n",
       "   Total_EMI_per_month  Amount_invested_monthly  \\\n",
       "0            49.574949                80.415295   \n",
       "1            49.574949               118.280222   \n",
       "2            49.574949                81.699521   \n",
       "3            49.574949               199.458074   \n",
       "4            49.574949                41.420153   \n",
       "\n",
       "                  Payment_Behaviour  Monthly_Balance  Credit_Score  \\\n",
       "0   High_spent_Small_value_payments         312.4940          Good   \n",
       "1    Low_spent_Large_value_payments         284.6291          Good   \n",
       "2   Low_spent_Medium_value_payments         331.2098          Good   \n",
       "3    Low_spent_Small_value_payments         223.4513          Good   \n",
       "4  High_spent_Medium_value_payments         341.4892          Good   \n",
       "\n",
       "   Credit_History_Age_Months  \n",
       "0                 265.000000  \n",
       "1                 268.333333  \n",
       "2                 267.000000  \n",
       "3                 268.000000  \n",
       "4                 269.000000  \n",
       "\n",
       "[5 rows x 38 columns]"
      ]
     },
     "execution_count": 175,
     "metadata": {},
     "output_type": "execute_result"
    }
   ],
   "source": [
    "data.head()"
   ]
  },
  {
   "cell_type": "markdown",
   "id": "5a763e80-4402-4739-a3cc-bc93d3d6dd8e",
   "metadata": {},
   "source": [
    "---"
   ]
  },
  {
   "cell_type": "markdown",
   "id": "acbfefd4-b731-4c80-9c97-8c86bdd3229a",
   "metadata": {},
   "source": [
    "## Type_of_Loan"
   ]
  },
  {
   "cell_type": "code",
   "execution_count": 178,
   "id": "9871d71e-fc59-4c33-b38d-51cf3578944f",
   "metadata": {},
   "outputs": [
    {
     "data": {
      "text/plain": [
       "0        Auto Loan, Credit-Builder Loan, Personal Loan,...\n",
       "1        Auto Loan, Credit-Builder Loan, Personal Loan,...\n",
       "2        Auto Loan, Credit-Builder Loan, Personal Loan,...\n",
       "3        Auto Loan, Credit-Builder Loan, Personal Loan,...\n",
       "4        Auto Loan, Credit-Builder Loan, Personal Loan,...\n",
       "                               ...                        \n",
       "98278                                          Payday Loan\n",
       "98279                                          Payday Loan\n",
       "98280                                          Payday Loan\n",
       "98281                                          Payday Loan\n",
       "98282                                          Payday Loan\n",
       "Name: Type_of_Loan, Length: 98283, dtype: object"
      ]
     },
     "execution_count": 178,
     "metadata": {},
     "output_type": "execute_result"
    }
   ],
   "source": [
    "data['Type_of_Loan']"
   ]
  },
  {
   "cell_type": "code",
   "execution_count": 179,
   "id": "3ea095eb-babd-46bf-94de-4a437d3b0c8a",
   "metadata": {},
   "outputs": [
    {
     "data": {
      "text/plain": [
       "11182"
      ]
     },
     "execution_count": 179,
     "metadata": {},
     "output_type": "execute_result"
    }
   ],
   "source": [
    "data['Type_of_Loan'].isna().sum()"
   ]
  },
  {
   "cell_type": "code",
   "execution_count": 180,
   "id": "27356fa1-a92f-4c39-979d-e800517b17ca",
   "metadata": {},
   "outputs": [
    {
     "data": {
      "text/plain": [
       "<bound method Series.unique of 0        Auto Loan, Credit-Builder Loan, Personal Loan,...\n",
       "1        Auto Loan, Credit-Builder Loan, Personal Loan,...\n",
       "2        Auto Loan, Credit-Builder Loan, Personal Loan,...\n",
       "3        Auto Loan, Credit-Builder Loan, Personal Loan,...\n",
       "4        Auto Loan, Credit-Builder Loan, Personal Loan,...\n",
       "                               ...                        \n",
       "98278                                          Payday Loan\n",
       "98279                                          Payday Loan\n",
       "98280                                          Payday Loan\n",
       "98281                                          Payday Loan\n",
       "98282                                          Payday Loan\n",
       "Name: Type_of_Loan, Length: 98283, dtype: object>"
      ]
     },
     "execution_count": 180,
     "metadata": {},
     "output_type": "execute_result"
    }
   ],
   "source": [
    "pd.set_option('display.max_row',30)\n",
    "pd.set_option('display.max_column',None)\n",
    "\n",
    "data['Type_of_Loan'].unique\n"
   ]
  },
  {
   "cell_type": "code",
   "execution_count": 181,
   "id": "c2dc9cc8-1ad7-4275-aa05-bf76f02e519b",
   "metadata": {},
   "outputs": [
    {
     "name": "stdout",
     "output_type": "stream",
     "text": [
      "Debt Consolidation Loan, Home Equity Loan, Credit-Builder Loan, Personal Loan, Debt Consolidation Loan, Debt Consolidation Loan, Mortgage Loan, Credit-Builder Loan, and Not Specified\n"
     ]
    }
   ],
   "source": [
    "longest_string = data['Type_of_Loan'].astype(str).apply(len).idxmax()\n",
    "\n",
    "\n",
    "longest_string_value = data['Type_of_Loan'][longest_string]\n",
    "\n",
    "print(longest_string_value)"
   ]
  },
  {
   "cell_type": "code",
   "execution_count": 182,
   "id": "defc9681-92fb-4269-9916-3106aad21149",
   "metadata": {},
   "outputs": [
    {
     "data": {
      "text/plain": [
       "11182"
      ]
     },
     "execution_count": 182,
     "metadata": {},
     "output_type": "execute_result"
    }
   ],
   "source": [
    "data['Type_of_Loan'].isna().sum()"
   ]
  },
  {
   "cell_type": "code",
   "execution_count": 183,
   "id": "b64a2da3-d937-4a72-9a86-0cd02cfef193",
   "metadata": {},
   "outputs": [
    {
     "data": {
      "text/plain": [
       "(98283, 38)"
      ]
     },
     "execution_count": 183,
     "metadata": {},
     "output_type": "execute_result"
    }
   ],
   "source": [
    "data['Type_of_Loan']=data['Type_of_Loan'].fillna('Not Specified')\n",
    "data.shape"
   ]
  },
  {
   "cell_type": "code",
   "execution_count": 184,
   "id": "ce1aaf71-e12e-4e9c-8185-a1c3d40c9f83",
   "metadata": {},
   "outputs": [
    {
     "data": {
      "text/plain": [
       "0"
      ]
     },
     "execution_count": 184,
     "metadata": {},
     "output_type": "execute_result"
    }
   ],
   "source": [
    "data['Type_of_Loan'].isna().sum()"
   ]
  },
  {
   "cell_type": "code",
   "execution_count": 185,
   "id": "7542bc61-b8a6-4316-b412-9faa1286744c",
   "metadata": {},
   "outputs": [
    {
     "data": {
      "text/html": [
       "<div>\n",
       "<style scoped>\n",
       "    .dataframe tbody tr th:only-of-type {\n",
       "        vertical-align: middle;\n",
       "    }\n",
       "\n",
       "    .dataframe tbody tr th {\n",
       "        vertical-align: top;\n",
       "    }\n",
       "\n",
       "    .dataframe thead th {\n",
       "        text-align: right;\n",
       "    }\n",
       "</style>\n",
       "<table border=\"1\" class=\"dataframe\">\n",
       "  <thead>\n",
       "    <tr style=\"text-align: right;\">\n",
       "      <th></th>\n",
       "      <th>Customer_ID</th>\n",
       "      <th>Age</th>\n",
       "      <th>Occupation_1</th>\n",
       "      <th>Occupation_2</th>\n",
       "      <th>Occupation_3</th>\n",
       "      <th>Occupation_4</th>\n",
       "      <th>Occupation_5</th>\n",
       "      <th>Occupation_6</th>\n",
       "      <th>Occupation_7</th>\n",
       "      <th>Occupation_8</th>\n",
       "      <th>Occupation_9</th>\n",
       "      <th>Occupation_10</th>\n",
       "      <th>Occupation_11</th>\n",
       "      <th>Occupation_12</th>\n",
       "      <th>Occupation_13</th>\n",
       "      <th>Occupation_14</th>\n",
       "      <th>Occupation_15</th>\n",
       "      <th>Occupation_16</th>\n",
       "      <th>Annual_Income</th>\n",
       "      <th>Num_Bank_Accounts</th>\n",
       "      <th>Num_Credit_Card</th>\n",
       "      <th>Interest_Rate</th>\n",
       "      <th>Num_of_Loan</th>\n",
       "      <th>Type_of_Loan</th>\n",
       "      <th>Delay_from_due_date</th>\n",
       "      <th>Num_of_Delayed_Payment</th>\n",
       "      <th>Changed_Credit_Limit</th>\n",
       "      <th>Num_Credit_Inquiries</th>\n",
       "      <th>Credit_Mix</th>\n",
       "      <th>Outstanding_Debt</th>\n",
       "      <th>Credit_Utilization_Ratio</th>\n",
       "      <th>Payment_of_Min_Amount</th>\n",
       "      <th>Total_EMI_per_month</th>\n",
       "      <th>Amount_invested_monthly</th>\n",
       "      <th>Payment_Behaviour</th>\n",
       "      <th>Monthly_Balance</th>\n",
       "      <th>Credit_Score</th>\n",
       "      <th>Credit_History_Age_Months</th>\n",
       "      <th>Debt Consolidation Loan</th>\n",
       "      <th>Home Equity Loan</th>\n",
       "      <th>Credit-Builder Loan</th>\n",
       "      <th>Personal Loan</th>\n",
       "      <th>Student Loan</th>\n",
       "      <th>Mortgage Loan</th>\n",
       "      <th>Payday Loan</th>\n",
       "      <th>Auto Loan</th>\n",
       "      <th>Not Specified</th>\n",
       "    </tr>\n",
       "  </thead>\n",
       "  <tbody>\n",
       "    <tr>\n",
       "      <th>0</th>\n",
       "      <td>12320</td>\n",
       "      <td>23</td>\n",
       "      <td>1</td>\n",
       "      <td>0</td>\n",
       "      <td>0</td>\n",
       "      <td>0</td>\n",
       "      <td>0</td>\n",
       "      <td>0</td>\n",
       "      <td>0</td>\n",
       "      <td>0</td>\n",
       "      <td>0</td>\n",
       "      <td>0</td>\n",
       "      <td>0</td>\n",
       "      <td>0</td>\n",
       "      <td>0</td>\n",
       "      <td>0</td>\n",
       "      <td>0</td>\n",
       "      <td>0</td>\n",
       "      <td>19114.12</td>\n",
       "      <td>3</td>\n",
       "      <td>4</td>\n",
       "      <td>3</td>\n",
       "      <td>4</td>\n",
       "      <td>Auto Loan, Credit-Builder Loan, Personal Loan,...</td>\n",
       "      <td>3</td>\n",
       "      <td>7.0</td>\n",
       "      <td>11.27</td>\n",
       "      <td>4.0</td>\n",
       "      <td>_</td>\n",
       "      <td>809.98</td>\n",
       "      <td>26.822620</td>\n",
       "      <td>No</td>\n",
       "      <td>49.574949</td>\n",
       "      <td>80.415295</td>\n",
       "      <td>High_spent_Small_value_payments</td>\n",
       "      <td>312.4940</td>\n",
       "      <td>Good</td>\n",
       "      <td>265.000000</td>\n",
       "      <td>0</td>\n",
       "      <td>0</td>\n",
       "      <td>0</td>\n",
       "      <td>0</td>\n",
       "      <td>0</td>\n",
       "      <td>0</td>\n",
       "      <td>0</td>\n",
       "      <td>0</td>\n",
       "      <td>0</td>\n",
       "    </tr>\n",
       "    <tr>\n",
       "      <th>1</th>\n",
       "      <td>12320</td>\n",
       "      <td>23</td>\n",
       "      <td>1</td>\n",
       "      <td>0</td>\n",
       "      <td>0</td>\n",
       "      <td>0</td>\n",
       "      <td>0</td>\n",
       "      <td>0</td>\n",
       "      <td>0</td>\n",
       "      <td>0</td>\n",
       "      <td>0</td>\n",
       "      <td>0</td>\n",
       "      <td>0</td>\n",
       "      <td>0</td>\n",
       "      <td>0</td>\n",
       "      <td>0</td>\n",
       "      <td>0</td>\n",
       "      <td>0</td>\n",
       "      <td>19114.12</td>\n",
       "      <td>3</td>\n",
       "      <td>4</td>\n",
       "      <td>3</td>\n",
       "      <td>4</td>\n",
       "      <td>Auto Loan, Credit-Builder Loan, Personal Loan,...</td>\n",
       "      <td>3</td>\n",
       "      <td>4.0</td>\n",
       "      <td>11.27</td>\n",
       "      <td>4.0</td>\n",
       "      <td>Good</td>\n",
       "      <td>809.98</td>\n",
       "      <td>31.944960</td>\n",
       "      <td>No</td>\n",
       "      <td>49.574949</td>\n",
       "      <td>118.280222</td>\n",
       "      <td>Low_spent_Large_value_payments</td>\n",
       "      <td>284.6291</td>\n",
       "      <td>Good</td>\n",
       "      <td>268.333333</td>\n",
       "      <td>0</td>\n",
       "      <td>0</td>\n",
       "      <td>0</td>\n",
       "      <td>0</td>\n",
       "      <td>0</td>\n",
       "      <td>0</td>\n",
       "      <td>0</td>\n",
       "      <td>0</td>\n",
       "      <td>0</td>\n",
       "    </tr>\n",
       "    <tr>\n",
       "      <th>2</th>\n",
       "      <td>12320</td>\n",
       "      <td>23</td>\n",
       "      <td>1</td>\n",
       "      <td>0</td>\n",
       "      <td>0</td>\n",
       "      <td>0</td>\n",
       "      <td>0</td>\n",
       "      <td>0</td>\n",
       "      <td>0</td>\n",
       "      <td>0</td>\n",
       "      <td>0</td>\n",
       "      <td>0</td>\n",
       "      <td>0</td>\n",
       "      <td>0</td>\n",
       "      <td>0</td>\n",
       "      <td>0</td>\n",
       "      <td>0</td>\n",
       "      <td>0</td>\n",
       "      <td>19114.12</td>\n",
       "      <td>3</td>\n",
       "      <td>4</td>\n",
       "      <td>3</td>\n",
       "      <td>4</td>\n",
       "      <td>Auto Loan, Credit-Builder Loan, Personal Loan,...</td>\n",
       "      <td>3</td>\n",
       "      <td>7.0</td>\n",
       "      <td>10.27</td>\n",
       "      <td>4.0</td>\n",
       "      <td>Good</td>\n",
       "      <td>809.98</td>\n",
       "      <td>28.609352</td>\n",
       "      <td>No</td>\n",
       "      <td>49.574949</td>\n",
       "      <td>81.699521</td>\n",
       "      <td>Low_spent_Medium_value_payments</td>\n",
       "      <td>331.2098</td>\n",
       "      <td>Good</td>\n",
       "      <td>267.000000</td>\n",
       "      <td>0</td>\n",
       "      <td>0</td>\n",
       "      <td>0</td>\n",
       "      <td>0</td>\n",
       "      <td>0</td>\n",
       "      <td>0</td>\n",
       "      <td>0</td>\n",
       "      <td>0</td>\n",
       "      <td>0</td>\n",
       "    </tr>\n",
       "    <tr>\n",
       "      <th>3</th>\n",
       "      <td>12320</td>\n",
       "      <td>23</td>\n",
       "      <td>1</td>\n",
       "      <td>0</td>\n",
       "      <td>0</td>\n",
       "      <td>0</td>\n",
       "      <td>0</td>\n",
       "      <td>0</td>\n",
       "      <td>0</td>\n",
       "      <td>0</td>\n",
       "      <td>0</td>\n",
       "      <td>0</td>\n",
       "      <td>0</td>\n",
       "      <td>0</td>\n",
       "      <td>0</td>\n",
       "      <td>0</td>\n",
       "      <td>0</td>\n",
       "      <td>0</td>\n",
       "      <td>19114.12</td>\n",
       "      <td>3</td>\n",
       "      <td>4</td>\n",
       "      <td>3</td>\n",
       "      <td>4</td>\n",
       "      <td>Auto Loan, Credit-Builder Loan, Personal Loan,...</td>\n",
       "      <td>5</td>\n",
       "      <td>4.0</td>\n",
       "      <td>6.27</td>\n",
       "      <td>4.0</td>\n",
       "      <td>Good</td>\n",
       "      <td>809.98</td>\n",
       "      <td>31.377862</td>\n",
       "      <td>No</td>\n",
       "      <td>49.574949</td>\n",
       "      <td>199.458074</td>\n",
       "      <td>Low_spent_Small_value_payments</td>\n",
       "      <td>223.4513</td>\n",
       "      <td>Good</td>\n",
       "      <td>268.000000</td>\n",
       "      <td>0</td>\n",
       "      <td>0</td>\n",
       "      <td>0</td>\n",
       "      <td>0</td>\n",
       "      <td>0</td>\n",
       "      <td>0</td>\n",
       "      <td>0</td>\n",
       "      <td>0</td>\n",
       "      <td>0</td>\n",
       "    </tr>\n",
       "    <tr>\n",
       "      <th>4</th>\n",
       "      <td>12320</td>\n",
       "      <td>23</td>\n",
       "      <td>1</td>\n",
       "      <td>0</td>\n",
       "      <td>0</td>\n",
       "      <td>0</td>\n",
       "      <td>0</td>\n",
       "      <td>0</td>\n",
       "      <td>0</td>\n",
       "      <td>0</td>\n",
       "      <td>0</td>\n",
       "      <td>0</td>\n",
       "      <td>0</td>\n",
       "      <td>0</td>\n",
       "      <td>0</td>\n",
       "      <td>0</td>\n",
       "      <td>0</td>\n",
       "      <td>0</td>\n",
       "      <td>19114.12</td>\n",
       "      <td>3</td>\n",
       "      <td>4</td>\n",
       "      <td>3</td>\n",
       "      <td>4</td>\n",
       "      <td>Auto Loan, Credit-Builder Loan, Personal Loan,...</td>\n",
       "      <td>6</td>\n",
       "      <td>4.0</td>\n",
       "      <td>11.27</td>\n",
       "      <td>4.0</td>\n",
       "      <td>Good</td>\n",
       "      <td>809.98</td>\n",
       "      <td>24.797347</td>\n",
       "      <td>No</td>\n",
       "      <td>49.574949</td>\n",
       "      <td>41.420153</td>\n",
       "      <td>High_spent_Medium_value_payments</td>\n",
       "      <td>341.4892</td>\n",
       "      <td>Good</td>\n",
       "      <td>269.000000</td>\n",
       "      <td>0</td>\n",
       "      <td>0</td>\n",
       "      <td>0</td>\n",
       "      <td>0</td>\n",
       "      <td>0</td>\n",
       "      <td>0</td>\n",
       "      <td>0</td>\n",
       "      <td>0</td>\n",
       "      <td>0</td>\n",
       "    </tr>\n",
       "  </tbody>\n",
       "</table>\n",
       "</div>"
      ],
      "text/plain": [
       "   Customer_ID  Age  Occupation_1  Occupation_2  Occupation_3  Occupation_4  \\\n",
       "0        12320   23             1             0             0             0   \n",
       "1        12320   23             1             0             0             0   \n",
       "2        12320   23             1             0             0             0   \n",
       "3        12320   23             1             0             0             0   \n",
       "4        12320   23             1             0             0             0   \n",
       "\n",
       "   Occupation_5  Occupation_6  Occupation_7  Occupation_8  Occupation_9  \\\n",
       "0             0             0             0             0             0   \n",
       "1             0             0             0             0             0   \n",
       "2             0             0             0             0             0   \n",
       "3             0             0             0             0             0   \n",
       "4             0             0             0             0             0   \n",
       "\n",
       "   Occupation_10  Occupation_11  Occupation_12  Occupation_13  Occupation_14  \\\n",
       "0              0              0              0              0              0   \n",
       "1              0              0              0              0              0   \n",
       "2              0              0              0              0              0   \n",
       "3              0              0              0              0              0   \n",
       "4              0              0              0              0              0   \n",
       "\n",
       "   Occupation_15  Occupation_16  Annual_Income  Num_Bank_Accounts  \\\n",
       "0              0              0       19114.12                  3   \n",
       "1              0              0       19114.12                  3   \n",
       "2              0              0       19114.12                  3   \n",
       "3              0              0       19114.12                  3   \n",
       "4              0              0       19114.12                  3   \n",
       "\n",
       "   Num_Credit_Card  Interest_Rate  Num_of_Loan  \\\n",
       "0                4              3            4   \n",
       "1                4              3            4   \n",
       "2                4              3            4   \n",
       "3                4              3            4   \n",
       "4                4              3            4   \n",
       "\n",
       "                                        Type_of_Loan  Delay_from_due_date  \\\n",
       "0  Auto Loan, Credit-Builder Loan, Personal Loan,...                    3   \n",
       "1  Auto Loan, Credit-Builder Loan, Personal Loan,...                    3   \n",
       "2  Auto Loan, Credit-Builder Loan, Personal Loan,...                    3   \n",
       "3  Auto Loan, Credit-Builder Loan, Personal Loan,...                    5   \n",
       "4  Auto Loan, Credit-Builder Loan, Personal Loan,...                    6   \n",
       "\n",
       "   Num_of_Delayed_Payment  Changed_Credit_Limit  Num_Credit_Inquiries  \\\n",
       "0                     7.0                 11.27                   4.0   \n",
       "1                     4.0                 11.27                   4.0   \n",
       "2                     7.0                 10.27                   4.0   \n",
       "3                     4.0                  6.27                   4.0   \n",
       "4                     4.0                 11.27                   4.0   \n",
       "\n",
       "  Credit_Mix  Outstanding_Debt  Credit_Utilization_Ratio  \\\n",
       "0          _            809.98                 26.822620   \n",
       "1       Good            809.98                 31.944960   \n",
       "2       Good            809.98                 28.609352   \n",
       "3       Good            809.98                 31.377862   \n",
       "4       Good            809.98                 24.797347   \n",
       "\n",
       "  Payment_of_Min_Amount  Total_EMI_per_month  Amount_invested_monthly  \\\n",
       "0                    No            49.574949                80.415295   \n",
       "1                    No            49.574949               118.280222   \n",
       "2                    No            49.574949                81.699521   \n",
       "3                    No            49.574949               199.458074   \n",
       "4                    No            49.574949                41.420153   \n",
       "\n",
       "                  Payment_Behaviour  Monthly_Balance Credit_Score  \\\n",
       "0   High_spent_Small_value_payments         312.4940         Good   \n",
       "1    Low_spent_Large_value_payments         284.6291         Good   \n",
       "2   Low_spent_Medium_value_payments         331.2098         Good   \n",
       "3    Low_spent_Small_value_payments         223.4513         Good   \n",
       "4  High_spent_Medium_value_payments         341.4892         Good   \n",
       "\n",
       "   Credit_History_Age_Months  Debt Consolidation Loan  Home Equity Loan  \\\n",
       "0                 265.000000                        0                 0   \n",
       "1                 268.333333                        0                 0   \n",
       "2                 267.000000                        0                 0   \n",
       "3                 268.000000                        0                 0   \n",
       "4                 269.000000                        0                 0   \n",
       "\n",
       "   Credit-Builder Loan  Personal Loan  Student Loan  Mortgage Loan  \\\n",
       "0                    0              0             0              0   \n",
       "1                    0              0             0              0   \n",
       "2                    0              0             0              0   \n",
       "3                    0              0             0              0   \n",
       "4                    0              0             0              0   \n",
       "\n",
       "   Payday Loan  Auto Loan  Not Specified  \n",
       "0            0          0              0  \n",
       "1            0          0              0  \n",
       "2            0          0              0  \n",
       "3            0          0              0  \n",
       "4            0          0              0  "
      ]
     },
     "execution_count": 185,
     "metadata": {},
     "output_type": "execute_result"
    }
   ],
   "source": [
    "\n",
    "# List of loan types\n",
    "loan_types = [\n",
    "    'Debt Consolidation Loan', 'Home Equity Loan', 'Credit-Builder Loan', 'Personal Loan', \n",
    "    'Student Loan', 'Mortgage Loan', 'Payday Loan', 'Auto Loan', 'Not Specified'\n",
    "]\n",
    "\n",
    "# Initialize new columns\n",
    "for loan in loan_types:\n",
    "    data[loan] = 0\n",
    "\n",
    "\n",
    "\n",
    "data.head()"
   ]
  },
  {
   "cell_type": "code",
   "execution_count": 186,
   "id": "9f806a3f-6b70-4129-878d-12283f8ea01a",
   "metadata": {},
   "outputs": [],
   "source": [
    "# Iterate through each row and count occurrences of each loan type\n",
    "for i, row in data.iterrows():\n",
    "    loans = row['Type_of_Loan'].replace('and ', '').split(', ')\n",
    "    for loan in loans:\n",
    "        loan = loan.strip()\n",
    "        if loan in loan_types:\n",
    "            data.at[i, loan] += 1"
   ]
  },
  {
   "cell_type": "code",
   "execution_count": 187,
   "id": "6b193035-59b4-4d86-a633-9f51e7239e90",
   "metadata": {},
   "outputs": [
    {
     "data": {
      "text/html": [
       "<div>\n",
       "<style scoped>\n",
       "    .dataframe tbody tr th:only-of-type {\n",
       "        vertical-align: middle;\n",
       "    }\n",
       "\n",
       "    .dataframe tbody tr th {\n",
       "        vertical-align: top;\n",
       "    }\n",
       "\n",
       "    .dataframe thead th {\n",
       "        text-align: right;\n",
       "    }\n",
       "</style>\n",
       "<table border=\"1\" class=\"dataframe\">\n",
       "  <thead>\n",
       "    <tr style=\"text-align: right;\">\n",
       "      <th></th>\n",
       "      <th>Customer_ID</th>\n",
       "      <th>Age</th>\n",
       "      <th>Occupation_1</th>\n",
       "      <th>Occupation_2</th>\n",
       "      <th>Occupation_3</th>\n",
       "      <th>Occupation_4</th>\n",
       "      <th>Occupation_5</th>\n",
       "      <th>Occupation_6</th>\n",
       "      <th>Occupation_7</th>\n",
       "      <th>Occupation_8</th>\n",
       "      <th>Occupation_9</th>\n",
       "      <th>Occupation_10</th>\n",
       "      <th>Occupation_11</th>\n",
       "      <th>Occupation_12</th>\n",
       "      <th>Occupation_13</th>\n",
       "      <th>Occupation_14</th>\n",
       "      <th>Occupation_15</th>\n",
       "      <th>Occupation_16</th>\n",
       "      <th>Annual_Income</th>\n",
       "      <th>Num_Bank_Accounts</th>\n",
       "      <th>Num_Credit_Card</th>\n",
       "      <th>Interest_Rate</th>\n",
       "      <th>Num_of_Loan</th>\n",
       "      <th>Type_of_Loan</th>\n",
       "      <th>Delay_from_due_date</th>\n",
       "      <th>Num_of_Delayed_Payment</th>\n",
       "      <th>Changed_Credit_Limit</th>\n",
       "      <th>Num_Credit_Inquiries</th>\n",
       "      <th>Credit_Mix</th>\n",
       "      <th>Outstanding_Debt</th>\n",
       "      <th>Credit_Utilization_Ratio</th>\n",
       "      <th>Payment_of_Min_Amount</th>\n",
       "      <th>Total_EMI_per_month</th>\n",
       "      <th>Amount_invested_monthly</th>\n",
       "      <th>Payment_Behaviour</th>\n",
       "      <th>Monthly_Balance</th>\n",
       "      <th>Credit_Score</th>\n",
       "      <th>Credit_History_Age_Months</th>\n",
       "      <th>Debt Consolidation Loan</th>\n",
       "      <th>Home Equity Loan</th>\n",
       "      <th>Credit-Builder Loan</th>\n",
       "      <th>Personal Loan</th>\n",
       "      <th>Student Loan</th>\n",
       "      <th>Mortgage Loan</th>\n",
       "      <th>Payday Loan</th>\n",
       "      <th>Auto Loan</th>\n",
       "      <th>Not Specified</th>\n",
       "    </tr>\n",
       "  </thead>\n",
       "  <tbody>\n",
       "    <tr>\n",
       "      <th>0</th>\n",
       "      <td>12320</td>\n",
       "      <td>23</td>\n",
       "      <td>1</td>\n",
       "      <td>0</td>\n",
       "      <td>0</td>\n",
       "      <td>0</td>\n",
       "      <td>0</td>\n",
       "      <td>0</td>\n",
       "      <td>0</td>\n",
       "      <td>0</td>\n",
       "      <td>0</td>\n",
       "      <td>0</td>\n",
       "      <td>0</td>\n",
       "      <td>0</td>\n",
       "      <td>0</td>\n",
       "      <td>0</td>\n",
       "      <td>0</td>\n",
       "      <td>0</td>\n",
       "      <td>19114.12</td>\n",
       "      <td>3</td>\n",
       "      <td>4</td>\n",
       "      <td>3</td>\n",
       "      <td>4</td>\n",
       "      <td>Auto Loan, Credit-Builder Loan, Personal Loan,...</td>\n",
       "      <td>3</td>\n",
       "      <td>7.0</td>\n",
       "      <td>11.27</td>\n",
       "      <td>4.0</td>\n",
       "      <td>_</td>\n",
       "      <td>809.98</td>\n",
       "      <td>26.822620</td>\n",
       "      <td>No</td>\n",
       "      <td>49.574949</td>\n",
       "      <td>80.415295</td>\n",
       "      <td>High_spent_Small_value_payments</td>\n",
       "      <td>312.4940</td>\n",
       "      <td>Good</td>\n",
       "      <td>265.000000</td>\n",
       "      <td>0</td>\n",
       "      <td>1</td>\n",
       "      <td>1</td>\n",
       "      <td>1</td>\n",
       "      <td>0</td>\n",
       "      <td>0</td>\n",
       "      <td>0</td>\n",
       "      <td>1</td>\n",
       "      <td>0</td>\n",
       "    </tr>\n",
       "    <tr>\n",
       "      <th>1</th>\n",
       "      <td>12320</td>\n",
       "      <td>23</td>\n",
       "      <td>1</td>\n",
       "      <td>0</td>\n",
       "      <td>0</td>\n",
       "      <td>0</td>\n",
       "      <td>0</td>\n",
       "      <td>0</td>\n",
       "      <td>0</td>\n",
       "      <td>0</td>\n",
       "      <td>0</td>\n",
       "      <td>0</td>\n",
       "      <td>0</td>\n",
       "      <td>0</td>\n",
       "      <td>0</td>\n",
       "      <td>0</td>\n",
       "      <td>0</td>\n",
       "      <td>0</td>\n",
       "      <td>19114.12</td>\n",
       "      <td>3</td>\n",
       "      <td>4</td>\n",
       "      <td>3</td>\n",
       "      <td>4</td>\n",
       "      <td>Auto Loan, Credit-Builder Loan, Personal Loan,...</td>\n",
       "      <td>3</td>\n",
       "      <td>4.0</td>\n",
       "      <td>11.27</td>\n",
       "      <td>4.0</td>\n",
       "      <td>Good</td>\n",
       "      <td>809.98</td>\n",
       "      <td>31.944960</td>\n",
       "      <td>No</td>\n",
       "      <td>49.574949</td>\n",
       "      <td>118.280222</td>\n",
       "      <td>Low_spent_Large_value_payments</td>\n",
       "      <td>284.6291</td>\n",
       "      <td>Good</td>\n",
       "      <td>268.333333</td>\n",
       "      <td>0</td>\n",
       "      <td>1</td>\n",
       "      <td>1</td>\n",
       "      <td>1</td>\n",
       "      <td>0</td>\n",
       "      <td>0</td>\n",
       "      <td>0</td>\n",
       "      <td>1</td>\n",
       "      <td>0</td>\n",
       "    </tr>\n",
       "    <tr>\n",
       "      <th>2</th>\n",
       "      <td>12320</td>\n",
       "      <td>23</td>\n",
       "      <td>1</td>\n",
       "      <td>0</td>\n",
       "      <td>0</td>\n",
       "      <td>0</td>\n",
       "      <td>0</td>\n",
       "      <td>0</td>\n",
       "      <td>0</td>\n",
       "      <td>0</td>\n",
       "      <td>0</td>\n",
       "      <td>0</td>\n",
       "      <td>0</td>\n",
       "      <td>0</td>\n",
       "      <td>0</td>\n",
       "      <td>0</td>\n",
       "      <td>0</td>\n",
       "      <td>0</td>\n",
       "      <td>19114.12</td>\n",
       "      <td>3</td>\n",
       "      <td>4</td>\n",
       "      <td>3</td>\n",
       "      <td>4</td>\n",
       "      <td>Auto Loan, Credit-Builder Loan, Personal Loan,...</td>\n",
       "      <td>3</td>\n",
       "      <td>7.0</td>\n",
       "      <td>10.27</td>\n",
       "      <td>4.0</td>\n",
       "      <td>Good</td>\n",
       "      <td>809.98</td>\n",
       "      <td>28.609352</td>\n",
       "      <td>No</td>\n",
       "      <td>49.574949</td>\n",
       "      <td>81.699521</td>\n",
       "      <td>Low_spent_Medium_value_payments</td>\n",
       "      <td>331.2098</td>\n",
       "      <td>Good</td>\n",
       "      <td>267.000000</td>\n",
       "      <td>0</td>\n",
       "      <td>1</td>\n",
       "      <td>1</td>\n",
       "      <td>1</td>\n",
       "      <td>0</td>\n",
       "      <td>0</td>\n",
       "      <td>0</td>\n",
       "      <td>1</td>\n",
       "      <td>0</td>\n",
       "    </tr>\n",
       "    <tr>\n",
       "      <th>3</th>\n",
       "      <td>12320</td>\n",
       "      <td>23</td>\n",
       "      <td>1</td>\n",
       "      <td>0</td>\n",
       "      <td>0</td>\n",
       "      <td>0</td>\n",
       "      <td>0</td>\n",
       "      <td>0</td>\n",
       "      <td>0</td>\n",
       "      <td>0</td>\n",
       "      <td>0</td>\n",
       "      <td>0</td>\n",
       "      <td>0</td>\n",
       "      <td>0</td>\n",
       "      <td>0</td>\n",
       "      <td>0</td>\n",
       "      <td>0</td>\n",
       "      <td>0</td>\n",
       "      <td>19114.12</td>\n",
       "      <td>3</td>\n",
       "      <td>4</td>\n",
       "      <td>3</td>\n",
       "      <td>4</td>\n",
       "      <td>Auto Loan, Credit-Builder Loan, Personal Loan,...</td>\n",
       "      <td>5</td>\n",
       "      <td>4.0</td>\n",
       "      <td>6.27</td>\n",
       "      <td>4.0</td>\n",
       "      <td>Good</td>\n",
       "      <td>809.98</td>\n",
       "      <td>31.377862</td>\n",
       "      <td>No</td>\n",
       "      <td>49.574949</td>\n",
       "      <td>199.458074</td>\n",
       "      <td>Low_spent_Small_value_payments</td>\n",
       "      <td>223.4513</td>\n",
       "      <td>Good</td>\n",
       "      <td>268.000000</td>\n",
       "      <td>0</td>\n",
       "      <td>1</td>\n",
       "      <td>1</td>\n",
       "      <td>1</td>\n",
       "      <td>0</td>\n",
       "      <td>0</td>\n",
       "      <td>0</td>\n",
       "      <td>1</td>\n",
       "      <td>0</td>\n",
       "    </tr>\n",
       "    <tr>\n",
       "      <th>4</th>\n",
       "      <td>12320</td>\n",
       "      <td>23</td>\n",
       "      <td>1</td>\n",
       "      <td>0</td>\n",
       "      <td>0</td>\n",
       "      <td>0</td>\n",
       "      <td>0</td>\n",
       "      <td>0</td>\n",
       "      <td>0</td>\n",
       "      <td>0</td>\n",
       "      <td>0</td>\n",
       "      <td>0</td>\n",
       "      <td>0</td>\n",
       "      <td>0</td>\n",
       "      <td>0</td>\n",
       "      <td>0</td>\n",
       "      <td>0</td>\n",
       "      <td>0</td>\n",
       "      <td>19114.12</td>\n",
       "      <td>3</td>\n",
       "      <td>4</td>\n",
       "      <td>3</td>\n",
       "      <td>4</td>\n",
       "      <td>Auto Loan, Credit-Builder Loan, Personal Loan,...</td>\n",
       "      <td>6</td>\n",
       "      <td>4.0</td>\n",
       "      <td>11.27</td>\n",
       "      <td>4.0</td>\n",
       "      <td>Good</td>\n",
       "      <td>809.98</td>\n",
       "      <td>24.797347</td>\n",
       "      <td>No</td>\n",
       "      <td>49.574949</td>\n",
       "      <td>41.420153</td>\n",
       "      <td>High_spent_Medium_value_payments</td>\n",
       "      <td>341.4892</td>\n",
       "      <td>Good</td>\n",
       "      <td>269.000000</td>\n",
       "      <td>0</td>\n",
       "      <td>1</td>\n",
       "      <td>1</td>\n",
       "      <td>1</td>\n",
       "      <td>0</td>\n",
       "      <td>0</td>\n",
       "      <td>0</td>\n",
       "      <td>1</td>\n",
       "      <td>0</td>\n",
       "    </tr>\n",
       "  </tbody>\n",
       "</table>\n",
       "</div>"
      ],
      "text/plain": [
       "   Customer_ID  Age  Occupation_1  Occupation_2  Occupation_3  Occupation_4  \\\n",
       "0        12320   23             1             0             0             0   \n",
       "1        12320   23             1             0             0             0   \n",
       "2        12320   23             1             0             0             0   \n",
       "3        12320   23             1             0             0             0   \n",
       "4        12320   23             1             0             0             0   \n",
       "\n",
       "   Occupation_5  Occupation_6  Occupation_7  Occupation_8  Occupation_9  \\\n",
       "0             0             0             0             0             0   \n",
       "1             0             0             0             0             0   \n",
       "2             0             0             0             0             0   \n",
       "3             0             0             0             0             0   \n",
       "4             0             0             0             0             0   \n",
       "\n",
       "   Occupation_10  Occupation_11  Occupation_12  Occupation_13  Occupation_14  \\\n",
       "0              0              0              0              0              0   \n",
       "1              0              0              0              0              0   \n",
       "2              0              0              0              0              0   \n",
       "3              0              0              0              0              0   \n",
       "4              0              0              0              0              0   \n",
       "\n",
       "   Occupation_15  Occupation_16  Annual_Income  Num_Bank_Accounts  \\\n",
       "0              0              0       19114.12                  3   \n",
       "1              0              0       19114.12                  3   \n",
       "2              0              0       19114.12                  3   \n",
       "3              0              0       19114.12                  3   \n",
       "4              0              0       19114.12                  3   \n",
       "\n",
       "   Num_Credit_Card  Interest_Rate  Num_of_Loan  \\\n",
       "0                4              3            4   \n",
       "1                4              3            4   \n",
       "2                4              3            4   \n",
       "3                4              3            4   \n",
       "4                4              3            4   \n",
       "\n",
       "                                        Type_of_Loan  Delay_from_due_date  \\\n",
       "0  Auto Loan, Credit-Builder Loan, Personal Loan,...                    3   \n",
       "1  Auto Loan, Credit-Builder Loan, Personal Loan,...                    3   \n",
       "2  Auto Loan, Credit-Builder Loan, Personal Loan,...                    3   \n",
       "3  Auto Loan, Credit-Builder Loan, Personal Loan,...                    5   \n",
       "4  Auto Loan, Credit-Builder Loan, Personal Loan,...                    6   \n",
       "\n",
       "   Num_of_Delayed_Payment  Changed_Credit_Limit  Num_Credit_Inquiries  \\\n",
       "0                     7.0                 11.27                   4.0   \n",
       "1                     4.0                 11.27                   4.0   \n",
       "2                     7.0                 10.27                   4.0   \n",
       "3                     4.0                  6.27                   4.0   \n",
       "4                     4.0                 11.27                   4.0   \n",
       "\n",
       "  Credit_Mix  Outstanding_Debt  Credit_Utilization_Ratio  \\\n",
       "0          _            809.98                 26.822620   \n",
       "1       Good            809.98                 31.944960   \n",
       "2       Good            809.98                 28.609352   \n",
       "3       Good            809.98                 31.377862   \n",
       "4       Good            809.98                 24.797347   \n",
       "\n",
       "  Payment_of_Min_Amount  Total_EMI_per_month  Amount_invested_monthly  \\\n",
       "0                    No            49.574949                80.415295   \n",
       "1                    No            49.574949               118.280222   \n",
       "2                    No            49.574949                81.699521   \n",
       "3                    No            49.574949               199.458074   \n",
       "4                    No            49.574949                41.420153   \n",
       "\n",
       "                  Payment_Behaviour  Monthly_Balance Credit_Score  \\\n",
       "0   High_spent_Small_value_payments         312.4940         Good   \n",
       "1    Low_spent_Large_value_payments         284.6291         Good   \n",
       "2   Low_spent_Medium_value_payments         331.2098         Good   \n",
       "3    Low_spent_Small_value_payments         223.4513         Good   \n",
       "4  High_spent_Medium_value_payments         341.4892         Good   \n",
       "\n",
       "   Credit_History_Age_Months  Debt Consolidation Loan  Home Equity Loan  \\\n",
       "0                 265.000000                        0                 1   \n",
       "1                 268.333333                        0                 1   \n",
       "2                 267.000000                        0                 1   \n",
       "3                 268.000000                        0                 1   \n",
       "4                 269.000000                        0                 1   \n",
       "\n",
       "   Credit-Builder Loan  Personal Loan  Student Loan  Mortgage Loan  \\\n",
       "0                    1              1             0              0   \n",
       "1                    1              1             0              0   \n",
       "2                    1              1             0              0   \n",
       "3                    1              1             0              0   \n",
       "4                    1              1             0              0   \n",
       "\n",
       "   Payday Loan  Auto Loan  Not Specified  \n",
       "0            0          1              0  \n",
       "1            0          1              0  \n",
       "2            0          1              0  \n",
       "3            0          1              0  \n",
       "4            0          1              0  "
      ]
     },
     "execution_count": 187,
     "metadata": {},
     "output_type": "execute_result"
    }
   ],
   "source": [
    "data.head()"
   ]
  },
  {
   "cell_type": "code",
   "execution_count": 188,
   "id": "c5d7cbd5-7725-4ec8-9cbd-3b627a7f6f19",
   "metadata": {},
   "outputs": [
    {
     "data": {
      "text/html": [
       "<div>\n",
       "<style scoped>\n",
       "    .dataframe tbody tr th:only-of-type {\n",
       "        vertical-align: middle;\n",
       "    }\n",
       "\n",
       "    .dataframe tbody tr th {\n",
       "        vertical-align: top;\n",
       "    }\n",
       "\n",
       "    .dataframe thead th {\n",
       "        text-align: right;\n",
       "    }\n",
       "</style>\n",
       "<table border=\"1\" class=\"dataframe\">\n",
       "  <thead>\n",
       "    <tr style=\"text-align: right;\">\n",
       "      <th></th>\n",
       "      <th>Customer_ID</th>\n",
       "      <th>Age</th>\n",
       "      <th>Occupation_1</th>\n",
       "      <th>Occupation_2</th>\n",
       "      <th>Occupation_3</th>\n",
       "      <th>Occupation_4</th>\n",
       "      <th>Occupation_5</th>\n",
       "      <th>Occupation_6</th>\n",
       "      <th>Occupation_7</th>\n",
       "      <th>Occupation_8</th>\n",
       "      <th>Occupation_9</th>\n",
       "      <th>Occupation_10</th>\n",
       "      <th>Occupation_11</th>\n",
       "      <th>Occupation_12</th>\n",
       "      <th>Occupation_13</th>\n",
       "      <th>Occupation_14</th>\n",
       "      <th>Occupation_15</th>\n",
       "      <th>Occupation_16</th>\n",
       "      <th>Annual_Income</th>\n",
       "      <th>Num_Bank_Accounts</th>\n",
       "      <th>Num_Credit_Card</th>\n",
       "      <th>Interest_Rate</th>\n",
       "      <th>Num_of_Loan</th>\n",
       "      <th>Delay_from_due_date</th>\n",
       "      <th>Num_of_Delayed_Payment</th>\n",
       "      <th>Changed_Credit_Limit</th>\n",
       "      <th>Num_Credit_Inquiries</th>\n",
       "      <th>Credit_Mix</th>\n",
       "      <th>Outstanding_Debt</th>\n",
       "      <th>Credit_Utilization_Ratio</th>\n",
       "      <th>Payment_of_Min_Amount</th>\n",
       "      <th>Total_EMI_per_month</th>\n",
       "      <th>Amount_invested_monthly</th>\n",
       "      <th>Payment_Behaviour</th>\n",
       "      <th>Monthly_Balance</th>\n",
       "      <th>Credit_Score</th>\n",
       "      <th>Credit_History_Age_Months</th>\n",
       "      <th>Debt Consolidation Loan</th>\n",
       "      <th>Home Equity Loan</th>\n",
       "      <th>Credit-Builder Loan</th>\n",
       "      <th>Personal Loan</th>\n",
       "      <th>Student Loan</th>\n",
       "      <th>Mortgage Loan</th>\n",
       "      <th>Payday Loan</th>\n",
       "      <th>Auto Loan</th>\n",
       "      <th>Not Specified</th>\n",
       "    </tr>\n",
       "  </thead>\n",
       "  <tbody>\n",
       "    <tr>\n",
       "      <th>0</th>\n",
       "      <td>12320</td>\n",
       "      <td>23</td>\n",
       "      <td>1</td>\n",
       "      <td>0</td>\n",
       "      <td>0</td>\n",
       "      <td>0</td>\n",
       "      <td>0</td>\n",
       "      <td>0</td>\n",
       "      <td>0</td>\n",
       "      <td>0</td>\n",
       "      <td>0</td>\n",
       "      <td>0</td>\n",
       "      <td>0</td>\n",
       "      <td>0</td>\n",
       "      <td>0</td>\n",
       "      <td>0</td>\n",
       "      <td>0</td>\n",
       "      <td>0</td>\n",
       "      <td>19114.12</td>\n",
       "      <td>3</td>\n",
       "      <td>4</td>\n",
       "      <td>3</td>\n",
       "      <td>4</td>\n",
       "      <td>3</td>\n",
       "      <td>7.0</td>\n",
       "      <td>11.27</td>\n",
       "      <td>4.0</td>\n",
       "      <td>_</td>\n",
       "      <td>809.98</td>\n",
       "      <td>26.822620</td>\n",
       "      <td>No</td>\n",
       "      <td>49.574949</td>\n",
       "      <td>80.415295</td>\n",
       "      <td>High_spent_Small_value_payments</td>\n",
       "      <td>312.4940</td>\n",
       "      <td>Good</td>\n",
       "      <td>265.000000</td>\n",
       "      <td>0</td>\n",
       "      <td>1</td>\n",
       "      <td>1</td>\n",
       "      <td>1</td>\n",
       "      <td>0</td>\n",
       "      <td>0</td>\n",
       "      <td>0</td>\n",
       "      <td>1</td>\n",
       "      <td>0</td>\n",
       "    </tr>\n",
       "    <tr>\n",
       "      <th>1</th>\n",
       "      <td>12320</td>\n",
       "      <td>23</td>\n",
       "      <td>1</td>\n",
       "      <td>0</td>\n",
       "      <td>0</td>\n",
       "      <td>0</td>\n",
       "      <td>0</td>\n",
       "      <td>0</td>\n",
       "      <td>0</td>\n",
       "      <td>0</td>\n",
       "      <td>0</td>\n",
       "      <td>0</td>\n",
       "      <td>0</td>\n",
       "      <td>0</td>\n",
       "      <td>0</td>\n",
       "      <td>0</td>\n",
       "      <td>0</td>\n",
       "      <td>0</td>\n",
       "      <td>19114.12</td>\n",
       "      <td>3</td>\n",
       "      <td>4</td>\n",
       "      <td>3</td>\n",
       "      <td>4</td>\n",
       "      <td>3</td>\n",
       "      <td>4.0</td>\n",
       "      <td>11.27</td>\n",
       "      <td>4.0</td>\n",
       "      <td>Good</td>\n",
       "      <td>809.98</td>\n",
       "      <td>31.944960</td>\n",
       "      <td>No</td>\n",
       "      <td>49.574949</td>\n",
       "      <td>118.280222</td>\n",
       "      <td>Low_spent_Large_value_payments</td>\n",
       "      <td>284.6291</td>\n",
       "      <td>Good</td>\n",
       "      <td>268.333333</td>\n",
       "      <td>0</td>\n",
       "      <td>1</td>\n",
       "      <td>1</td>\n",
       "      <td>1</td>\n",
       "      <td>0</td>\n",
       "      <td>0</td>\n",
       "      <td>0</td>\n",
       "      <td>1</td>\n",
       "      <td>0</td>\n",
       "    </tr>\n",
       "    <tr>\n",
       "      <th>2</th>\n",
       "      <td>12320</td>\n",
       "      <td>23</td>\n",
       "      <td>1</td>\n",
       "      <td>0</td>\n",
       "      <td>0</td>\n",
       "      <td>0</td>\n",
       "      <td>0</td>\n",
       "      <td>0</td>\n",
       "      <td>0</td>\n",
       "      <td>0</td>\n",
       "      <td>0</td>\n",
       "      <td>0</td>\n",
       "      <td>0</td>\n",
       "      <td>0</td>\n",
       "      <td>0</td>\n",
       "      <td>0</td>\n",
       "      <td>0</td>\n",
       "      <td>0</td>\n",
       "      <td>19114.12</td>\n",
       "      <td>3</td>\n",
       "      <td>4</td>\n",
       "      <td>3</td>\n",
       "      <td>4</td>\n",
       "      <td>3</td>\n",
       "      <td>7.0</td>\n",
       "      <td>10.27</td>\n",
       "      <td>4.0</td>\n",
       "      <td>Good</td>\n",
       "      <td>809.98</td>\n",
       "      <td>28.609352</td>\n",
       "      <td>No</td>\n",
       "      <td>49.574949</td>\n",
       "      <td>81.699521</td>\n",
       "      <td>Low_spent_Medium_value_payments</td>\n",
       "      <td>331.2098</td>\n",
       "      <td>Good</td>\n",
       "      <td>267.000000</td>\n",
       "      <td>0</td>\n",
       "      <td>1</td>\n",
       "      <td>1</td>\n",
       "      <td>1</td>\n",
       "      <td>0</td>\n",
       "      <td>0</td>\n",
       "      <td>0</td>\n",
       "      <td>1</td>\n",
       "      <td>0</td>\n",
       "    </tr>\n",
       "    <tr>\n",
       "      <th>3</th>\n",
       "      <td>12320</td>\n",
       "      <td>23</td>\n",
       "      <td>1</td>\n",
       "      <td>0</td>\n",
       "      <td>0</td>\n",
       "      <td>0</td>\n",
       "      <td>0</td>\n",
       "      <td>0</td>\n",
       "      <td>0</td>\n",
       "      <td>0</td>\n",
       "      <td>0</td>\n",
       "      <td>0</td>\n",
       "      <td>0</td>\n",
       "      <td>0</td>\n",
       "      <td>0</td>\n",
       "      <td>0</td>\n",
       "      <td>0</td>\n",
       "      <td>0</td>\n",
       "      <td>19114.12</td>\n",
       "      <td>3</td>\n",
       "      <td>4</td>\n",
       "      <td>3</td>\n",
       "      <td>4</td>\n",
       "      <td>5</td>\n",
       "      <td>4.0</td>\n",
       "      <td>6.27</td>\n",
       "      <td>4.0</td>\n",
       "      <td>Good</td>\n",
       "      <td>809.98</td>\n",
       "      <td>31.377862</td>\n",
       "      <td>No</td>\n",
       "      <td>49.574949</td>\n",
       "      <td>199.458074</td>\n",
       "      <td>Low_spent_Small_value_payments</td>\n",
       "      <td>223.4513</td>\n",
       "      <td>Good</td>\n",
       "      <td>268.000000</td>\n",
       "      <td>0</td>\n",
       "      <td>1</td>\n",
       "      <td>1</td>\n",
       "      <td>1</td>\n",
       "      <td>0</td>\n",
       "      <td>0</td>\n",
       "      <td>0</td>\n",
       "      <td>1</td>\n",
       "      <td>0</td>\n",
       "    </tr>\n",
       "    <tr>\n",
       "      <th>4</th>\n",
       "      <td>12320</td>\n",
       "      <td>23</td>\n",
       "      <td>1</td>\n",
       "      <td>0</td>\n",
       "      <td>0</td>\n",
       "      <td>0</td>\n",
       "      <td>0</td>\n",
       "      <td>0</td>\n",
       "      <td>0</td>\n",
       "      <td>0</td>\n",
       "      <td>0</td>\n",
       "      <td>0</td>\n",
       "      <td>0</td>\n",
       "      <td>0</td>\n",
       "      <td>0</td>\n",
       "      <td>0</td>\n",
       "      <td>0</td>\n",
       "      <td>0</td>\n",
       "      <td>19114.12</td>\n",
       "      <td>3</td>\n",
       "      <td>4</td>\n",
       "      <td>3</td>\n",
       "      <td>4</td>\n",
       "      <td>6</td>\n",
       "      <td>4.0</td>\n",
       "      <td>11.27</td>\n",
       "      <td>4.0</td>\n",
       "      <td>Good</td>\n",
       "      <td>809.98</td>\n",
       "      <td>24.797347</td>\n",
       "      <td>No</td>\n",
       "      <td>49.574949</td>\n",
       "      <td>41.420153</td>\n",
       "      <td>High_spent_Medium_value_payments</td>\n",
       "      <td>341.4892</td>\n",
       "      <td>Good</td>\n",
       "      <td>269.000000</td>\n",
       "      <td>0</td>\n",
       "      <td>1</td>\n",
       "      <td>1</td>\n",
       "      <td>1</td>\n",
       "      <td>0</td>\n",
       "      <td>0</td>\n",
       "      <td>0</td>\n",
       "      <td>1</td>\n",
       "      <td>0</td>\n",
       "    </tr>\n",
       "  </tbody>\n",
       "</table>\n",
       "</div>"
      ],
      "text/plain": [
       "   Customer_ID  Age  Occupation_1  Occupation_2  Occupation_3  Occupation_4  \\\n",
       "0        12320   23             1             0             0             0   \n",
       "1        12320   23             1             0             0             0   \n",
       "2        12320   23             1             0             0             0   \n",
       "3        12320   23             1             0             0             0   \n",
       "4        12320   23             1             0             0             0   \n",
       "\n",
       "   Occupation_5  Occupation_6  Occupation_7  Occupation_8  Occupation_9  \\\n",
       "0             0             0             0             0             0   \n",
       "1             0             0             0             0             0   \n",
       "2             0             0             0             0             0   \n",
       "3             0             0             0             0             0   \n",
       "4             0             0             0             0             0   \n",
       "\n",
       "   Occupation_10  Occupation_11  Occupation_12  Occupation_13  Occupation_14  \\\n",
       "0              0              0              0              0              0   \n",
       "1              0              0              0              0              0   \n",
       "2              0              0              0              0              0   \n",
       "3              0              0              0              0              0   \n",
       "4              0              0              0              0              0   \n",
       "\n",
       "   Occupation_15  Occupation_16  Annual_Income  Num_Bank_Accounts  \\\n",
       "0              0              0       19114.12                  3   \n",
       "1              0              0       19114.12                  3   \n",
       "2              0              0       19114.12                  3   \n",
       "3              0              0       19114.12                  3   \n",
       "4              0              0       19114.12                  3   \n",
       "\n",
       "   Num_Credit_Card  Interest_Rate  Num_of_Loan  Delay_from_due_date  \\\n",
       "0                4              3            4                    3   \n",
       "1                4              3            4                    3   \n",
       "2                4              3            4                    3   \n",
       "3                4              3            4                    5   \n",
       "4                4              3            4                    6   \n",
       "\n",
       "   Num_of_Delayed_Payment  Changed_Credit_Limit  Num_Credit_Inquiries  \\\n",
       "0                     7.0                 11.27                   4.0   \n",
       "1                     4.0                 11.27                   4.0   \n",
       "2                     7.0                 10.27                   4.0   \n",
       "3                     4.0                  6.27                   4.0   \n",
       "4                     4.0                 11.27                   4.0   \n",
       "\n",
       "  Credit_Mix  Outstanding_Debt  Credit_Utilization_Ratio  \\\n",
       "0          _            809.98                 26.822620   \n",
       "1       Good            809.98                 31.944960   \n",
       "2       Good            809.98                 28.609352   \n",
       "3       Good            809.98                 31.377862   \n",
       "4       Good            809.98                 24.797347   \n",
       "\n",
       "  Payment_of_Min_Amount  Total_EMI_per_month  Amount_invested_monthly  \\\n",
       "0                    No            49.574949                80.415295   \n",
       "1                    No            49.574949               118.280222   \n",
       "2                    No            49.574949                81.699521   \n",
       "3                    No            49.574949               199.458074   \n",
       "4                    No            49.574949                41.420153   \n",
       "\n",
       "                  Payment_Behaviour  Monthly_Balance Credit_Score  \\\n",
       "0   High_spent_Small_value_payments         312.4940         Good   \n",
       "1    Low_spent_Large_value_payments         284.6291         Good   \n",
       "2   Low_spent_Medium_value_payments         331.2098         Good   \n",
       "3    Low_spent_Small_value_payments         223.4513         Good   \n",
       "4  High_spent_Medium_value_payments         341.4892         Good   \n",
       "\n",
       "   Credit_History_Age_Months  Debt Consolidation Loan  Home Equity Loan  \\\n",
       "0                 265.000000                        0                 1   \n",
       "1                 268.333333                        0                 1   \n",
       "2                 267.000000                        0                 1   \n",
       "3                 268.000000                        0                 1   \n",
       "4                 269.000000                        0                 1   \n",
       "\n",
       "   Credit-Builder Loan  Personal Loan  Student Loan  Mortgage Loan  \\\n",
       "0                    1              1             0              0   \n",
       "1                    1              1             0              0   \n",
       "2                    1              1             0              0   \n",
       "3                    1              1             0              0   \n",
       "4                    1              1             0              0   \n",
       "\n",
       "   Payday Loan  Auto Loan  Not Specified  \n",
       "0            0          1              0  \n",
       "1            0          1              0  \n",
       "2            0          1              0  \n",
       "3            0          1              0  \n",
       "4            0          1              0  "
      ]
     },
     "execution_count": 188,
     "metadata": {},
     "output_type": "execute_result"
    }
   ],
   "source": [
    "data.drop(columns=['Type_of_Loan'],inplace=True)\n",
    "data.head()"
   ]
  },
  {
   "cell_type": "markdown",
   "id": "5912048f-a8d3-4d92-bc7a-1922c68aaa3d",
   "metadata": {},
   "source": [
    "---"
   ]
  },
  {
   "cell_type": "markdown",
   "id": "6752f1cd-5b96-4b0e-a1d7-aeaf762c32ce",
   "metadata": {},
   "source": [
    "## Credit_Mix"
   ]
  },
  {
   "cell_type": "code",
   "execution_count": 191,
   "id": "53a36535-2e07-4fd8-a871-b276c610897f",
   "metadata": {},
   "outputs": [
    {
     "data": {
      "text/plain": [
       "Credit_Mix\n",
       "Standard    35851\n",
       "Good        23917\n",
       "_           19815\n",
       "Bad         18700\n",
       "Name: count, dtype: int64"
      ]
     },
     "execution_count": 191,
     "metadata": {},
     "output_type": "execute_result"
    }
   ],
   "source": [
    "data['Credit_Mix'].value_counts()"
   ]
  },
  {
   "cell_type": "code",
   "execution_count": 192,
   "id": "b6206953-8373-4bd6-bd09-db2c31d215ce",
   "metadata": {},
   "outputs": [],
   "source": [
    "data['Credit_Mix'].replace('_',np.nan,inplace=True)"
   ]
  },
  {
   "cell_type": "code",
   "execution_count": 193,
   "id": "beb958a3-0f54-49e8-9376-f8beb13826a2",
   "metadata": {},
   "outputs": [
    {
     "data": {
      "text/plain": [
       "(98283, 46)"
      ]
     },
     "execution_count": 193,
     "metadata": {},
     "output_type": "execute_result"
    }
   ],
   "source": [
    "# Step 1: Compute the mode for each Customer_ID\n",
    "Customer_mix = data.groupby('Customer_ID')['Credit_Mix'].apply(\n",
    "    lambda x: x.mode().iloc[0] if not x.mode().empty else x.iloc[0]\n",
    ")\n",
    "\n",
    "\n",
    "# Step 2: Replace values \n",
    "def replace_mix(row, customer_mix_modes):\n",
    "    if pd.isnull(row['Credit_Mix'])  :        \n",
    "        return customer_mix_modes[row['Customer_ID']]\n",
    "    else:\n",
    "        return row['Credit_Mix']\n",
    "\n",
    "data['Credit_Mix'] = data.apply(replace_mix, axis=1, customer_mix_modes=Customer_mix)\n",
    "\n",
    "\n",
    "data.shape"
   ]
  },
  {
   "cell_type": "code",
   "execution_count": 194,
   "id": "01ec9e65-ee87-4fd4-8c5a-cfe077f3d34b",
   "metadata": {},
   "outputs": [
    {
     "data": {
      "text/plain": [
       "Credit_Mix\n",
       "Standard    45040\n",
       "Good        29843\n",
       "Bad         23400\n",
       "Name: count, dtype: int64"
      ]
     },
     "execution_count": 194,
     "metadata": {},
     "output_type": "execute_result"
    }
   ],
   "source": [
    "data['Credit_Mix'].value_counts()\n"
   ]
  },
  {
   "cell_type": "code",
   "execution_count": 195,
   "id": "d571e02e-1e66-4900-b9bb-425181d6154d",
   "metadata": {},
   "outputs": [],
   "source": [
    "Credit_Mix_encoder=ce.OneHotEncoder(cols=['Credit_Mix'],drop_invariant=True)"
   ]
  },
  {
   "cell_type": "code",
   "execution_count": 196,
   "id": "0283c94c-2225-4b59-9a6f-359f44d5d3c3",
   "metadata": {},
   "outputs": [
    {
     "data": {
      "text/html": [
       "<div>\n",
       "<style scoped>\n",
       "    .dataframe tbody tr th:only-of-type {\n",
       "        vertical-align: middle;\n",
       "    }\n",
       "\n",
       "    .dataframe tbody tr th {\n",
       "        vertical-align: top;\n",
       "    }\n",
       "\n",
       "    .dataframe thead th {\n",
       "        text-align: right;\n",
       "    }\n",
       "</style>\n",
       "<table border=\"1\" class=\"dataframe\">\n",
       "  <thead>\n",
       "    <tr style=\"text-align: right;\">\n",
       "      <th></th>\n",
       "      <th>Customer_ID</th>\n",
       "      <th>Age</th>\n",
       "      <th>Occupation_1</th>\n",
       "      <th>Occupation_2</th>\n",
       "      <th>Occupation_3</th>\n",
       "      <th>Occupation_4</th>\n",
       "      <th>Occupation_5</th>\n",
       "      <th>Occupation_6</th>\n",
       "      <th>Occupation_7</th>\n",
       "      <th>Occupation_8</th>\n",
       "      <th>Occupation_9</th>\n",
       "      <th>Occupation_10</th>\n",
       "      <th>Occupation_11</th>\n",
       "      <th>Occupation_12</th>\n",
       "      <th>Occupation_13</th>\n",
       "      <th>Occupation_14</th>\n",
       "      <th>Occupation_15</th>\n",
       "      <th>Occupation_16</th>\n",
       "      <th>Annual_Income</th>\n",
       "      <th>Num_Bank_Accounts</th>\n",
       "      <th>Num_Credit_Card</th>\n",
       "      <th>Interest_Rate</th>\n",
       "      <th>Num_of_Loan</th>\n",
       "      <th>Delay_from_due_date</th>\n",
       "      <th>Num_of_Delayed_Payment</th>\n",
       "      <th>Changed_Credit_Limit</th>\n",
       "      <th>Num_Credit_Inquiries</th>\n",
       "      <th>Credit_Mix_1</th>\n",
       "      <th>Credit_Mix_2</th>\n",
       "      <th>Credit_Mix_3</th>\n",
       "      <th>Outstanding_Debt</th>\n",
       "      <th>Credit_Utilization_Ratio</th>\n",
       "      <th>Payment_of_Min_Amount</th>\n",
       "      <th>Total_EMI_per_month</th>\n",
       "      <th>Amount_invested_monthly</th>\n",
       "      <th>Payment_Behaviour</th>\n",
       "      <th>Monthly_Balance</th>\n",
       "      <th>Credit_Score</th>\n",
       "      <th>Credit_History_Age_Months</th>\n",
       "      <th>Debt Consolidation Loan</th>\n",
       "      <th>Home Equity Loan</th>\n",
       "      <th>Credit-Builder Loan</th>\n",
       "      <th>Personal Loan</th>\n",
       "      <th>Student Loan</th>\n",
       "      <th>Mortgage Loan</th>\n",
       "      <th>Payday Loan</th>\n",
       "      <th>Auto Loan</th>\n",
       "      <th>Not Specified</th>\n",
       "    </tr>\n",
       "  </thead>\n",
       "  <tbody>\n",
       "    <tr>\n",
       "      <th>0</th>\n",
       "      <td>12320</td>\n",
       "      <td>23</td>\n",
       "      <td>1</td>\n",
       "      <td>0</td>\n",
       "      <td>0</td>\n",
       "      <td>0</td>\n",
       "      <td>0</td>\n",
       "      <td>0</td>\n",
       "      <td>0</td>\n",
       "      <td>0</td>\n",
       "      <td>0</td>\n",
       "      <td>0</td>\n",
       "      <td>0</td>\n",
       "      <td>0</td>\n",
       "      <td>0</td>\n",
       "      <td>0</td>\n",
       "      <td>0</td>\n",
       "      <td>0</td>\n",
       "      <td>19114.12</td>\n",
       "      <td>3</td>\n",
       "      <td>4</td>\n",
       "      <td>3</td>\n",
       "      <td>4</td>\n",
       "      <td>3</td>\n",
       "      <td>7.0</td>\n",
       "      <td>11.27</td>\n",
       "      <td>4.0</td>\n",
       "      <td>1</td>\n",
       "      <td>0</td>\n",
       "      <td>0</td>\n",
       "      <td>809.98</td>\n",
       "      <td>26.822620</td>\n",
       "      <td>No</td>\n",
       "      <td>49.574949</td>\n",
       "      <td>80.415295</td>\n",
       "      <td>High_spent_Small_value_payments</td>\n",
       "      <td>312.4940</td>\n",
       "      <td>Good</td>\n",
       "      <td>265.000000</td>\n",
       "      <td>0</td>\n",
       "      <td>1</td>\n",
       "      <td>1</td>\n",
       "      <td>1</td>\n",
       "      <td>0</td>\n",
       "      <td>0</td>\n",
       "      <td>0</td>\n",
       "      <td>1</td>\n",
       "      <td>0</td>\n",
       "    </tr>\n",
       "    <tr>\n",
       "      <th>1</th>\n",
       "      <td>12320</td>\n",
       "      <td>23</td>\n",
       "      <td>1</td>\n",
       "      <td>0</td>\n",
       "      <td>0</td>\n",
       "      <td>0</td>\n",
       "      <td>0</td>\n",
       "      <td>0</td>\n",
       "      <td>0</td>\n",
       "      <td>0</td>\n",
       "      <td>0</td>\n",
       "      <td>0</td>\n",
       "      <td>0</td>\n",
       "      <td>0</td>\n",
       "      <td>0</td>\n",
       "      <td>0</td>\n",
       "      <td>0</td>\n",
       "      <td>0</td>\n",
       "      <td>19114.12</td>\n",
       "      <td>3</td>\n",
       "      <td>4</td>\n",
       "      <td>3</td>\n",
       "      <td>4</td>\n",
       "      <td>3</td>\n",
       "      <td>4.0</td>\n",
       "      <td>11.27</td>\n",
       "      <td>4.0</td>\n",
       "      <td>1</td>\n",
       "      <td>0</td>\n",
       "      <td>0</td>\n",
       "      <td>809.98</td>\n",
       "      <td>31.944960</td>\n",
       "      <td>No</td>\n",
       "      <td>49.574949</td>\n",
       "      <td>118.280222</td>\n",
       "      <td>Low_spent_Large_value_payments</td>\n",
       "      <td>284.6291</td>\n",
       "      <td>Good</td>\n",
       "      <td>268.333333</td>\n",
       "      <td>0</td>\n",
       "      <td>1</td>\n",
       "      <td>1</td>\n",
       "      <td>1</td>\n",
       "      <td>0</td>\n",
       "      <td>0</td>\n",
       "      <td>0</td>\n",
       "      <td>1</td>\n",
       "      <td>0</td>\n",
       "    </tr>\n",
       "    <tr>\n",
       "      <th>2</th>\n",
       "      <td>12320</td>\n",
       "      <td>23</td>\n",
       "      <td>1</td>\n",
       "      <td>0</td>\n",
       "      <td>0</td>\n",
       "      <td>0</td>\n",
       "      <td>0</td>\n",
       "      <td>0</td>\n",
       "      <td>0</td>\n",
       "      <td>0</td>\n",
       "      <td>0</td>\n",
       "      <td>0</td>\n",
       "      <td>0</td>\n",
       "      <td>0</td>\n",
       "      <td>0</td>\n",
       "      <td>0</td>\n",
       "      <td>0</td>\n",
       "      <td>0</td>\n",
       "      <td>19114.12</td>\n",
       "      <td>3</td>\n",
       "      <td>4</td>\n",
       "      <td>3</td>\n",
       "      <td>4</td>\n",
       "      <td>3</td>\n",
       "      <td>7.0</td>\n",
       "      <td>10.27</td>\n",
       "      <td>4.0</td>\n",
       "      <td>1</td>\n",
       "      <td>0</td>\n",
       "      <td>0</td>\n",
       "      <td>809.98</td>\n",
       "      <td>28.609352</td>\n",
       "      <td>No</td>\n",
       "      <td>49.574949</td>\n",
       "      <td>81.699521</td>\n",
       "      <td>Low_spent_Medium_value_payments</td>\n",
       "      <td>331.2098</td>\n",
       "      <td>Good</td>\n",
       "      <td>267.000000</td>\n",
       "      <td>0</td>\n",
       "      <td>1</td>\n",
       "      <td>1</td>\n",
       "      <td>1</td>\n",
       "      <td>0</td>\n",
       "      <td>0</td>\n",
       "      <td>0</td>\n",
       "      <td>1</td>\n",
       "      <td>0</td>\n",
       "    </tr>\n",
       "    <tr>\n",
       "      <th>3</th>\n",
       "      <td>12320</td>\n",
       "      <td>23</td>\n",
       "      <td>1</td>\n",
       "      <td>0</td>\n",
       "      <td>0</td>\n",
       "      <td>0</td>\n",
       "      <td>0</td>\n",
       "      <td>0</td>\n",
       "      <td>0</td>\n",
       "      <td>0</td>\n",
       "      <td>0</td>\n",
       "      <td>0</td>\n",
       "      <td>0</td>\n",
       "      <td>0</td>\n",
       "      <td>0</td>\n",
       "      <td>0</td>\n",
       "      <td>0</td>\n",
       "      <td>0</td>\n",
       "      <td>19114.12</td>\n",
       "      <td>3</td>\n",
       "      <td>4</td>\n",
       "      <td>3</td>\n",
       "      <td>4</td>\n",
       "      <td>5</td>\n",
       "      <td>4.0</td>\n",
       "      <td>6.27</td>\n",
       "      <td>4.0</td>\n",
       "      <td>1</td>\n",
       "      <td>0</td>\n",
       "      <td>0</td>\n",
       "      <td>809.98</td>\n",
       "      <td>31.377862</td>\n",
       "      <td>No</td>\n",
       "      <td>49.574949</td>\n",
       "      <td>199.458074</td>\n",
       "      <td>Low_spent_Small_value_payments</td>\n",
       "      <td>223.4513</td>\n",
       "      <td>Good</td>\n",
       "      <td>268.000000</td>\n",
       "      <td>0</td>\n",
       "      <td>1</td>\n",
       "      <td>1</td>\n",
       "      <td>1</td>\n",
       "      <td>0</td>\n",
       "      <td>0</td>\n",
       "      <td>0</td>\n",
       "      <td>1</td>\n",
       "      <td>0</td>\n",
       "    </tr>\n",
       "    <tr>\n",
       "      <th>4</th>\n",
       "      <td>12320</td>\n",
       "      <td>23</td>\n",
       "      <td>1</td>\n",
       "      <td>0</td>\n",
       "      <td>0</td>\n",
       "      <td>0</td>\n",
       "      <td>0</td>\n",
       "      <td>0</td>\n",
       "      <td>0</td>\n",
       "      <td>0</td>\n",
       "      <td>0</td>\n",
       "      <td>0</td>\n",
       "      <td>0</td>\n",
       "      <td>0</td>\n",
       "      <td>0</td>\n",
       "      <td>0</td>\n",
       "      <td>0</td>\n",
       "      <td>0</td>\n",
       "      <td>19114.12</td>\n",
       "      <td>3</td>\n",
       "      <td>4</td>\n",
       "      <td>3</td>\n",
       "      <td>4</td>\n",
       "      <td>6</td>\n",
       "      <td>4.0</td>\n",
       "      <td>11.27</td>\n",
       "      <td>4.0</td>\n",
       "      <td>1</td>\n",
       "      <td>0</td>\n",
       "      <td>0</td>\n",
       "      <td>809.98</td>\n",
       "      <td>24.797347</td>\n",
       "      <td>No</td>\n",
       "      <td>49.574949</td>\n",
       "      <td>41.420153</td>\n",
       "      <td>High_spent_Medium_value_payments</td>\n",
       "      <td>341.4892</td>\n",
       "      <td>Good</td>\n",
       "      <td>269.000000</td>\n",
       "      <td>0</td>\n",
       "      <td>1</td>\n",
       "      <td>1</td>\n",
       "      <td>1</td>\n",
       "      <td>0</td>\n",
       "      <td>0</td>\n",
       "      <td>0</td>\n",
       "      <td>1</td>\n",
       "      <td>0</td>\n",
       "    </tr>\n",
       "  </tbody>\n",
       "</table>\n",
       "</div>"
      ],
      "text/plain": [
       "   Customer_ID  Age  Occupation_1  Occupation_2  Occupation_3  Occupation_4  \\\n",
       "0        12320   23             1             0             0             0   \n",
       "1        12320   23             1             0             0             0   \n",
       "2        12320   23             1             0             0             0   \n",
       "3        12320   23             1             0             0             0   \n",
       "4        12320   23             1             0             0             0   \n",
       "\n",
       "   Occupation_5  Occupation_6  Occupation_7  Occupation_8  Occupation_9  \\\n",
       "0             0             0             0             0             0   \n",
       "1             0             0             0             0             0   \n",
       "2             0             0             0             0             0   \n",
       "3             0             0             0             0             0   \n",
       "4             0             0             0             0             0   \n",
       "\n",
       "   Occupation_10  Occupation_11  Occupation_12  Occupation_13  Occupation_14  \\\n",
       "0              0              0              0              0              0   \n",
       "1              0              0              0              0              0   \n",
       "2              0              0              0              0              0   \n",
       "3              0              0              0              0              0   \n",
       "4              0              0              0              0              0   \n",
       "\n",
       "   Occupation_15  Occupation_16  Annual_Income  Num_Bank_Accounts  \\\n",
       "0              0              0       19114.12                  3   \n",
       "1              0              0       19114.12                  3   \n",
       "2              0              0       19114.12                  3   \n",
       "3              0              0       19114.12                  3   \n",
       "4              0              0       19114.12                  3   \n",
       "\n",
       "   Num_Credit_Card  Interest_Rate  Num_of_Loan  Delay_from_due_date  \\\n",
       "0                4              3            4                    3   \n",
       "1                4              3            4                    3   \n",
       "2                4              3            4                    3   \n",
       "3                4              3            4                    5   \n",
       "4                4              3            4                    6   \n",
       "\n",
       "   Num_of_Delayed_Payment  Changed_Credit_Limit  Num_Credit_Inquiries  \\\n",
       "0                     7.0                 11.27                   4.0   \n",
       "1                     4.0                 11.27                   4.0   \n",
       "2                     7.0                 10.27                   4.0   \n",
       "3                     4.0                  6.27                   4.0   \n",
       "4                     4.0                 11.27                   4.0   \n",
       "\n",
       "   Credit_Mix_1  Credit_Mix_2  Credit_Mix_3  Outstanding_Debt  \\\n",
       "0             1             0             0            809.98   \n",
       "1             1             0             0            809.98   \n",
       "2             1             0             0            809.98   \n",
       "3             1             0             0            809.98   \n",
       "4             1             0             0            809.98   \n",
       "\n",
       "   Credit_Utilization_Ratio Payment_of_Min_Amount  Total_EMI_per_month  \\\n",
       "0                 26.822620                    No            49.574949   \n",
       "1                 31.944960                    No            49.574949   \n",
       "2                 28.609352                    No            49.574949   \n",
       "3                 31.377862                    No            49.574949   \n",
       "4                 24.797347                    No            49.574949   \n",
       "\n",
       "   Amount_invested_monthly                 Payment_Behaviour  Monthly_Balance  \\\n",
       "0                80.415295   High_spent_Small_value_payments         312.4940   \n",
       "1               118.280222    Low_spent_Large_value_payments         284.6291   \n",
       "2                81.699521   Low_spent_Medium_value_payments         331.2098   \n",
       "3               199.458074    Low_spent_Small_value_payments         223.4513   \n",
       "4                41.420153  High_spent_Medium_value_payments         341.4892   \n",
       "\n",
       "  Credit_Score  Credit_History_Age_Months  Debt Consolidation Loan  \\\n",
       "0         Good                 265.000000                        0   \n",
       "1         Good                 268.333333                        0   \n",
       "2         Good                 267.000000                        0   \n",
       "3         Good                 268.000000                        0   \n",
       "4         Good                 269.000000                        0   \n",
       "\n",
       "   Home Equity Loan  Credit-Builder Loan  Personal Loan  Student Loan  \\\n",
       "0                 1                    1              1             0   \n",
       "1                 1                    1              1             0   \n",
       "2                 1                    1              1             0   \n",
       "3                 1                    1              1             0   \n",
       "4                 1                    1              1             0   \n",
       "\n",
       "   Mortgage Loan  Payday Loan  Auto Loan  Not Specified  \n",
       "0              0            0          1              0  \n",
       "1              0            0          1              0  \n",
       "2              0            0          1              0  \n",
       "3              0            0          1              0  \n",
       "4              0            0          1              0  "
      ]
     },
     "execution_count": 196,
     "metadata": {},
     "output_type": "execute_result"
    }
   ],
   "source": [
    "data=Credit_Mix_encoder.fit_transform(data)\n",
    "data.head()"
   ]
  },
  {
   "cell_type": "code",
   "execution_count": 197,
   "id": "f43ffbda-e7c5-4ea2-8870-d47ffe3acf98",
   "metadata": {},
   "outputs": [
    {
     "name": "stdout",
     "output_type": "stream",
     "text": [
      "(98283, 48)\n",
      "<class 'pandas.core.frame.DataFrame'>\n",
      "RangeIndex: 98283 entries, 0 to 98282\n",
      "Data columns (total 48 columns):\n",
      " #   Column                     Non-Null Count  Dtype  \n",
      "---  ------                     --------------  -----  \n",
      " 0   Customer_ID                98283 non-null  int32  \n",
      " 1   Age                        98283 non-null  int64  \n",
      " 2   Occupation_1               98283 non-null  int64  \n",
      " 3   Occupation_2               98283 non-null  int64  \n",
      " 4   Occupation_3               98283 non-null  int64  \n",
      " 5   Occupation_4               98283 non-null  int64  \n",
      " 6   Occupation_5               98283 non-null  int64  \n",
      " 7   Occupation_6               98283 non-null  int64  \n",
      " 8   Occupation_7               98283 non-null  int64  \n",
      " 9   Occupation_8               98283 non-null  int64  \n",
      " 10  Occupation_9               98283 non-null  int64  \n",
      " 11  Occupation_10              98283 non-null  int64  \n",
      " 12  Occupation_11              98283 non-null  int64  \n",
      " 13  Occupation_12              98283 non-null  int64  \n",
      " 14  Occupation_13              98283 non-null  int64  \n",
      " 15  Occupation_14              98283 non-null  int64  \n",
      " 16  Occupation_15              98283 non-null  int64  \n",
      " 17  Occupation_16              98283 non-null  int64  \n",
      " 18  Annual_Income              98283 non-null  float64\n",
      " 19  Num_Bank_Accounts          98283 non-null  int64  \n",
      " 20  Num_Credit_Card            98283 non-null  int64  \n",
      " 21  Interest_Rate              98283 non-null  int64  \n",
      " 22  Num_of_Loan                98283 non-null  int64  \n",
      " 23  Delay_from_due_date        98283 non-null  int64  \n",
      " 24  Num_of_Delayed_Payment     98283 non-null  float64\n",
      " 25  Changed_Credit_Limit       98283 non-null  float64\n",
      " 26  Num_Credit_Inquiries       98283 non-null  float64\n",
      " 27  Credit_Mix_1               98283 non-null  int64  \n",
      " 28  Credit_Mix_2               98283 non-null  int64  \n",
      " 29  Credit_Mix_3               98283 non-null  int64  \n",
      " 30  Outstanding_Debt           98283 non-null  float64\n",
      " 31  Credit_Utilization_Ratio   98283 non-null  float64\n",
      " 32  Payment_of_Min_Amount      98283 non-null  object \n",
      " 33  Total_EMI_per_month        98283 non-null  float64\n",
      " 34  Amount_invested_monthly    98283 non-null  float64\n",
      " 35  Payment_Behaviour          98283 non-null  object \n",
      " 36  Monthly_Balance            98283 non-null  float64\n",
      " 37  Credit_Score               98283 non-null  object \n",
      " 38  Credit_History_Age_Months  98283 non-null  float64\n",
      " 39  Debt Consolidation Loan    98283 non-null  int64  \n",
      " 40  Home Equity Loan           98283 non-null  int64  \n",
      " 41  Credit-Builder Loan        98283 non-null  int64  \n",
      " 42  Personal Loan              98283 non-null  int64  \n",
      " 43  Student Loan               98283 non-null  int64  \n",
      " 44  Mortgage Loan              98283 non-null  int64  \n",
      " 45  Payday Loan                98283 non-null  int64  \n",
      " 46  Auto Loan                  98283 non-null  int64  \n",
      " 47  Not Specified              98283 non-null  int64  \n",
      "dtypes: float64(10), int32(1), int64(34), object(3)\n",
      "memory usage: 35.6+ MB\n",
      "None\n"
     ]
    }
   ],
   "source": [
    "print(data.shape)\n",
    "print(data.info())"
   ]
  },
  {
   "cell_type": "markdown",
   "id": "786a410c-ac5d-481e-b3cd-b1c61a81dbb9",
   "metadata": {},
   "source": [
    "---"
   ]
  },
  {
   "cell_type": "markdown",
   "id": "997f8ef3-bed2-4da8-b131-f82b5c37a207",
   "metadata": {},
   "source": [
    "## Payment_of_Min_Amount      "
   ]
  },
  {
   "cell_type": "code",
   "execution_count": 200,
   "id": "7503bd22-34a6-40f1-afc3-97700ac72634",
   "metadata": {},
   "outputs": [
    {
     "data": {
      "text/plain": [
       "Payment_of_Min_Amount\n",
       "Yes    51458\n",
       "No     35002\n",
       "NM     11823\n",
       "Name: count, dtype: int64"
      ]
     },
     "execution_count": 200,
     "metadata": {},
     "output_type": "execute_result"
    }
   ],
   "source": [
    "data['Payment_of_Min_Amount'].value_counts()"
   ]
  },
  {
   "cell_type": "code",
   "execution_count": 201,
   "id": "cb1fc543-c1bf-4407-b3f3-eda204ee1c79",
   "metadata": {},
   "outputs": [],
   "source": [
    "Payment_of_Min_Amount_encoder=ce.OneHotEncoder(cols=['Payment_of_Min_Amount'],drop_invariant=True)"
   ]
  },
  {
   "cell_type": "code",
   "execution_count": 202,
   "id": "a6b56ac7-6a09-4245-98ba-3f1edcdff196",
   "metadata": {},
   "outputs": [
    {
     "data": {
      "text/html": [
       "<div>\n",
       "<style scoped>\n",
       "    .dataframe tbody tr th:only-of-type {\n",
       "        vertical-align: middle;\n",
       "    }\n",
       "\n",
       "    .dataframe tbody tr th {\n",
       "        vertical-align: top;\n",
       "    }\n",
       "\n",
       "    .dataframe thead th {\n",
       "        text-align: right;\n",
       "    }\n",
       "</style>\n",
       "<table border=\"1\" class=\"dataframe\">\n",
       "  <thead>\n",
       "    <tr style=\"text-align: right;\">\n",
       "      <th></th>\n",
       "      <th>Customer_ID</th>\n",
       "      <th>Age</th>\n",
       "      <th>Occupation_1</th>\n",
       "      <th>Occupation_2</th>\n",
       "      <th>Occupation_3</th>\n",
       "      <th>Occupation_4</th>\n",
       "      <th>Occupation_5</th>\n",
       "      <th>Occupation_6</th>\n",
       "      <th>Occupation_7</th>\n",
       "      <th>Occupation_8</th>\n",
       "      <th>Occupation_9</th>\n",
       "      <th>Occupation_10</th>\n",
       "      <th>Occupation_11</th>\n",
       "      <th>Occupation_12</th>\n",
       "      <th>Occupation_13</th>\n",
       "      <th>Occupation_14</th>\n",
       "      <th>Occupation_15</th>\n",
       "      <th>Occupation_16</th>\n",
       "      <th>Annual_Income</th>\n",
       "      <th>Num_Bank_Accounts</th>\n",
       "      <th>Num_Credit_Card</th>\n",
       "      <th>Interest_Rate</th>\n",
       "      <th>Num_of_Loan</th>\n",
       "      <th>Delay_from_due_date</th>\n",
       "      <th>Num_of_Delayed_Payment</th>\n",
       "      <th>Changed_Credit_Limit</th>\n",
       "      <th>Num_Credit_Inquiries</th>\n",
       "      <th>Credit_Mix_1</th>\n",
       "      <th>Credit_Mix_2</th>\n",
       "      <th>Credit_Mix_3</th>\n",
       "      <th>Outstanding_Debt</th>\n",
       "      <th>Credit_Utilization_Ratio</th>\n",
       "      <th>Payment_of_Min_Amount_1</th>\n",
       "      <th>Payment_of_Min_Amount_2</th>\n",
       "      <th>Payment_of_Min_Amount_3</th>\n",
       "      <th>Total_EMI_per_month</th>\n",
       "      <th>Amount_invested_monthly</th>\n",
       "      <th>Payment_Behaviour</th>\n",
       "      <th>Monthly_Balance</th>\n",
       "      <th>Credit_Score</th>\n",
       "      <th>Credit_History_Age_Months</th>\n",
       "      <th>Debt Consolidation Loan</th>\n",
       "      <th>Home Equity Loan</th>\n",
       "      <th>Credit-Builder Loan</th>\n",
       "      <th>Personal Loan</th>\n",
       "      <th>Student Loan</th>\n",
       "      <th>Mortgage Loan</th>\n",
       "      <th>Payday Loan</th>\n",
       "      <th>Auto Loan</th>\n",
       "      <th>Not Specified</th>\n",
       "    </tr>\n",
       "  </thead>\n",
       "  <tbody>\n",
       "    <tr>\n",
       "      <th>0</th>\n",
       "      <td>12320</td>\n",
       "      <td>23</td>\n",
       "      <td>1</td>\n",
       "      <td>0</td>\n",
       "      <td>0</td>\n",
       "      <td>0</td>\n",
       "      <td>0</td>\n",
       "      <td>0</td>\n",
       "      <td>0</td>\n",
       "      <td>0</td>\n",
       "      <td>0</td>\n",
       "      <td>0</td>\n",
       "      <td>0</td>\n",
       "      <td>0</td>\n",
       "      <td>0</td>\n",
       "      <td>0</td>\n",
       "      <td>0</td>\n",
       "      <td>0</td>\n",
       "      <td>19114.12</td>\n",
       "      <td>3</td>\n",
       "      <td>4</td>\n",
       "      <td>3</td>\n",
       "      <td>4</td>\n",
       "      <td>3</td>\n",
       "      <td>7.0</td>\n",
       "      <td>11.27</td>\n",
       "      <td>4.0</td>\n",
       "      <td>1</td>\n",
       "      <td>0</td>\n",
       "      <td>0</td>\n",
       "      <td>809.98</td>\n",
       "      <td>26.822620</td>\n",
       "      <td>1</td>\n",
       "      <td>0</td>\n",
       "      <td>0</td>\n",
       "      <td>49.574949</td>\n",
       "      <td>80.415295</td>\n",
       "      <td>High_spent_Small_value_payments</td>\n",
       "      <td>312.4940</td>\n",
       "      <td>Good</td>\n",
       "      <td>265.000000</td>\n",
       "      <td>0</td>\n",
       "      <td>1</td>\n",
       "      <td>1</td>\n",
       "      <td>1</td>\n",
       "      <td>0</td>\n",
       "      <td>0</td>\n",
       "      <td>0</td>\n",
       "      <td>1</td>\n",
       "      <td>0</td>\n",
       "    </tr>\n",
       "    <tr>\n",
       "      <th>1</th>\n",
       "      <td>12320</td>\n",
       "      <td>23</td>\n",
       "      <td>1</td>\n",
       "      <td>0</td>\n",
       "      <td>0</td>\n",
       "      <td>0</td>\n",
       "      <td>0</td>\n",
       "      <td>0</td>\n",
       "      <td>0</td>\n",
       "      <td>0</td>\n",
       "      <td>0</td>\n",
       "      <td>0</td>\n",
       "      <td>0</td>\n",
       "      <td>0</td>\n",
       "      <td>0</td>\n",
       "      <td>0</td>\n",
       "      <td>0</td>\n",
       "      <td>0</td>\n",
       "      <td>19114.12</td>\n",
       "      <td>3</td>\n",
       "      <td>4</td>\n",
       "      <td>3</td>\n",
       "      <td>4</td>\n",
       "      <td>3</td>\n",
       "      <td>4.0</td>\n",
       "      <td>11.27</td>\n",
       "      <td>4.0</td>\n",
       "      <td>1</td>\n",
       "      <td>0</td>\n",
       "      <td>0</td>\n",
       "      <td>809.98</td>\n",
       "      <td>31.944960</td>\n",
       "      <td>1</td>\n",
       "      <td>0</td>\n",
       "      <td>0</td>\n",
       "      <td>49.574949</td>\n",
       "      <td>118.280222</td>\n",
       "      <td>Low_spent_Large_value_payments</td>\n",
       "      <td>284.6291</td>\n",
       "      <td>Good</td>\n",
       "      <td>268.333333</td>\n",
       "      <td>0</td>\n",
       "      <td>1</td>\n",
       "      <td>1</td>\n",
       "      <td>1</td>\n",
       "      <td>0</td>\n",
       "      <td>0</td>\n",
       "      <td>0</td>\n",
       "      <td>1</td>\n",
       "      <td>0</td>\n",
       "    </tr>\n",
       "    <tr>\n",
       "      <th>2</th>\n",
       "      <td>12320</td>\n",
       "      <td>23</td>\n",
       "      <td>1</td>\n",
       "      <td>0</td>\n",
       "      <td>0</td>\n",
       "      <td>0</td>\n",
       "      <td>0</td>\n",
       "      <td>0</td>\n",
       "      <td>0</td>\n",
       "      <td>0</td>\n",
       "      <td>0</td>\n",
       "      <td>0</td>\n",
       "      <td>0</td>\n",
       "      <td>0</td>\n",
       "      <td>0</td>\n",
       "      <td>0</td>\n",
       "      <td>0</td>\n",
       "      <td>0</td>\n",
       "      <td>19114.12</td>\n",
       "      <td>3</td>\n",
       "      <td>4</td>\n",
       "      <td>3</td>\n",
       "      <td>4</td>\n",
       "      <td>3</td>\n",
       "      <td>7.0</td>\n",
       "      <td>10.27</td>\n",
       "      <td>4.0</td>\n",
       "      <td>1</td>\n",
       "      <td>0</td>\n",
       "      <td>0</td>\n",
       "      <td>809.98</td>\n",
       "      <td>28.609352</td>\n",
       "      <td>1</td>\n",
       "      <td>0</td>\n",
       "      <td>0</td>\n",
       "      <td>49.574949</td>\n",
       "      <td>81.699521</td>\n",
       "      <td>Low_spent_Medium_value_payments</td>\n",
       "      <td>331.2098</td>\n",
       "      <td>Good</td>\n",
       "      <td>267.000000</td>\n",
       "      <td>0</td>\n",
       "      <td>1</td>\n",
       "      <td>1</td>\n",
       "      <td>1</td>\n",
       "      <td>0</td>\n",
       "      <td>0</td>\n",
       "      <td>0</td>\n",
       "      <td>1</td>\n",
       "      <td>0</td>\n",
       "    </tr>\n",
       "    <tr>\n",
       "      <th>3</th>\n",
       "      <td>12320</td>\n",
       "      <td>23</td>\n",
       "      <td>1</td>\n",
       "      <td>0</td>\n",
       "      <td>0</td>\n",
       "      <td>0</td>\n",
       "      <td>0</td>\n",
       "      <td>0</td>\n",
       "      <td>0</td>\n",
       "      <td>0</td>\n",
       "      <td>0</td>\n",
       "      <td>0</td>\n",
       "      <td>0</td>\n",
       "      <td>0</td>\n",
       "      <td>0</td>\n",
       "      <td>0</td>\n",
       "      <td>0</td>\n",
       "      <td>0</td>\n",
       "      <td>19114.12</td>\n",
       "      <td>3</td>\n",
       "      <td>4</td>\n",
       "      <td>3</td>\n",
       "      <td>4</td>\n",
       "      <td>5</td>\n",
       "      <td>4.0</td>\n",
       "      <td>6.27</td>\n",
       "      <td>4.0</td>\n",
       "      <td>1</td>\n",
       "      <td>0</td>\n",
       "      <td>0</td>\n",
       "      <td>809.98</td>\n",
       "      <td>31.377862</td>\n",
       "      <td>1</td>\n",
       "      <td>0</td>\n",
       "      <td>0</td>\n",
       "      <td>49.574949</td>\n",
       "      <td>199.458074</td>\n",
       "      <td>Low_spent_Small_value_payments</td>\n",
       "      <td>223.4513</td>\n",
       "      <td>Good</td>\n",
       "      <td>268.000000</td>\n",
       "      <td>0</td>\n",
       "      <td>1</td>\n",
       "      <td>1</td>\n",
       "      <td>1</td>\n",
       "      <td>0</td>\n",
       "      <td>0</td>\n",
       "      <td>0</td>\n",
       "      <td>1</td>\n",
       "      <td>0</td>\n",
       "    </tr>\n",
       "    <tr>\n",
       "      <th>4</th>\n",
       "      <td>12320</td>\n",
       "      <td>23</td>\n",
       "      <td>1</td>\n",
       "      <td>0</td>\n",
       "      <td>0</td>\n",
       "      <td>0</td>\n",
       "      <td>0</td>\n",
       "      <td>0</td>\n",
       "      <td>0</td>\n",
       "      <td>0</td>\n",
       "      <td>0</td>\n",
       "      <td>0</td>\n",
       "      <td>0</td>\n",
       "      <td>0</td>\n",
       "      <td>0</td>\n",
       "      <td>0</td>\n",
       "      <td>0</td>\n",
       "      <td>0</td>\n",
       "      <td>19114.12</td>\n",
       "      <td>3</td>\n",
       "      <td>4</td>\n",
       "      <td>3</td>\n",
       "      <td>4</td>\n",
       "      <td>6</td>\n",
       "      <td>4.0</td>\n",
       "      <td>11.27</td>\n",
       "      <td>4.0</td>\n",
       "      <td>1</td>\n",
       "      <td>0</td>\n",
       "      <td>0</td>\n",
       "      <td>809.98</td>\n",
       "      <td>24.797347</td>\n",
       "      <td>1</td>\n",
       "      <td>0</td>\n",
       "      <td>0</td>\n",
       "      <td>49.574949</td>\n",
       "      <td>41.420153</td>\n",
       "      <td>High_spent_Medium_value_payments</td>\n",
       "      <td>341.4892</td>\n",
       "      <td>Good</td>\n",
       "      <td>269.000000</td>\n",
       "      <td>0</td>\n",
       "      <td>1</td>\n",
       "      <td>1</td>\n",
       "      <td>1</td>\n",
       "      <td>0</td>\n",
       "      <td>0</td>\n",
       "      <td>0</td>\n",
       "      <td>1</td>\n",
       "      <td>0</td>\n",
       "    </tr>\n",
       "  </tbody>\n",
       "</table>\n",
       "</div>"
      ],
      "text/plain": [
       "   Customer_ID  Age  Occupation_1  Occupation_2  Occupation_3  Occupation_4  \\\n",
       "0        12320   23             1             0             0             0   \n",
       "1        12320   23             1             0             0             0   \n",
       "2        12320   23             1             0             0             0   \n",
       "3        12320   23             1             0             0             0   \n",
       "4        12320   23             1             0             0             0   \n",
       "\n",
       "   Occupation_5  Occupation_6  Occupation_7  Occupation_8  Occupation_9  \\\n",
       "0             0             0             0             0             0   \n",
       "1             0             0             0             0             0   \n",
       "2             0             0             0             0             0   \n",
       "3             0             0             0             0             0   \n",
       "4             0             0             0             0             0   \n",
       "\n",
       "   Occupation_10  Occupation_11  Occupation_12  Occupation_13  Occupation_14  \\\n",
       "0              0              0              0              0              0   \n",
       "1              0              0              0              0              0   \n",
       "2              0              0              0              0              0   \n",
       "3              0              0              0              0              0   \n",
       "4              0              0              0              0              0   \n",
       "\n",
       "   Occupation_15  Occupation_16  Annual_Income  Num_Bank_Accounts  \\\n",
       "0              0              0       19114.12                  3   \n",
       "1              0              0       19114.12                  3   \n",
       "2              0              0       19114.12                  3   \n",
       "3              0              0       19114.12                  3   \n",
       "4              0              0       19114.12                  3   \n",
       "\n",
       "   Num_Credit_Card  Interest_Rate  Num_of_Loan  Delay_from_due_date  \\\n",
       "0                4              3            4                    3   \n",
       "1                4              3            4                    3   \n",
       "2                4              3            4                    3   \n",
       "3                4              3            4                    5   \n",
       "4                4              3            4                    6   \n",
       "\n",
       "   Num_of_Delayed_Payment  Changed_Credit_Limit  Num_Credit_Inquiries  \\\n",
       "0                     7.0                 11.27                   4.0   \n",
       "1                     4.0                 11.27                   4.0   \n",
       "2                     7.0                 10.27                   4.0   \n",
       "3                     4.0                  6.27                   4.0   \n",
       "4                     4.0                 11.27                   4.0   \n",
       "\n",
       "   Credit_Mix_1  Credit_Mix_2  Credit_Mix_3  Outstanding_Debt  \\\n",
       "0             1             0             0            809.98   \n",
       "1             1             0             0            809.98   \n",
       "2             1             0             0            809.98   \n",
       "3             1             0             0            809.98   \n",
       "4             1             0             0            809.98   \n",
       "\n",
       "   Credit_Utilization_Ratio  Payment_of_Min_Amount_1  Payment_of_Min_Amount_2  \\\n",
       "0                 26.822620                        1                        0   \n",
       "1                 31.944960                        1                        0   \n",
       "2                 28.609352                        1                        0   \n",
       "3                 31.377862                        1                        0   \n",
       "4                 24.797347                        1                        0   \n",
       "\n",
       "   Payment_of_Min_Amount_3  Total_EMI_per_month  Amount_invested_monthly  \\\n",
       "0                        0            49.574949                80.415295   \n",
       "1                        0            49.574949               118.280222   \n",
       "2                        0            49.574949                81.699521   \n",
       "3                        0            49.574949               199.458074   \n",
       "4                        0            49.574949                41.420153   \n",
       "\n",
       "                  Payment_Behaviour  Monthly_Balance Credit_Score  \\\n",
       "0   High_spent_Small_value_payments         312.4940         Good   \n",
       "1    Low_spent_Large_value_payments         284.6291         Good   \n",
       "2   Low_spent_Medium_value_payments         331.2098         Good   \n",
       "3    Low_spent_Small_value_payments         223.4513         Good   \n",
       "4  High_spent_Medium_value_payments         341.4892         Good   \n",
       "\n",
       "   Credit_History_Age_Months  Debt Consolidation Loan  Home Equity Loan  \\\n",
       "0                 265.000000                        0                 1   \n",
       "1                 268.333333                        0                 1   \n",
       "2                 267.000000                        0                 1   \n",
       "3                 268.000000                        0                 1   \n",
       "4                 269.000000                        0                 1   \n",
       "\n",
       "   Credit-Builder Loan  Personal Loan  Student Loan  Mortgage Loan  \\\n",
       "0                    1              1             0              0   \n",
       "1                    1              1             0              0   \n",
       "2                    1              1             0              0   \n",
       "3                    1              1             0              0   \n",
       "4                    1              1             0              0   \n",
       "\n",
       "   Payday Loan  Auto Loan  Not Specified  \n",
       "0            0          1              0  \n",
       "1            0          1              0  \n",
       "2            0          1              0  \n",
       "3            0          1              0  \n",
       "4            0          1              0  "
      ]
     },
     "execution_count": 202,
     "metadata": {},
     "output_type": "execute_result"
    }
   ],
   "source": [
    "data=Payment_of_Min_Amount_encoder.fit_transform(data)\n",
    "data.head()"
   ]
  },
  {
   "cell_type": "code",
   "execution_count": 203,
   "id": "f5878b0f-c3d7-40ab-9f8a-a67c49fddd8e",
   "metadata": {},
   "outputs": [
    {
     "data": {
      "text/plain": [
       "(98283, 50)"
      ]
     },
     "execution_count": 203,
     "metadata": {},
     "output_type": "execute_result"
    }
   ],
   "source": [
    "data.shape"
   ]
  },
  {
   "cell_type": "markdown",
   "id": "f4fae8fc-0070-4c5a-963b-99135dcc54e7",
   "metadata": {},
   "source": [
    "---"
   ]
  },
  {
   "cell_type": "markdown",
   "id": "2faa46f4-ee98-40b3-97c6-2517de5f3dd6",
   "metadata": {},
   "source": [
    "## Payment_Behaviour"
   ]
  },
  {
   "cell_type": "code",
   "execution_count": 206,
   "id": "15735652-8e82-4a9f-a7e5-c30c903c08ef",
   "metadata": {},
   "outputs": [
    {
     "data": {
      "text/plain": [
       "Payment_Behaviour\n",
       "Low_spent_Small_value_payments      25146\n",
       "High_spent_Medium_value_payments    17215\n",
       "Low_spent_Medium_value_payments     13603\n",
       "High_spent_Large_value_payments     13460\n",
       "High_spent_Small_value_payments     11157\n",
       "Low_spent_Large_value_payments      10240\n",
       "!@9#%8                               7462\n",
       "Name: count, dtype: int64"
      ]
     },
     "execution_count": 206,
     "metadata": {},
     "output_type": "execute_result"
    }
   ],
   "source": [
    "data['Payment_Behaviour'].value_counts()"
   ]
  },
  {
   "cell_type": "code",
   "execution_count": 207,
   "id": "e510cfd6-9d9d-4f0a-a7e8-c4708d205c71",
   "metadata": {},
   "outputs": [],
   "source": [
    "data['Payment_Behaviour'].replace('!@9#%8',np.nan,inplace=True)"
   ]
  },
  {
   "cell_type": "code",
   "execution_count": 208,
   "id": "d9f465ef-ccc9-4984-8dbd-f57209c1ae8b",
   "metadata": {},
   "outputs": [
    {
     "data": {
      "text/plain": [
       "(98283, 50)"
      ]
     },
     "execution_count": 208,
     "metadata": {},
     "output_type": "execute_result"
    }
   ],
   "source": [
    "# Step 1: Compute the mode for each Customer_ID\n",
    "Customer_payment = data.groupby('Customer_ID')['Payment_Behaviour'].apply(\n",
    "    lambda x: x.mode().iloc[0] if not x.mode().empty else x.iloc[0]\n",
    ")\n",
    "\n",
    "\n",
    "# Step 2: Replace values \n",
    "def replace_payment(row, customer_payment_modes):\n",
    "    if pd.isnull(row['Payment_Behaviour'])  :        \n",
    "        return customer_payment_modes[row['Customer_ID']]\n",
    "    else:\n",
    "        return row['Payment_Behaviour']\n",
    "\n",
    "data['Payment_Behaviour'] = data.apply(replace_payment, axis=1, customer_payment_modes=Customer_payment)\n",
    "\n",
    "\n",
    "data.shape\n",
    "\n",
    "\n"
   ]
  },
  {
   "cell_type": "code",
   "execution_count": 209,
   "id": "49de6fa3-a795-4278-8346-b47922ddd5cd",
   "metadata": {},
   "outputs": [],
   "source": [
    "Payment_Behaviour_encoder=ce.OneHotEncoder(cols=['Payment_Behaviour'],drop_invariant=True)"
   ]
  },
  {
   "cell_type": "code",
   "execution_count": 210,
   "id": "277da49a-b6a2-49a9-b281-af7e18ebf967",
   "metadata": {},
   "outputs": [
    {
     "data": {
      "text/html": [
       "<div>\n",
       "<style scoped>\n",
       "    .dataframe tbody tr th:only-of-type {\n",
       "        vertical-align: middle;\n",
       "    }\n",
       "\n",
       "    .dataframe tbody tr th {\n",
       "        vertical-align: top;\n",
       "    }\n",
       "\n",
       "    .dataframe thead th {\n",
       "        text-align: right;\n",
       "    }\n",
       "</style>\n",
       "<table border=\"1\" class=\"dataframe\">\n",
       "  <thead>\n",
       "    <tr style=\"text-align: right;\">\n",
       "      <th></th>\n",
       "      <th>Customer_ID</th>\n",
       "      <th>Age</th>\n",
       "      <th>Occupation_1</th>\n",
       "      <th>Occupation_2</th>\n",
       "      <th>Occupation_3</th>\n",
       "      <th>Occupation_4</th>\n",
       "      <th>Occupation_5</th>\n",
       "      <th>Occupation_6</th>\n",
       "      <th>Occupation_7</th>\n",
       "      <th>Occupation_8</th>\n",
       "      <th>Occupation_9</th>\n",
       "      <th>Occupation_10</th>\n",
       "      <th>Occupation_11</th>\n",
       "      <th>Occupation_12</th>\n",
       "      <th>Occupation_13</th>\n",
       "      <th>Occupation_14</th>\n",
       "      <th>Occupation_15</th>\n",
       "      <th>Occupation_16</th>\n",
       "      <th>Annual_Income</th>\n",
       "      <th>Num_Bank_Accounts</th>\n",
       "      <th>Num_Credit_Card</th>\n",
       "      <th>Interest_Rate</th>\n",
       "      <th>Num_of_Loan</th>\n",
       "      <th>Delay_from_due_date</th>\n",
       "      <th>Num_of_Delayed_Payment</th>\n",
       "      <th>Changed_Credit_Limit</th>\n",
       "      <th>Num_Credit_Inquiries</th>\n",
       "      <th>Credit_Mix_1</th>\n",
       "      <th>Credit_Mix_2</th>\n",
       "      <th>Credit_Mix_3</th>\n",
       "      <th>Outstanding_Debt</th>\n",
       "      <th>Credit_Utilization_Ratio</th>\n",
       "      <th>Payment_of_Min_Amount_1</th>\n",
       "      <th>Payment_of_Min_Amount_2</th>\n",
       "      <th>Payment_of_Min_Amount_3</th>\n",
       "      <th>Total_EMI_per_month</th>\n",
       "      <th>Amount_invested_monthly</th>\n",
       "      <th>Payment_Behaviour_1</th>\n",
       "      <th>Payment_Behaviour_2</th>\n",
       "      <th>Payment_Behaviour_3</th>\n",
       "      <th>Payment_Behaviour_4</th>\n",
       "      <th>Payment_Behaviour_5</th>\n",
       "      <th>Payment_Behaviour_6</th>\n",
       "      <th>Monthly_Balance</th>\n",
       "      <th>Credit_Score</th>\n",
       "      <th>Credit_History_Age_Months</th>\n",
       "      <th>Debt Consolidation Loan</th>\n",
       "      <th>Home Equity Loan</th>\n",
       "      <th>Credit-Builder Loan</th>\n",
       "      <th>Personal Loan</th>\n",
       "      <th>Student Loan</th>\n",
       "      <th>Mortgage Loan</th>\n",
       "      <th>Payday Loan</th>\n",
       "      <th>Auto Loan</th>\n",
       "      <th>Not Specified</th>\n",
       "    </tr>\n",
       "  </thead>\n",
       "  <tbody>\n",
       "    <tr>\n",
       "      <th>0</th>\n",
       "      <td>12320</td>\n",
       "      <td>23</td>\n",
       "      <td>1</td>\n",
       "      <td>0</td>\n",
       "      <td>0</td>\n",
       "      <td>0</td>\n",
       "      <td>0</td>\n",
       "      <td>0</td>\n",
       "      <td>0</td>\n",
       "      <td>0</td>\n",
       "      <td>0</td>\n",
       "      <td>0</td>\n",
       "      <td>0</td>\n",
       "      <td>0</td>\n",
       "      <td>0</td>\n",
       "      <td>0</td>\n",
       "      <td>0</td>\n",
       "      <td>0</td>\n",
       "      <td>19114.12</td>\n",
       "      <td>3</td>\n",
       "      <td>4</td>\n",
       "      <td>3</td>\n",
       "      <td>4</td>\n",
       "      <td>3</td>\n",
       "      <td>7.0</td>\n",
       "      <td>11.27</td>\n",
       "      <td>4.0</td>\n",
       "      <td>1</td>\n",
       "      <td>0</td>\n",
       "      <td>0</td>\n",
       "      <td>809.98</td>\n",
       "      <td>26.822620</td>\n",
       "      <td>1</td>\n",
       "      <td>0</td>\n",
       "      <td>0</td>\n",
       "      <td>49.574949</td>\n",
       "      <td>80.415295</td>\n",
       "      <td>1</td>\n",
       "      <td>0</td>\n",
       "      <td>0</td>\n",
       "      <td>0</td>\n",
       "      <td>0</td>\n",
       "      <td>0</td>\n",
       "      <td>312.4940</td>\n",
       "      <td>Good</td>\n",
       "      <td>265.000000</td>\n",
       "      <td>0</td>\n",
       "      <td>1</td>\n",
       "      <td>1</td>\n",
       "      <td>1</td>\n",
       "      <td>0</td>\n",
       "      <td>0</td>\n",
       "      <td>0</td>\n",
       "      <td>1</td>\n",
       "      <td>0</td>\n",
       "    </tr>\n",
       "    <tr>\n",
       "      <th>1</th>\n",
       "      <td>12320</td>\n",
       "      <td>23</td>\n",
       "      <td>1</td>\n",
       "      <td>0</td>\n",
       "      <td>0</td>\n",
       "      <td>0</td>\n",
       "      <td>0</td>\n",
       "      <td>0</td>\n",
       "      <td>0</td>\n",
       "      <td>0</td>\n",
       "      <td>0</td>\n",
       "      <td>0</td>\n",
       "      <td>0</td>\n",
       "      <td>0</td>\n",
       "      <td>0</td>\n",
       "      <td>0</td>\n",
       "      <td>0</td>\n",
       "      <td>0</td>\n",
       "      <td>19114.12</td>\n",
       "      <td>3</td>\n",
       "      <td>4</td>\n",
       "      <td>3</td>\n",
       "      <td>4</td>\n",
       "      <td>3</td>\n",
       "      <td>4.0</td>\n",
       "      <td>11.27</td>\n",
       "      <td>4.0</td>\n",
       "      <td>1</td>\n",
       "      <td>0</td>\n",
       "      <td>0</td>\n",
       "      <td>809.98</td>\n",
       "      <td>31.944960</td>\n",
       "      <td>1</td>\n",
       "      <td>0</td>\n",
       "      <td>0</td>\n",
       "      <td>49.574949</td>\n",
       "      <td>118.280222</td>\n",
       "      <td>0</td>\n",
       "      <td>1</td>\n",
       "      <td>0</td>\n",
       "      <td>0</td>\n",
       "      <td>0</td>\n",
       "      <td>0</td>\n",
       "      <td>284.6291</td>\n",
       "      <td>Good</td>\n",
       "      <td>268.333333</td>\n",
       "      <td>0</td>\n",
       "      <td>1</td>\n",
       "      <td>1</td>\n",
       "      <td>1</td>\n",
       "      <td>0</td>\n",
       "      <td>0</td>\n",
       "      <td>0</td>\n",
       "      <td>1</td>\n",
       "      <td>0</td>\n",
       "    </tr>\n",
       "    <tr>\n",
       "      <th>2</th>\n",
       "      <td>12320</td>\n",
       "      <td>23</td>\n",
       "      <td>1</td>\n",
       "      <td>0</td>\n",
       "      <td>0</td>\n",
       "      <td>0</td>\n",
       "      <td>0</td>\n",
       "      <td>0</td>\n",
       "      <td>0</td>\n",
       "      <td>0</td>\n",
       "      <td>0</td>\n",
       "      <td>0</td>\n",
       "      <td>0</td>\n",
       "      <td>0</td>\n",
       "      <td>0</td>\n",
       "      <td>0</td>\n",
       "      <td>0</td>\n",
       "      <td>0</td>\n",
       "      <td>19114.12</td>\n",
       "      <td>3</td>\n",
       "      <td>4</td>\n",
       "      <td>3</td>\n",
       "      <td>4</td>\n",
       "      <td>3</td>\n",
       "      <td>7.0</td>\n",
       "      <td>10.27</td>\n",
       "      <td>4.0</td>\n",
       "      <td>1</td>\n",
       "      <td>0</td>\n",
       "      <td>0</td>\n",
       "      <td>809.98</td>\n",
       "      <td>28.609352</td>\n",
       "      <td>1</td>\n",
       "      <td>0</td>\n",
       "      <td>0</td>\n",
       "      <td>49.574949</td>\n",
       "      <td>81.699521</td>\n",
       "      <td>0</td>\n",
       "      <td>0</td>\n",
       "      <td>1</td>\n",
       "      <td>0</td>\n",
       "      <td>0</td>\n",
       "      <td>0</td>\n",
       "      <td>331.2098</td>\n",
       "      <td>Good</td>\n",
       "      <td>267.000000</td>\n",
       "      <td>0</td>\n",
       "      <td>1</td>\n",
       "      <td>1</td>\n",
       "      <td>1</td>\n",
       "      <td>0</td>\n",
       "      <td>0</td>\n",
       "      <td>0</td>\n",
       "      <td>1</td>\n",
       "      <td>0</td>\n",
       "    </tr>\n",
       "    <tr>\n",
       "      <th>3</th>\n",
       "      <td>12320</td>\n",
       "      <td>23</td>\n",
       "      <td>1</td>\n",
       "      <td>0</td>\n",
       "      <td>0</td>\n",
       "      <td>0</td>\n",
       "      <td>0</td>\n",
       "      <td>0</td>\n",
       "      <td>0</td>\n",
       "      <td>0</td>\n",
       "      <td>0</td>\n",
       "      <td>0</td>\n",
       "      <td>0</td>\n",
       "      <td>0</td>\n",
       "      <td>0</td>\n",
       "      <td>0</td>\n",
       "      <td>0</td>\n",
       "      <td>0</td>\n",
       "      <td>19114.12</td>\n",
       "      <td>3</td>\n",
       "      <td>4</td>\n",
       "      <td>3</td>\n",
       "      <td>4</td>\n",
       "      <td>5</td>\n",
       "      <td>4.0</td>\n",
       "      <td>6.27</td>\n",
       "      <td>4.0</td>\n",
       "      <td>1</td>\n",
       "      <td>0</td>\n",
       "      <td>0</td>\n",
       "      <td>809.98</td>\n",
       "      <td>31.377862</td>\n",
       "      <td>1</td>\n",
       "      <td>0</td>\n",
       "      <td>0</td>\n",
       "      <td>49.574949</td>\n",
       "      <td>199.458074</td>\n",
       "      <td>0</td>\n",
       "      <td>0</td>\n",
       "      <td>0</td>\n",
       "      <td>1</td>\n",
       "      <td>0</td>\n",
       "      <td>0</td>\n",
       "      <td>223.4513</td>\n",
       "      <td>Good</td>\n",
       "      <td>268.000000</td>\n",
       "      <td>0</td>\n",
       "      <td>1</td>\n",
       "      <td>1</td>\n",
       "      <td>1</td>\n",
       "      <td>0</td>\n",
       "      <td>0</td>\n",
       "      <td>0</td>\n",
       "      <td>1</td>\n",
       "      <td>0</td>\n",
       "    </tr>\n",
       "    <tr>\n",
       "      <th>4</th>\n",
       "      <td>12320</td>\n",
       "      <td>23</td>\n",
       "      <td>1</td>\n",
       "      <td>0</td>\n",
       "      <td>0</td>\n",
       "      <td>0</td>\n",
       "      <td>0</td>\n",
       "      <td>0</td>\n",
       "      <td>0</td>\n",
       "      <td>0</td>\n",
       "      <td>0</td>\n",
       "      <td>0</td>\n",
       "      <td>0</td>\n",
       "      <td>0</td>\n",
       "      <td>0</td>\n",
       "      <td>0</td>\n",
       "      <td>0</td>\n",
       "      <td>0</td>\n",
       "      <td>19114.12</td>\n",
       "      <td>3</td>\n",
       "      <td>4</td>\n",
       "      <td>3</td>\n",
       "      <td>4</td>\n",
       "      <td>6</td>\n",
       "      <td>4.0</td>\n",
       "      <td>11.27</td>\n",
       "      <td>4.0</td>\n",
       "      <td>1</td>\n",
       "      <td>0</td>\n",
       "      <td>0</td>\n",
       "      <td>809.98</td>\n",
       "      <td>24.797347</td>\n",
       "      <td>1</td>\n",
       "      <td>0</td>\n",
       "      <td>0</td>\n",
       "      <td>49.574949</td>\n",
       "      <td>41.420153</td>\n",
       "      <td>0</td>\n",
       "      <td>0</td>\n",
       "      <td>0</td>\n",
       "      <td>0</td>\n",
       "      <td>1</td>\n",
       "      <td>0</td>\n",
       "      <td>341.4892</td>\n",
       "      <td>Good</td>\n",
       "      <td>269.000000</td>\n",
       "      <td>0</td>\n",
       "      <td>1</td>\n",
       "      <td>1</td>\n",
       "      <td>1</td>\n",
       "      <td>0</td>\n",
       "      <td>0</td>\n",
       "      <td>0</td>\n",
       "      <td>1</td>\n",
       "      <td>0</td>\n",
       "    </tr>\n",
       "  </tbody>\n",
       "</table>\n",
       "</div>"
      ],
      "text/plain": [
       "   Customer_ID  Age  Occupation_1  Occupation_2  Occupation_3  Occupation_4  \\\n",
       "0        12320   23             1             0             0             0   \n",
       "1        12320   23             1             0             0             0   \n",
       "2        12320   23             1             0             0             0   \n",
       "3        12320   23             1             0             0             0   \n",
       "4        12320   23             1             0             0             0   \n",
       "\n",
       "   Occupation_5  Occupation_6  Occupation_7  Occupation_8  Occupation_9  \\\n",
       "0             0             0             0             0             0   \n",
       "1             0             0             0             0             0   \n",
       "2             0             0             0             0             0   \n",
       "3             0             0             0             0             0   \n",
       "4             0             0             0             0             0   \n",
       "\n",
       "   Occupation_10  Occupation_11  Occupation_12  Occupation_13  Occupation_14  \\\n",
       "0              0              0              0              0              0   \n",
       "1              0              0              0              0              0   \n",
       "2              0              0              0              0              0   \n",
       "3              0              0              0              0              0   \n",
       "4              0              0              0              0              0   \n",
       "\n",
       "   Occupation_15  Occupation_16  Annual_Income  Num_Bank_Accounts  \\\n",
       "0              0              0       19114.12                  3   \n",
       "1              0              0       19114.12                  3   \n",
       "2              0              0       19114.12                  3   \n",
       "3              0              0       19114.12                  3   \n",
       "4              0              0       19114.12                  3   \n",
       "\n",
       "   Num_Credit_Card  Interest_Rate  Num_of_Loan  Delay_from_due_date  \\\n",
       "0                4              3            4                    3   \n",
       "1                4              3            4                    3   \n",
       "2                4              3            4                    3   \n",
       "3                4              3            4                    5   \n",
       "4                4              3            4                    6   \n",
       "\n",
       "   Num_of_Delayed_Payment  Changed_Credit_Limit  Num_Credit_Inquiries  \\\n",
       "0                     7.0                 11.27                   4.0   \n",
       "1                     4.0                 11.27                   4.0   \n",
       "2                     7.0                 10.27                   4.0   \n",
       "3                     4.0                  6.27                   4.0   \n",
       "4                     4.0                 11.27                   4.0   \n",
       "\n",
       "   Credit_Mix_1  Credit_Mix_2  Credit_Mix_3  Outstanding_Debt  \\\n",
       "0             1             0             0            809.98   \n",
       "1             1             0             0            809.98   \n",
       "2             1             0             0            809.98   \n",
       "3             1             0             0            809.98   \n",
       "4             1             0             0            809.98   \n",
       "\n",
       "   Credit_Utilization_Ratio  Payment_of_Min_Amount_1  Payment_of_Min_Amount_2  \\\n",
       "0                 26.822620                        1                        0   \n",
       "1                 31.944960                        1                        0   \n",
       "2                 28.609352                        1                        0   \n",
       "3                 31.377862                        1                        0   \n",
       "4                 24.797347                        1                        0   \n",
       "\n",
       "   Payment_of_Min_Amount_3  Total_EMI_per_month  Amount_invested_monthly  \\\n",
       "0                        0            49.574949                80.415295   \n",
       "1                        0            49.574949               118.280222   \n",
       "2                        0            49.574949                81.699521   \n",
       "3                        0            49.574949               199.458074   \n",
       "4                        0            49.574949                41.420153   \n",
       "\n",
       "   Payment_Behaviour_1  Payment_Behaviour_2  Payment_Behaviour_3  \\\n",
       "0                    1                    0                    0   \n",
       "1                    0                    1                    0   \n",
       "2                    0                    0                    1   \n",
       "3                    0                    0                    0   \n",
       "4                    0                    0                    0   \n",
       "\n",
       "   Payment_Behaviour_4  Payment_Behaviour_5  Payment_Behaviour_6  \\\n",
       "0                    0                    0                    0   \n",
       "1                    0                    0                    0   \n",
       "2                    0                    0                    0   \n",
       "3                    1                    0                    0   \n",
       "4                    0                    1                    0   \n",
       "\n",
       "   Monthly_Balance Credit_Score  Credit_History_Age_Months  \\\n",
       "0         312.4940         Good                 265.000000   \n",
       "1         284.6291         Good                 268.333333   \n",
       "2         331.2098         Good                 267.000000   \n",
       "3         223.4513         Good                 268.000000   \n",
       "4         341.4892         Good                 269.000000   \n",
       "\n",
       "   Debt Consolidation Loan  Home Equity Loan  Credit-Builder Loan  \\\n",
       "0                        0                 1                    1   \n",
       "1                        0                 1                    1   \n",
       "2                        0                 1                    1   \n",
       "3                        0                 1                    1   \n",
       "4                        0                 1                    1   \n",
       "\n",
       "   Personal Loan  Student Loan  Mortgage Loan  Payday Loan  Auto Loan  \\\n",
       "0              1             0              0            0          1   \n",
       "1              1             0              0            0          1   \n",
       "2              1             0              0            0          1   \n",
       "3              1             0              0            0          1   \n",
       "4              1             0              0            0          1   \n",
       "\n",
       "   Not Specified  \n",
       "0              0  \n",
       "1              0  \n",
       "2              0  \n",
       "3              0  \n",
       "4              0  "
      ]
     },
     "execution_count": 210,
     "metadata": {},
     "output_type": "execute_result"
    }
   ],
   "source": [
    "data=Payment_Behaviour_encoder.fit_transform(data)\n",
    "data.head()"
   ]
  },
  {
   "cell_type": "code",
   "execution_count": 211,
   "id": "76665488-8d57-40b1-9494-053d1168da51",
   "metadata": {},
   "outputs": [
    {
     "data": {
      "text/plain": [
       "(98283, 55)"
      ]
     },
     "execution_count": 211,
     "metadata": {},
     "output_type": "execute_result"
    }
   ],
   "source": [
    "data.shape"
   ]
  },
  {
   "cell_type": "markdown",
   "id": "dfc938ea-7b23-4ba6-95f5-31eb0f047c68",
   "metadata": {},
   "source": [
    "---"
   ]
  },
  {
   "cell_type": "markdown",
   "id": "4ed4d548-e39f-405e-b250-37b708f4bdc8",
   "metadata": {},
   "source": [
    "## Credit_History_Age_Months  "
   ]
  },
  {
   "cell_type": "code",
   "execution_count": 214,
   "id": "84992993-1362-4d7b-8335-c303f872297d",
   "metadata": {},
   "outputs": [],
   "source": [
    "data['Credit_History_Age_Months']=pd.to_numeric(data['Credit_History_Age_Months'])"
   ]
  },
  {
   "cell_type": "code",
   "execution_count": 215,
   "id": "cf976b73-ed6b-416b-97e9-4d25c1648b47",
   "metadata": {},
   "outputs": [
    {
     "name": "stdout",
     "output_type": "stream",
     "text": [
      "<class 'pandas.core.frame.DataFrame'>\n",
      "RangeIndex: 98283 entries, 0 to 98282\n",
      "Data columns (total 55 columns):\n",
      " #   Column                     Non-Null Count  Dtype  \n",
      "---  ------                     --------------  -----  \n",
      " 0   Customer_ID                98283 non-null  int32  \n",
      " 1   Age                        98283 non-null  int64  \n",
      " 2   Occupation_1               98283 non-null  int64  \n",
      " 3   Occupation_2               98283 non-null  int64  \n",
      " 4   Occupation_3               98283 non-null  int64  \n",
      " 5   Occupation_4               98283 non-null  int64  \n",
      " 6   Occupation_5               98283 non-null  int64  \n",
      " 7   Occupation_6               98283 non-null  int64  \n",
      " 8   Occupation_7               98283 non-null  int64  \n",
      " 9   Occupation_8               98283 non-null  int64  \n",
      " 10  Occupation_9               98283 non-null  int64  \n",
      " 11  Occupation_10              98283 non-null  int64  \n",
      " 12  Occupation_11              98283 non-null  int64  \n",
      " 13  Occupation_12              98283 non-null  int64  \n",
      " 14  Occupation_13              98283 non-null  int64  \n",
      " 15  Occupation_14              98283 non-null  int64  \n",
      " 16  Occupation_15              98283 non-null  int64  \n",
      " 17  Occupation_16              98283 non-null  int64  \n",
      " 18  Annual_Income              98283 non-null  float64\n",
      " 19  Num_Bank_Accounts          98283 non-null  int64  \n",
      " 20  Num_Credit_Card            98283 non-null  int64  \n",
      " 21  Interest_Rate              98283 non-null  int64  \n",
      " 22  Num_of_Loan                98283 non-null  int64  \n",
      " 23  Delay_from_due_date        98283 non-null  int64  \n",
      " 24  Num_of_Delayed_Payment     98283 non-null  float64\n",
      " 25  Changed_Credit_Limit       98283 non-null  float64\n",
      " 26  Num_Credit_Inquiries       98283 non-null  float64\n",
      " 27  Credit_Mix_1               98283 non-null  int64  \n",
      " 28  Credit_Mix_2               98283 non-null  int64  \n",
      " 29  Credit_Mix_3               98283 non-null  int64  \n",
      " 30  Outstanding_Debt           98283 non-null  float64\n",
      " 31  Credit_Utilization_Ratio   98283 non-null  float64\n",
      " 32  Payment_of_Min_Amount_1    98283 non-null  int64  \n",
      " 33  Payment_of_Min_Amount_2    98283 non-null  int64  \n",
      " 34  Payment_of_Min_Amount_3    98283 non-null  int64  \n",
      " 35  Total_EMI_per_month        98283 non-null  float64\n",
      " 36  Amount_invested_monthly    98283 non-null  float64\n",
      " 37  Payment_Behaviour_1        98283 non-null  int64  \n",
      " 38  Payment_Behaviour_2        98283 non-null  int64  \n",
      " 39  Payment_Behaviour_3        98283 non-null  int64  \n",
      " 40  Payment_Behaviour_4        98283 non-null  int64  \n",
      " 41  Payment_Behaviour_5        98283 non-null  int64  \n",
      " 42  Payment_Behaviour_6        98283 non-null  int64  \n",
      " 43  Monthly_Balance            98283 non-null  float64\n",
      " 44  Credit_Score               98283 non-null  object \n",
      " 45  Credit_History_Age_Months  98283 non-null  float64\n",
      " 46  Debt Consolidation Loan    98283 non-null  int64  \n",
      " 47  Home Equity Loan           98283 non-null  int64  \n",
      " 48  Credit-Builder Loan        98283 non-null  int64  \n",
      " 49  Personal Loan              98283 non-null  int64  \n",
      " 50  Student Loan               98283 non-null  int64  \n",
      " 51  Mortgage Loan              98283 non-null  int64  \n",
      " 52  Payday Loan                98283 non-null  int64  \n",
      " 53  Auto Loan                  98283 non-null  int64  \n",
      " 54  Not Specified              98283 non-null  int64  \n",
      "dtypes: float64(10), int32(1), int64(43), object(1)\n",
      "memory usage: 40.9+ MB\n"
     ]
    }
   ],
   "source": [
    "data.info()"
   ]
  },
  {
   "cell_type": "markdown",
   "id": "c8f30218-c964-4518-84af-1d01f1994839",
   "metadata": {},
   "source": [
    "---"
   ]
  },
  {
   "cell_type": "code",
   "execution_count": 217,
   "id": "e337be34-4e15-4b9b-914c-d11a1369af38",
   "metadata": {},
   "outputs": [
    {
     "data": {
      "text/plain": [
       "Customer_ID      0\n",
       "Age              0\n",
       "Occupation_1     0\n",
       "Occupation_2     0\n",
       "Occupation_3     0\n",
       "                ..\n",
       "Student Loan     0\n",
       "Mortgage Loan    0\n",
       "Payday Loan      0\n",
       "Auto Loan        0\n",
       "Not Specified    0\n",
       "Length: 55, dtype: int64"
      ]
     },
     "execution_count": 217,
     "metadata": {},
     "output_type": "execute_result"
    }
   ],
   "source": [
    "pd.set_option('display.max_row',30)\n",
    "\n",
    "data.isna().sum()"
   ]
  },
  {
   "cell_type": "code",
   "execution_count": 218,
   "id": "32b721f2-d02f-46aa-b903-6ee15cc52a0a",
   "metadata": {},
   "outputs": [
    {
     "data": {
      "text/plain": [
       "(98283, 55)"
      ]
     },
     "execution_count": 218,
     "metadata": {},
     "output_type": "execute_result"
    }
   ],
   "source": [
    "data.shape"
   ]
  },
  {
   "cell_type": "markdown",
   "id": "5ac072e0-bf21-4569-a4e1-513319a233c0",
   "metadata": {},
   "source": [
    "---"
   ]
  },
  {
   "cell_type": "markdown",
   "id": "4921608c-b5ad-42bd-91f7-91319e3c64a2",
   "metadata": {},
   "source": [
    "---"
   ]
  },
  {
   "cell_type": "markdown",
   "id": "4b148b1e-e1bd-43d1-a40d-36c7c8173440",
   "metadata": {},
   "source": [
    "---"
   ]
  },
  {
   "cell_type": "markdown",
   "id": "57821a99-5614-4a0d-b50d-a519f3c33ef0",
   "metadata": {},
   "source": [
    "---"
   ]
  },
  {
   "cell_type": "markdown",
   "id": "a43efbf5-c099-423a-a0b0-41a32d5c5a44",
   "metadata": {},
   "source": [
    "# <b> Spilt Data </b>"
   ]
  },
  {
   "cell_type": "code",
   "execution_count": 479,
   "id": "6a7bdcb7-235a-4455-91d0-c395eb8635b0",
   "metadata": {},
   "outputs": [],
   "source": [
    "x=data.drop(columns=['Credit_Score'])\n",
    "y=data['Credit_Score']"
   ]
  },
  {
   "cell_type": "code",
   "execution_count": 481,
   "id": "247e7109-7a43-46df-8c65-02130fddd0bd",
   "metadata": {},
   "outputs": [
    {
     "data": {
      "text/plain": [
       "51962    Standard\n",
       "69381        Poor\n",
       "54704    Standard\n",
       "64645    Standard\n",
       "62834    Standard\n",
       "           ...   \n",
       "83057        Poor\n",
       "54194        Poor\n",
       "80572        Poor\n",
       "52310        Poor\n",
       "49759        Good\n",
       "Name: Credit_Score, Length: 78626, dtype: object"
      ]
     },
     "execution_count": 481,
     "metadata": {},
     "output_type": "execute_result"
    }
   ],
   "source": [
    "pd.set_option('display.max_row',20)\n",
    "\n",
    "from sklearn.model_selection import train_test_split\n",
    "train_x,test_x,train_y,test_y=train_test_split(x,y,test_size=0.2,random_state=6969)\n",
    "train_y"
   ]
  },
  {
   "cell_type": "markdown",
   "id": "acfdbbd8-9022-4c66-bf22-fab1f168ba49",
   "metadata": {},
   "source": [
    "# <b> Model </b>"
   ]
  },
  {
   "cell_type": "markdown",
   "id": "aa6e6f45-8aec-4270-b3c0-355dbdc1b2d7",
   "metadata": {},
   "source": [
    "### Scaling"
   ]
  },
  {
   "cell_type": "code",
   "execution_count": 485,
   "id": "172226a6-ca43-4299-b606-58934a685cee",
   "metadata": {},
   "outputs": [],
   "source": [
    "from sklearn.preprocessing import RobustScaler\n",
    "scaler=RobustScaler()\n",
    "cols=train_x.columns\n",
    "train_x_robust =scaler.fit_transform(train_x)\n",
    "test_x_robust  =scaler.transform(test_x)"
   ]
  },
  {
   "cell_type": "code",
   "execution_count": 487,
   "id": "82ae48be-0c15-477b-9ad5-1784b727c951",
   "metadata": {},
   "outputs": [],
   "source": [
    "train_x_robust =pd.DataFrame(train_x_robust,columns=[cols])\n",
    "test_x_robust  =pd.DataFrame(test_x_robust,columns=[cols]) "
   ]
  },
  {
   "cell_type": "markdown",
   "id": "1c2bce0e-3494-47f4-9f7b-38b7650edaa4",
   "metadata": {},
   "source": [
    "## RandomForest"
   ]
  },
  {
   "cell_type": "code",
   "execution_count": 489,
   "id": "a096bbc1-8157-47a6-8d07-8753a3a5ea07",
   "metadata": {},
   "outputs": [],
   "source": [
    "from sklearn.ensemble import RandomForestClassifier\n",
    "rfc=RandomForestClassifier(n_estimators=200, random_state=6969)\n",
    "rfc.fit(train_x_robust,train_y)\n",
    "y_pred=rfc.predict(test_x_robust)\n",
    "\n",
    "\n",
    "#150 81.58416848959659\n",
    "#200 81.66047718370046\n",
    "#230 81.58925573587017\n",
    "#240 81.62486645978532\n",
    "#250 81.59943022841736\n",
    "#300 81.57908124332299\n",
    "#400 81.67065167624766"
   ]
  },
  {
   "cell_type": "code",
   "execution_count": 490,
   "id": "45bb3701-50fd-4ae7-9016-36ebd4a6fa4b",
   "metadata": {},
   "outputs": [
    {
     "name": "stdout",
     "output_type": "stream",
     "text": [
      "the Model accuracy is 81.66047718370046% for 400 desicion tree\n"
     ]
    }
   ],
   "source": [
    "from sklearn.metrics import accuracy_score,classification_report\n",
    "\n",
    "print(f\"the Model accuracy is {accuracy_score(test_y,y_pred)*100}% for 400 desicion tree\")"
   ]
  },
  {
   "cell_type": "code",
   "execution_count": 491,
   "id": "1c0685db-a529-4f66-b57c-92d8d9d620a1",
   "metadata": {},
   "outputs": [
    {
     "name": "stdout",
     "output_type": "stream",
     "text": [
      "              precision    recall  f1-score   support\n",
      "\n",
      "        Good       0.78      0.78      0.78      3459\n",
      "        Poor       0.80      0.84      0.82      5714\n",
      "    Standard       0.84      0.82      0.83     10484\n",
      "\n",
      "    accuracy                           0.82     19657\n",
      "   macro avg       0.81      0.81      0.81     19657\n",
      "weighted avg       0.82      0.82      0.82     19657\n",
      "\n"
     ]
    }
   ],
   "source": [
    "print(classification_report(test_y,y_pred))"
   ]
  },
  {
   "cell_type": "code",
   "execution_count": 495,
   "id": "29eda01d-a933-4ce7-89e6-fd3009cf1c01",
   "metadata": {},
   "outputs": [
    {
     "data": {
      "text/plain": [
       "array([0.03342831, 0.03200269, 0.0030002 , 0.00358668, 0.00290934,\n",
       "       0.00298557, 0.00290167, 0.00294349, 0.0029135 , 0.00270213,\n",
       "       0.00289696, 0.00264312, 0.00279545, 0.00290197, 0.00276369,\n",
       "       0.00286835, 0.00265741, 0.00289077, 0.03516993, 0.02402065,\n",
       "       0.03802102, 0.06692705, 0.01993184, 0.05244776, 0.03473643,\n",
       "       0.05080854, 0.03716166, 0.0351983 , 0.04455414, 0.01728844,\n",
       "       0.09008798, 0.04163883, 0.0102427 , 0.00406418, 0.0102651 ,\n",
       "       0.0334543 , 0.04188864, 0.00485053, 0.00450049, 0.00516872,\n",
       "       0.00669631, 0.0060203 , 0.00493808, 0.04412811, 0.05878928,\n",
       "       0.00702411, 0.00706979, 0.0073195 , 0.00724071, 0.00738138,\n",
       "       0.00709122, 0.00727905, 0.007191  , 0.00761263])"
      ]
     },
     "execution_count": 495,
     "metadata": {},
     "output_type": "execute_result"
    }
   ],
   "source": [
    "importance=rfc.feature_importances_\n",
    "importance"
   ]
  },
  {
   "cell_type": "code",
   "execution_count": 497,
   "id": "e70ed1a1-2617-4c17-84dc-eca9ced9b996",
   "metadata": {},
   "outputs": [
    {
     "name": "stdout",
     "output_type": "stream",
     "text": [
      "Occupation_10                0.002643\n",
      "Occupation_15                0.002657\n",
      "Occupation_8                 0.002702\n",
      "Occupation_13                0.002764\n",
      "Occupation_11                0.002795\n",
      "Occupation_14                0.002868\n",
      "Occupation_16                0.002891\n",
      "Occupation_9                 0.002897\n",
      "Occupation_5                 0.002902\n",
      "Occupation_12                0.002902\n",
      "Occupation_3                 0.002909\n",
      "Occupation_7                 0.002914\n",
      "Occupation_6                 0.002943\n",
      "Occupation_4                 0.002986\n",
      "Occupation_1                 0.003000\n",
      "Occupation_2                 0.003587\n",
      "Payment_of_Min_Amount_2      0.004064\n",
      "Payment_Behaviour_2          0.004500\n",
      "Payment_Behaviour_1          0.004851\n",
      "Payment_Behaviour_6          0.004938\n",
      "Payment_Behaviour_3          0.005169\n",
      "Payment_Behaviour_5          0.006020\n",
      "Payment_Behaviour_4          0.006696\n",
      "Debt Consolidation Loan      0.007024\n",
      "Home Equity Loan             0.007070\n",
      "Mortgage Loan                0.007091\n",
      "Auto Loan                    0.007191\n",
      "Personal Loan                0.007241\n",
      "Payday Loan                  0.007279\n",
      "Credit-Builder Loan          0.007319\n",
      "Student Loan                 0.007381\n",
      "Not Specified                0.007613\n",
      "Payment_of_Min_Amount_1      0.010243\n",
      "Payment_of_Min_Amount_3      0.010265\n",
      "Credit_Mix_3                 0.017288\n",
      "Num_of_Loan                  0.019932\n",
      "Num_Bank_Accounts            0.024021\n",
      "Age                          0.032003\n",
      "Customer_ID                  0.033428\n",
      "Total_EMI_per_month          0.033454\n",
      "Num_of_Delayed_Payment       0.034736\n",
      "Annual_Income                0.035170\n",
      "Credit_Mix_1                 0.035198\n",
      "Num_Credit_Inquiries         0.037162\n",
      "Num_Credit_Card              0.038021\n",
      "Credit_Utilization_Ratio     0.041639\n",
      "Amount_invested_monthly      0.041889\n",
      "Monthly_Balance              0.044128\n",
      "Credit_Mix_2                 0.044554\n",
      "Changed_Credit_Limit         0.050809\n",
      "Delay_from_due_date          0.052448\n",
      "Credit_History_Age_Months    0.058789\n",
      "Interest_Rate                0.066927\n",
      "Outstanding_Debt             0.090088\n",
      "dtype: float64\n"
     ]
    }
   ],
   "source": [
    "pd.set_option('display.max_row',None)\n",
    "features_scores=pd.Series(importance,index=train_x.columns).sort_values()\n",
    "print(features_scores)\n"
   ]
  },
  {
   "cell_type": "markdown",
   "id": "96bd25a6-0a0c-4edf-8c3e-9cf622be8b01",
   "metadata": {},
   "source": [
    "## XGBoost"
   ]
  },
  {
   "cell_type": "code",
   "execution_count": 500,
   "id": "985e5a51-e468-4eb1-b1ad-0f570332e4a9",
   "metadata": {},
   "outputs": [],
   "source": [
    "from xgboost import XGBClassifier\n",
    "from sklearn.metrics import confusion_matrix\n"
   ]
  },
  {
   "cell_type": "code",
   "execution_count": 502,
   "id": "457e776e-e632-4c8c-9f77-99d5d7273a98",
   "metadata": {},
   "outputs": [
    {
     "name": "stdout",
     "output_type": "stream",
     "text": [
      "Credit_Score\n",
      "Standard    10484\n",
      "Poor         5714\n",
      "Good         3459\n",
      "Name: count, dtype: int64\n",
      "<class 'pandas.core.series.Series'>\n",
      "Index: 78626 entries, 51962 to 49759\n",
      "Series name: Credit_Score\n",
      "Non-Null Count  Dtype \n",
      "--------------  ----- \n",
      "78626 non-null  object\n",
      "dtypes: object(1)\n",
      "memory usage: 1.2+ MB\n",
      "None\n"
     ]
    }
   ],
   "source": [
    "print(test_y.value_counts())\n",
    "print(train_y.info())"
   ]
  },
  {
   "cell_type": "code",
   "execution_count": 504,
   "id": "9a3c53c9-689b-4d2a-ade2-eff6c1bf088c",
   "metadata": {},
   "outputs": [],
   "source": [
    "test_y = test_y.map({'Good': 2, 'Standard': 1, 'Poor': 0 }) #converting to int\n",
    "train_y = train_y.map({'Good': 2, 'Standard': 1, 'Poor': 0 }) #converting to int"
   ]
  },
  {
   "cell_type": "code",
   "execution_count": 517,
   "id": "9a2676ea-5472-4f24-afff-274faddc2f1f",
   "metadata": {},
   "outputs": [
    {
     "name": "stdout",
     "output_type": "stream",
     "text": [
      "Accuracy Score is 0.80343\n",
      "      0     1     2\n",
      "0  4634   983    97\n",
      "1  1202  8499   783\n",
      "2    19   780  2660\n"
     ]
    }
   ],
   "source": [
    "model = XGBClassifier(max_depth=12,\n",
    "                      n_estimators=400,\n",
    "                      min_child_weight=8, \n",
    "                      subsample=0.8, \n",
    "                      learning_rate =0.02,    \n",
    "                      seed=42)\n",
    "\n",
    "\n",
    "\n",
    "\n",
    "\n",
    "\n",
    "\n",
    "model.fit(train_x_robust, train_y)\n",
    "y_predict = model.predict(test_x_robust)\n",
    "print('Accuracy Score is {:.5}'.format(accuracy_score(test_y, y_predict)))\n",
    "print(pd.DataFrame(confusion_matrix(test_y,y_predict)))\n"
   ]
  },
  {
   "cell_type": "code",
   "execution_count": 513,
   "id": "074c2eef-168e-403c-8709-99d3a843799b",
   "metadata": {},
   "outputs": [
    {
     "name": "stdout",
     "output_type": "stream",
     "text": [
      "              precision    recall  f1-score   support\n",
      "\n",
      "           0       0.79      0.81      0.80      5714\n",
      "           1       0.83      0.81      0.82     10484\n",
      "           2       0.75      0.77      0.76      3459\n",
      "\n",
      "    accuracy                           0.80     19657\n",
      "   macro avg       0.79      0.80      0.79     19657\n",
      "weighted avg       0.80      0.80      0.80     19657\n",
      "\n"
     ]
    }
   ],
   "source": [
    "print(classification_report(test_y,y_predict))"
   ]
  },
  {
   "cell_type": "markdown",
   "id": "2a5e67b2-85d6-4081-805d-cb9b4724f52b",
   "metadata": {},
   "source": [
    "## CatBoost"
   ]
  },
  {
   "cell_type": "code",
   "execution_count": 532,
   "id": "c5a6d514-a284-4279-a5f3-5ab4f3b1bce7",
   "metadata": {},
   "outputs": [],
   "source": [
    "from catboost import CatBoostClassifier"
   ]
  },
  {
   "cell_type": "code",
   "execution_count": null,
   "id": "bd7119be-6983-45bf-b1ef-831f5c837b76",
   "metadata": {},
   "outputs": [
    {
     "name": "stdout",
     "output_type": "stream",
     "text": [
      "0:\tlearn: 0.9745620\ttotal: 9.53s\tremaining: 39m 32s\n",
      "25:\tlearn: 0.4478880\ttotal: 2m 18s\tremaining: 19m 52s\n",
      "50:\tlearn: 0.3220768\ttotal: 4m 22s\tremaining: 17m 3s\n",
      "75:\tlearn: 0.2511485\ttotal: 6m 34s\tremaining: 15m 4s\n",
      "100:\tlearn: 0.1979122\ttotal: 8m 48s\tremaining: 12m 59s\n",
      "125:\tlearn: 0.1600695\ttotal: 11m 6s\tremaining: 10m 56s\n",
      "150:\tlearn: 0.1321311\ttotal: 13m 23s\tremaining: 8m 46s\n",
      "175:\tlearn: 0.1127362\ttotal: 15m 56s\tremaining: 6m 42s\n"
     ]
    }
   ],
   "source": [
    "model = CatBoostClassifier(iterations=250,\n",
    "                           learning_rate=0.2,\n",
    "                           od_type='Iter',\n",
    "                           verbose=25,\n",
    "                           depth=16,\n",
    "                           random_seed=42)\n",
    "\n",
    "model.fit(train_x_robust, train_y)\n",
    "y_predict = model.predict(test_x_robust)\n",
    "print('CatBoost Accuracy Score is {:.5}'.format(accuracy_score(test_y, y_predict)))\n",
    "print(pd.DataFrame(confusion_matrix(test_y,y_predict)))"
   ]
  },
  {
   "cell_type": "code",
   "execution_count": null,
   "id": "2e7f5c86-1b63-4435-b9c2-0785d73ca1ad",
   "metadata": {},
   "outputs": [],
   "source": [
    "print(classification_report(test_y,y_predict))"
   ]
  },
  {
   "cell_type": "markdown",
   "id": "3c201a48-50e6-4375-a3dc-e3a87b7dfeef",
   "metadata": {},
   "source": [
    "# **END**"
   ]
  },
  {
   "cell_type": "markdown",
   "id": "f1a15b9c-3eaa-4e5e-a3ec-5554bbf1c56f",
   "metadata": {},
   "source": [
    "---"
   ]
  },
  {
   "cell_type": "markdown",
   "id": "af05e9f1-1301-4f0d-a135-c847228be3a0",
   "metadata": {},
   "source": [
    "---"
   ]
  },
  {
   "cell_type": "markdown",
   "id": "9933cfc0-9871-477a-b071-a3e3b5695e52",
   "metadata": {},
   "source": [
    "---"
   ]
  }
 ],
 "metadata": {
  "kernelspec": {
   "display_name": "Python 3 (ipykernel)",
   "language": "python",
   "name": "python3"
  },
  "language_info": {
   "codemirror_mode": {
    "name": "ipython",
    "version": 3
   },
   "file_extension": ".py",
   "mimetype": "text/x-python",
   "name": "python",
   "nbconvert_exporter": "python",
   "pygments_lexer": "ipython3",
   "version": "3.11.5"
  }
 },
 "nbformat": 4,
 "nbformat_minor": 5
}
